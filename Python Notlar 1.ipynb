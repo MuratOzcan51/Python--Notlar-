{
 "cells": [
  {
   "cell_type": "code",
   "execution_count": null,
   "metadata": {},
   "outputs": [],
   "source": [
    "def prime(number):\n",
    "    if (number==1):\n",
    "        return False\n",
    "    elif (number ==2):\n",
    "        return True\n",
    "    else:\n",
    "        for i in range(2,number):\n",
    "            if (number%i ==  0):\n",
    "                return False\n",
    "        return True\n",
    "    \n",
    "while True:\n",
    "    number = input(\"Enter Number:\")\n",
    "    if (number ==\"q\"):\n",
    "        print(\"Exit\")\n",
    "        break\n",
    "    else:\n",
    "        number = int(number)\n",
    "        if (prime(number)):\n",
    "            print(number, \" Prime\")\n",
    "            \n",
    "        else:\n",
    "            print(number,\"it is not prime\")"
   ]
  },
  {
   "cell_type": "code",
   "execution_count": 1,
   "metadata": {},
   "outputs": [
    {
     "name": "stdout",
     "output_type": "stream",
     "text": [
      "Hata oluştu\n",
      "Bloklar sona erdi\n"
     ]
    },
    {
     "data": {
      "text/plain": [
       "'\\n \\nÇıktı\\n \\nHata oluştu\\nBloklar sona erdi\\n \\n'"
      ]
     },
     "execution_count": 1,
     "metadata": {},
     "output_type": "execute_result"
    }
   ],
   "source": [
    "try:\n",
    "    \n",
    "    a =  int(\"324234dsadsad\") # Burası ValueError hatası veriyor.\n",
    "    print(\"Program burada\")\n",
    "except: # Hatayı belirtmezsek bütün hatalar bu kısma giriyor.\n",
    "    print(\"Hata oluştu\")  # Burası çalışır.\n",
    "    \n",
    "print(\"Bloklar sona erdi\")\n",
    " \n",
    "\"\"\"\n",
    " \n",
    "Çıktı\n",
    " \n",
    "Hata oluştu\n",
    "Bloklar sona erdi\n",
    " \n",
    "\"\"\""
   ]
  },
  {
   "cell_type": "code",
   "execution_count": 2,
   "metadata": {},
   "outputs": [
    {
     "name": "stdout",
     "output_type": "stream",
     "text": [
      "Sayı1:12\n",
      "Sayı2:0\n",
      "Bir sayı 0'a bölünemez.\n",
      "Her durumda çalışıyorum.\n"
     ]
    }
   ],
   "source": [
    "\n",
    "try:\n",
    "    a = int(input(\"Sayı1:\"))\n",
    "    b = int(input(\"Sayı2:\"))\n",
    "    print(a / b) # Hata burada oluşuyor. ZeroDivisionError'a bloğuna giriyoruz.\n",
    "except ValueError:\n",
    "    print(\"Lütfen inputları doğru girin.\")\n",
    "except ZeroDivisionError:\n",
    "    print(\"Bir sayı 0'a bölünemez.\")\n",
    "finally:\n",
    "    print(\"Her durumda çalışıyorum.\")"
   ]
  },
  {
   "cell_type": "code",
   "execution_count": 3,
   "metadata": {},
   "outputs": [
    {
     "data": {
      "text/plain": [
       "[1, 4, 9, 16, 25, 36, 49, 64, 81]"
      ]
     },
     "execution_count": 3,
     "metadata": {},
     "output_type": "execute_result"
    }
   ],
   "source": [
    "list(map(lambda x : x ** 2, [1,2,3,4,5,6,7,8,9]))"
   ]
  },
  {
   "cell_type": "code",
   "execution_count": 4,
   "metadata": {},
   "outputs": [
    {
     "ename": "NameError",
     "evalue": "name 'liste1' is not defined",
     "output_type": "error",
     "traceback": [
      "\u001b[1;31m---------------------------------------------------------------------------\u001b[0m",
      "\u001b[1;31mNameError\u001b[0m                                 Traceback (most recent call last)",
      "\u001b[1;32m<ipython-input-4-66bb3af92838>\u001b[0m in \u001b[0;36m<module>\u001b[1;34m\u001b[0m\n\u001b[1;32m----> 1\u001b[1;33m \u001b[0mlist\u001b[0m\u001b[1;33m(\u001b[0m\u001b[0mmap\u001b[0m\u001b[1;33m(\u001b[0m\u001b[1;32mlambda\u001b[0m \u001b[0mx\u001b[0m\u001b[1;33m,\u001b[0m\u001b[0my\u001b[0m\u001b[1;33m,\u001b[0m\u001b[0mz\u001b[0m \u001b[1;33m:\u001b[0m \u001b[0mx\u001b[0m \u001b[1;33m*\u001b[0m \u001b[0my\u001b[0m \u001b[1;33m*\u001b[0m \u001b[0mz\u001b[0m \u001b[1;33m,\u001b[0m \u001b[0mliste1\u001b[0m\u001b[1;33m,\u001b[0m\u001b[0mliste2\u001b[0m\u001b[1;33m,\u001b[0m\u001b[0mliste3\u001b[0m\u001b[1;33m)\u001b[0m\u001b[1;33m)\u001b[0m\u001b[1;33m\u001b[0m\u001b[1;33m\u001b[0m\u001b[0m\n\u001b[0m",
      "\u001b[1;31mNameError\u001b[0m: name 'liste1' is not defined"
     ]
    }
   ],
   "source": [
    "list(map(lambda x,y,z : x * y * z , liste1,liste2,liste3))"
   ]
  },
  {
   "cell_type": "code",
   "execution_count": 5,
   "metadata": {},
   "outputs": [],
   "source": [
    "from functools import reduce"
   ]
  },
  {
   "cell_type": "code",
   "execution_count": 6,
   "metadata": {},
   "outputs": [
    {
     "data": {
      "text/plain": [
       "600"
      ]
     },
     "execution_count": 6,
     "metadata": {},
     "output_type": "execute_result"
    }
   ],
   "source": [
    "reduce(lambda x,y : x * y , [3,4,5,10])"
   ]
  },
  {
   "cell_type": "code",
   "execution_count": 7,
   "metadata": {},
   "outputs": [
    {
     "data": {
      "text/plain": [
       "100"
      ]
     },
     "execution_count": 7,
     "metadata": {},
     "output_type": "execute_result"
    }
   ],
   "source": [
    "def maksimum(x,y):\n",
    "    if (x > y):\n",
    "        return x\n",
    "    else:\n",
    "        return y\n",
    "\n",
    "reduce(maksimum, [-2,1,100,35,32])"
   ]
  },
  {
   "cell_type": "code",
   "execution_count": 8,
   "metadata": {},
   "outputs": [],
   "source": [
    "def asal_mi(x):\n",
    "    i = 2\n",
    "    if (x == 1):\n",
    "        return False # Asal değil\n",
    "    elif(x == 2):\n",
    "        return True # Asal sayı\n",
    "    else:\n",
    "        while(i < x):\n",
    "            if (x % i == 0):\n",
    "                return False # Asal Değil\n",
    "            i += 1\n",
    "    return True"
   ]
  },
  {
   "cell_type": "code",
   "execution_count": 9,
   "metadata": {},
   "outputs": [
    {
     "data": {
      "text/plain": [
       "False"
      ]
     },
     "execution_count": 9,
     "metadata": {},
     "output_type": "execute_result"
    }
   ],
   "source": [
    "asal_mi(34)"
   ]
  },
  {
   "cell_type": "code",
   "execution_count": 10,
   "metadata": {},
   "outputs": [
    {
     "data": {
      "text/plain": [
       "[2,\n",
       " 3,\n",
       " 5,\n",
       " 7,\n",
       " 11,\n",
       " 13,\n",
       " 17,\n",
       " 19,\n",
       " 23,\n",
       " 29,\n",
       " 31,\n",
       " 37,\n",
       " 41,\n",
       " 43,\n",
       " 47,\n",
       " 53,\n",
       " 59,\n",
       " 61,\n",
       " 67,\n",
       " 71,\n",
       " 73,\n",
       " 79,\n",
       " 83,\n",
       " 89,\n",
       " 97]"
      ]
     },
     "execution_count": 10,
     "metadata": {},
     "output_type": "execute_result"
    }
   ],
   "source": [
    "list(filter(asal_mi,range(1,100)))"
   ]
  },
  {
   "cell_type": "code",
   "execution_count": 11,
   "metadata": {},
   "outputs": [],
   "source": [
    "liste1 = [1,2,3,4]\n",
    "liste2 = [5,6,7,8]\n",
    "liste3 = [\"Python\",\"Php\",\"Java\",\"Javascript\",\"C\"]"
   ]
  },
  {
   "cell_type": "code",
   "execution_count": 12,
   "metadata": {},
   "outputs": [
    {
     "data": {
      "text/plain": [
       "[(1, 5, 'Python'), (2, 6, 'Php'), (3, 7, 'Java'), (4, 8, 'Javascript')]"
      ]
     },
     "execution_count": 12,
     "metadata": {},
     "output_type": "execute_result"
    }
   ],
   "source": [
    "list(zip(liste1,liste2,liste3))"
   ]
  },
  {
   "cell_type": "code",
   "execution_count": 13,
   "metadata": {},
   "outputs": [
    {
     "name": "stdout",
     "output_type": "stream",
     "text": [
      "1 Python\n",
      "2 Php\n",
      "3 Java\n",
      "4 Javascript\n"
     ]
    }
   ],
   "source": [
    "## Aynı anda iki liste üzerinde gezinmek\n",
    "liste1 = [1,2,3,4]\n",
    "liste2 = [\"Python\",\"Php\",\"Java\",\"Javascript\"]\n",
    "\n",
    "for i,j in zip(liste1,liste2):\n",
    "    print(i,j)"
   ]
  },
  {
   "cell_type": "code",
   "execution_count": 14,
   "metadata": {},
   "outputs": [
    {
     "data": {
      "text/plain": [
       "[(0, 'Elma'), (1, 'Armut'), (2, 'Muz'), (3, 'Kiraz')]"
      ]
     },
     "execution_count": 14,
     "metadata": {},
     "output_type": "execute_result"
    }
   ],
   "source": [
    "liste = [\"Elma\",\"Armut\",\"Muz\",\"Kiraz\"]\n",
    "list(enumerate(liste))"
   ]
  },
  {
   "cell_type": "code",
   "execution_count": 15,
   "metadata": {},
   "outputs": [
    {
     "data": {
      "text/plain": [
       "False"
      ]
     },
     "execution_count": 15,
     "metadata": {},
     "output_type": "execute_result"
    }
   ],
   "source": [
    "liste = [True,False,True,False,True]\n",
    "all(liste)"
   ]
  },
  {
   "cell_type": "code",
   "execution_count": 16,
   "metadata": {},
   "outputs": [
    {
     "data": {
      "text/plain": [
       "True"
      ]
     },
     "execution_count": 16,
     "metadata": {},
     "output_type": "execute_result"
    }
   ],
   "source": [
    "liste = [True,False,True,False,True]\n",
    "any(liste)"
   ]
  },
  {
   "cell_type": "code",
   "execution_count": 1,
   "metadata": {},
   "outputs": [],
   "source": [
    "x = {1,2,3} ### küme\n",
    "x.add(4)"
   ]
  },
  {
   "cell_type": "code",
   "execution_count": 2,
   "metadata": {},
   "outputs": [
    {
     "name": "stdout",
     "output_type": "stream",
     "text": [
      "{1, 2, 3, 4}\n"
     ]
    }
   ],
   "source": [
    "print(x)"
   ]
  },
  {
   "cell_type": "code",
   "execution_count": 3,
   "metadata": {},
   "outputs": [
    {
     "data": {
      "text/plain": [
       "{-2, 3, 10, 100}"
      ]
     },
     "execution_count": 3,
     "metadata": {},
     "output_type": "execute_result"
    }
   ],
   "source": [
    "küme1 = {1,2,3,10,34,100,-2}\n",
    "küme2 = {1,2,23,34,-1}\n",
    "küme1.difference(küme2)"
   ]
  },
  {
   "cell_type": "code",
   "execution_count": 4,
   "metadata": {},
   "outputs": [
    {
     "data": {
      "text/plain": [
       "{1, 2, 34}"
      ]
     },
     "execution_count": 4,
     "metadata": {},
     "output_type": "execute_result"
    }
   ],
   "source": [
    "küme1 = {1,2,3,10,34,100,-2}\n",
    "küme2 = {1,2,23,34,-1}\n",
    "küme1.intersection(küme2)"
   ]
  },
  {
   "cell_type": "code",
   "execution_count": 5,
   "metadata": {},
   "outputs": [
    {
     "data": {
      "text/plain": [
       "True"
      ]
     },
     "execution_count": 5,
     "metadata": {},
     "output_type": "execute_result"
    }
   ],
   "source": [
    "küme1 = {1,2,3}\n",
    "küme2 = {1,2,3,4}\n",
    "küme3 = {5,6,7}\n",
    "küme1.issubset(küme2)"
   ]
  },
  {
   "cell_type": "code",
   "execution_count": 6,
   "metadata": {},
   "outputs": [],
   "source": [
    "liste = [1,2,3,4,5,6,7,8,9]\n",
    "liste.insert(2,\"Python\") # 2.indekse \"Python\" değerini ekliyoruz."
   ]
  },
  {
   "cell_type": "code",
   "execution_count": 7,
   "metadata": {},
   "outputs": [
    {
     "data": {
      "text/plain": [
       "7"
      ]
     },
     "execution_count": 7,
     "metadata": {},
     "output_type": "execute_result"
    }
   ],
   "source": [
    "liste = [1,2,3,4,5,6,7]\n",
    "liste.pop() # Son eleman siliniyor."
   ]
  },
  {
   "cell_type": "code",
   "execution_count": 8,
   "metadata": {},
   "outputs": [],
   "source": [
    "liste = [\"Python\",\"Php\",\"Java\",\"C\"]\n",
    "liste.remove(\"Python\") # Python'ı siliyoruz."
   ]
  },
  {
   "cell_type": "code",
   "execution_count": 9,
   "metadata": {},
   "outputs": [
    {
     "data": {
      "text/plain": [
       "2"
      ]
     },
     "execution_count": 9,
     "metadata": {},
     "output_type": "execute_result"
    }
   ],
   "source": [
    "liste = [1,2,3,4,3,3,5,6,7,8,9]\n",
    "liste.index(3) # 3 elemanı baştan başlayarak 2.indekste"
   ]
  },
  {
   "cell_type": "code",
   "execution_count": 10,
   "metadata": {},
   "outputs": [],
   "source": [
    "liste = [12,-2,3,1,34,100]\n",
    "liste.sort() ## sıralar"
   ]
  },
  {
   "cell_type": "code",
   "execution_count": 12,
   "metadata": {},
   "outputs": [],
   "source": [
    "def fonksiyon(*args,**kwargs):\n",
    "    for i in args:\n",
    "        print(\"Argümanlar:\",i)\n",
    "    print(\"------------------------------\")\n",
    "    for i ,j in kwargs.items():\n",
    "        print(\"Argüman İsmi:\",i,\"Argüman Değeri:\",j)"
   ]
  },
  {
   "cell_type": "code",
   "execution_count": 13,
   "metadata": {},
   "outputs": [
    {
     "name": "stdout",
     "output_type": "stream",
     "text": [
      "Argümanlar: 1\n",
      "Argümanlar: 2\n",
      "Argümanlar: 3\n",
      "Argümanlar: 4\n",
      "Argümanlar: 5\n",
      "Argümanlar: 6\n",
      "Argümanlar: 7\n",
      "------------------------------\n",
      "Argüman İsmi: isim Argüman Değeri: Murat\n",
      "Argüman İsmi: soyisim Argüman Değeri: Coşkun\n",
      "Argüman İsmi: numara Argüman Değeri: 12345\n"
     ]
    }
   ],
   "source": [
    "#devamı\n",
    "fonksiyon(1,2,3,4,5,6,7,isim = \"Murat\",soyisim = \"Coşkun\", numara = 12345)\n"
   ]
  },
  {
   "cell_type": "code",
   "execution_count": 14,
   "metadata": {},
   "outputs": [],
   "source": [
    "def fonksiyon():\n",
    "    def fonksiyon2():\n",
    "        print(\"Küçük fonksiyondan Merhaba\")\n",
    "    print(\"Büyük fonksiyondan Merhaba\")\n",
    "    fonksiyon2()\n",
    "    \n",
    "    #önce içteki sonra dış"
   ]
  },
  {
   "cell_type": "code",
   "execution_count": 15,
   "metadata": {},
   "outputs": [],
   "source": [
    "def fonksiyon(*args): # args : (1,2,3,4,5,6)\n",
    "    \n",
    "    def topla(args): # (1,2,3,4,5,6)\n",
    "        toplam = 0\n",
    "        for i in args:\n",
    "            toplam += i\n",
    "        return toplam\n",
    "    \n",
    "    print(topla(args))"
   ]
  },
  {
   "cell_type": "code",
   "execution_count": 16,
   "metadata": {},
   "outputs": [
    {
     "name": "stdout",
     "output_type": "stream",
     "text": [
      "21\n"
     ]
    }
   ],
   "source": [
    "#devamı\n",
    "fonksiyon(1,2,3,4,5,6)\n"
   ]
  },
  {
   "cell_type": "code",
   "execution_count": 17,
   "metadata": {},
   "outputs": [],
   "source": [
    "def fonksiyon(işlem_adı):\n",
    "    \n",
    "    def toplama(*args):\n",
    "        toplam = 0\n",
    "        for i in args:\n",
    "            toplam += i\n",
    "        return toplam\n",
    "        \n",
    "    def çarpma(*args):\n",
    "        çarpım = 1\n",
    "        for i in args:\n",
    "            çarpım *= i\n",
    "        return çarpım\n",
    "    \n",
    "    if işlem_adı == \"toplama\":\n",
    "        return toplama\n",
    "    else:\n",
    "        return çarpma"
   ]
  },
  {
   "cell_type": "code",
   "execution_count": 18,
   "metadata": {},
   "outputs": [],
   "source": [
    "deneme = fonksiyon(\"toplama\") # deneme artık fonksiyon oldu silse bile deneme kalır"
   ]
  },
  {
   "cell_type": "code",
   "execution_count": 19,
   "metadata": {},
   "outputs": [
    {
     "data": {
      "text/plain": [
       "28"
      ]
     },
     "execution_count": 19,
     "metadata": {},
     "output_type": "execute_result"
    }
   ],
   "source": [
    "deneme(1,2,3,4,5,6,7)\n"
   ]
  },
  {
   "cell_type": "code",
   "execution_count": 20,
   "metadata": {},
   "outputs": [],
   "source": [
    "def toplama(a,b):\n",
    "    return a + b\n",
    "def çıkarma(a,b):\n",
    "    return a-b\n",
    "def çarpma(a,b):\n",
    "    return a * b\n",
    "def bölme(a,b):\n",
    "    return a / b\n",
    "\n",
    "\n",
    "\n",
    "def anafonksiyon(func1,func2,func3,func4,işlem_adı): # Tanımladığımız 4 fonksiyonu da argüman olarak göndereceğiz.\n",
    "    if (işlem_adı == \"toplama\"):\n",
    "        print(func1(3,4))\n",
    "    elif (işlem_adı == \"çıkarma\"):\n",
    "        print(func2(10,3))\n",
    "    elif (işlem_adı == \"çarpma\"):\n",
    "        print(func3(10,3))\n",
    "    elif (işlem_adı == \"bölme\"):\n",
    "        print(func4(10,4))\n",
    "    else:\n",
    "        print(\"Geçersiz işlem adı...\")"
   ]
  },
  {
   "cell_type": "code",
   "execution_count": 21,
   "metadata": {},
   "outputs": [
    {
     "name": "stdout",
     "output_type": "stream",
     "text": [
      "7\n"
     ]
    }
   ],
   "source": [
    "#devamı \n",
    "anafonksiyon(toplama,çıkarma,çarpma,bölme,\"toplama\")\n"
   ]
  },
  {
   "cell_type": "code",
   "execution_count": 33,
   "metadata": {},
   "outputs": [],
   "source": [
    "def küp(*sayı):\n",
    "    a = list()\n",
    "    for i in sayı:\n",
    "        k = 1\n",
    "        i = i*i*i\n",
    "        k *= i \n",
    "        a.append(k)\n",
    "    return a\n",
    "    "
   ]
  },
  {
   "cell_type": "code",
   "execution_count": 34,
   "metadata": {},
   "outputs": [
    {
     "data": {
      "text/plain": [
       "[8]"
      ]
     },
     "execution_count": 34,
     "metadata": {},
     "output_type": "execute_result"
    }
   ],
   "source": [
    "küp(2)"
   ]
  },
  {
   "cell_type": "code",
   "execution_count": 35,
   "metadata": {},
   "outputs": [
    {
     "data": {
      "text/plain": [
       "[8, 27]"
      ]
     },
     "execution_count": 35,
     "metadata": {},
     "output_type": "execute_result"
    }
   ],
   "source": [
    "küp(2,3)"
   ]
  },
  {
   "cell_type": "code",
   "execution_count": 36,
   "metadata": {},
   "outputs": [
    {
     "data": {
      "text/plain": [
       "[8, 8]"
      ]
     },
     "execution_count": 36,
     "metadata": {},
     "output_type": "execute_result"
    }
   ],
   "source": [
    "küp(2,2)"
   ]
  },
  {
   "cell_type": "code",
   "execution_count": 37,
   "metadata": {},
   "outputs": [
    {
     "data": {
      "text/plain": [
       "[8, 64, 125, 300763, 681472, 8, 1]"
      ]
     },
     "execution_count": 37,
     "metadata": {},
     "output_type": "execute_result"
    }
   ],
   "source": [
    "küp(2,4,5,67,88,2,1,)"
   ]
  },
  {
   "cell_type": "code",
   "execution_count": null,
   "metadata": {},
   "outputs": [],
   "source": []
  }
 ],
 "metadata": {
  "kernelspec": {
   "display_name": "Python 3",
   "language": "python",
   "name": "python3"
  },
  "language_info": {
   "codemirror_mode": {
    "name": "ipython",
    "version": 3
   },
   "file_extension": ".py",
   "mimetype": "text/x-python",
   "name": "python",
   "nbconvert_exporter": "python",
   "pygments_lexer": "ipython3",
   "version": "3.7.1"
  }
 },
 "nbformat": 4,
 "nbformat_minor": 2
}
