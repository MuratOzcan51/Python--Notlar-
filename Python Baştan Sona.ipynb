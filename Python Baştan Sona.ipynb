{
 "cells": [
  {
   "cell_type": "code",
   "execution_count": 1,
   "metadata": {},
   "outputs": [
    {
     "data": {
      "text/plain": [
       "2"
      ]
     },
     "execution_count": 1,
     "metadata": {},
     "output_type": "execute_result"
    }
   ],
   "source": [
    "1+1\n"
   ]
  },
  {
   "cell_type": "code",
   "execution_count": 2,
   "metadata": {},
   "outputs": [
    {
     "name": "stdout",
     "output_type": "stream",
     "text": [
      "Selam\n"
     ]
    }
   ],
   "source": [
    "print(\"Selam\")"
   ]
  },
  {
   "cell_type": "code",
   "execution_count": 3,
   "metadata": {},
   "outputs": [
    {
     "data": {
      "text/plain": [
       "22.0"
      ]
     },
     "execution_count": 3,
     "metadata": {},
     "output_type": "execute_result"
    }
   ],
   "source": [
    "53.53 // 2.43   ##tamsayı böler"
   ]
  },
  {
   "cell_type": "code",
   "execution_count": 4,
   "metadata": {},
   "outputs": [],
   "source": [
    "a= \"selamünaleyküm\""
   ]
  },
  {
   "cell_type": "code",
   "execution_count": 5,
   "metadata": {},
   "outputs": [
    {
     "data": {
      "text/plain": [
       "'l'"
      ]
     },
     "execution_count": 5,
     "metadata": {},
     "output_type": "execute_result"
    }
   ],
   "source": [
    "a[2]"
   ]
  },
  {
   "cell_type": "code",
   "execution_count": 6,
   "metadata": {},
   "outputs": [
    {
     "data": {
      "text/plain": [
       "'müna'"
      ]
     },
     "execution_count": 6,
     "metadata": {},
     "output_type": "execute_result"
    }
   ],
   "source": [
    "a[4:8]"
   ]
  },
  {
   "cell_type": "code",
   "execution_count": 7,
   "metadata": {},
   "outputs": [
    {
     "data": {
      "text/plain": [
       "'mükyelanümales'"
      ]
     },
     "execution_count": 7,
     "metadata": {},
     "output_type": "execute_result"
    }
   ],
   "source": [
    " a[::-1]"
   ]
  },
  {
   "cell_type": "code",
   "execution_count": 8,
   "metadata": {},
   "outputs": [
    {
     "data": {
      "text/plain": [
       "14"
      ]
     },
     "execution_count": 8,
     "metadata": {},
     "output_type": "execute_result"
    }
   ],
   "source": [
    "len(a)"
   ]
  },
  {
   "cell_type": "code",
   "execution_count": 9,
   "metadata": {},
   "outputs": [
    {
     "data": {
      "text/plain": [
       "'selamünaleykümselamünaleykümselamünaleyküm'"
      ]
     },
     "execution_count": 9,
     "metadata": {},
     "output_type": "execute_result"
    }
   ],
   "source": [
    "a*3"
   ]
  },
  {
   "cell_type": "code",
   "execution_count": 10,
   "metadata": {},
   "outputs": [
    {
     "data": {
      "text/plain": [
       "43.0"
      ]
     },
     "execution_count": 10,
     "metadata": {},
     "output_type": "execute_result"
    }
   ],
   "source": [
    "a=43\n",
    "float(a)"
   ]
  },
  {
   "cell_type": "code",
   "execution_count": 11,
   "metadata": {},
   "outputs": [
    {
     "data": {
      "text/plain": [
       "34"
      ]
     },
     "execution_count": 11,
     "metadata": {},
     "output_type": "execute_result"
    }
   ],
   "source": [
    "b=34.65\n",
    "int(b)"
   ]
  },
  {
   "cell_type": "code",
   "execution_count": 12,
   "metadata": {},
   "outputs": [],
   "source": [
    "e =str(24354)  #stringe dönüştürür"
   ]
  },
  {
   "cell_type": "code",
   "execution_count": 13,
   "metadata": {},
   "outputs": [
    {
     "data": {
      "text/plain": [
       "5"
      ]
     },
     "execution_count": 13,
     "metadata": {},
     "output_type": "execute_result"
    }
   ],
   "source": [
    "len(e)"
   ]
  },
  {
   "cell_type": "code",
   "execution_count": 14,
   "metadata": {},
   "outputs": [
    {
     "name": "stdout",
     "output_type": "stream",
     "text": [
      "murat\n",
      "özcan\n"
     ]
    }
   ],
   "source": [
    "print(\"murat\\nözcan\")          ##alta geçer"
   ]
  },
  {
   "cell_type": "code",
   "execution_count": 15,
   "metadata": {},
   "outputs": [
    {
     "name": "stdout",
     "output_type": "stream",
     "text": [
      "murat\tözcan\n"
     ]
    }
   ],
   "source": [
    "print(\"murat\\tözcan\")    ## tab kadar boşluk bırakır"
   ]
  },
  {
   "cell_type": "code",
   "execution_count": 16,
   "metadata": {},
   "outputs": [
    {
     "name": "stdout",
     "output_type": "stream",
     "text": [
      "<class 'int'>\n"
     ]
    }
   ],
   "source": [
    "a=3453\n",
    "print(type(a))"
   ]
  },
  {
   "cell_type": "code",
   "execution_count": 17,
   "metadata": {},
   "outputs": [
    {
     "name": "stdout",
     "output_type": "stream",
     "text": [
      "23 / 4575 / 23 / 656\n"
     ]
    }
   ],
   "source": [
    "print(23,4575,23,656,sep=\" / \")      ## araya serper"
   ]
  },
  {
   "cell_type": "code",
   "execution_count": 18,
   "metadata": {},
   "outputs": [
    {
     "name": "stdout",
     "output_type": "stream",
     "text": [
      "S # e # l # a # m\n"
     ]
    }
   ],
   "source": [
    "print(*\"Selam\",sep=\" # \")       ## * boşluk bırakır"
   ]
  },
  {
   "cell_type": "code",
   "execution_count": 19,
   "metadata": {},
   "outputs": [
    {
     "name": "stdout",
     "output_type": "stream",
     "text": [
      "345 ile 235 nın toplamı 580 dır\n"
     ]
    }
   ],
   "source": [
    "a=345\n",
    "b=235\n",
    "print(\"{} ile {} nın toplamı {} dır\".format(a,b,a+b))"
   ]
  },
  {
   "cell_type": "code",
   "execution_count": 20,
   "metadata": {},
   "outputs": [],
   "source": [
    "liste=[\"Fener\",\"Bahçe\",235]"
   ]
  },
  {
   "cell_type": "code",
   "execution_count": 21,
   "metadata": {},
   "outputs": [
    {
     "data": {
      "text/plain": [
       "235"
      ]
     },
     "execution_count": 21,
     "metadata": {},
     "output_type": "execute_result"
    }
   ],
   "source": [
    "liste[2]"
   ]
  },
  {
   "cell_type": "code",
   "execution_count": 22,
   "metadata": {},
   "outputs": [
    {
     "data": {
      "text/plain": [
       "3"
      ]
     },
     "execution_count": 22,
     "metadata": {},
     "output_type": "execute_result"
    }
   ],
   "source": [
    "len(liste)"
   ]
  },
  {
   "cell_type": "code",
   "execution_count": 23,
   "metadata": {},
   "outputs": [
    {
     "name": "stdout",
     "output_type": "stream",
     "text": [
      "['Fener', 'Bahçe', 235, 'Fener', 'Bahçe', 235, 'Fener', 'Bahçe', 235]\n"
     ]
    }
   ],
   "source": [
    "print(liste*3)"
   ]
  },
  {
   "cell_type": "code",
   "execution_count": 24,
   "metadata": {},
   "outputs": [
    {
     "name": "stdout",
     "output_type": "stream",
     "text": [
      "['Fener', 'Bahçe', 235, 23534]\n"
     ]
    }
   ],
   "source": [
    "liste.append(23534)           \n",
    "print(liste)"
   ]
  },
  {
   "cell_type": "code",
   "execution_count": 25,
   "metadata": {},
   "outputs": [
    {
     "name": "stdout",
     "output_type": "stream",
     "text": [
      "['Fener', 'bjk', 'Bahçe', 235, 23534]\n"
     ]
    }
   ],
   "source": [
    "liste.insert(1,\"bjk\")\n",
    "print(liste)"
   ]
  },
  {
   "cell_type": "code",
   "execution_count": 26,
   "metadata": {},
   "outputs": [
    {
     "data": {
      "text/plain": [
       "['Fener', 'bjk']"
      ]
     },
     "execution_count": 26,
     "metadata": {},
     "output_type": "execute_result"
    }
   ],
   "source": [
    "liste[:2]"
   ]
  },
  {
   "cell_type": "code",
   "execution_count": 27,
   "metadata": {},
   "outputs": [
    {
     "name": "stdout",
     "output_type": "stream",
     "text": [
      "['Fener', 2, 'Bahçe', 235, 23534]\n"
     ]
    }
   ],
   "source": [
    "liste[1] = 2      ##liste elemanları değiştirilebilir  \n",
    "print(liste)"
   ]
  },
  {
   "cell_type": "code",
   "execution_count": 28,
   "metadata": {},
   "outputs": [
    {
     "name": "stdout",
     "output_type": "stream",
     "text": [
      "['Fener', 'Bahçe', 235, 23534]\n"
     ]
    }
   ],
   "source": [
    "liste.pop(1)       ### 2.elemanı attı\n",
    "print(liste)"
   ]
  },
  {
   "cell_type": "code",
   "execution_count": 29,
   "metadata": {},
   "outputs": [
    {
     "name": "stdout",
     "output_type": "stream",
     "text": [
      "[63, 324, 523, 534, 34623, 74652142]\n"
     ]
    }
   ],
   "source": [
    "listem=[324,63,523,534,34623,74652142]          ## küçükten büyüğe sıralar\n",
    "listem.sort()\n",
    "print(listem)"
   ]
  },
  {
   "cell_type": "code",
   "execution_count": 30,
   "metadata": {},
   "outputs": [
    {
     "name": "stdout",
     "output_type": "stream",
     "text": [
      "[[243, 44], [432, 745]]\n"
     ]
    }
   ],
   "source": [
    "list=[[243,44],[432,745]]\n",
    "print(list)"
   ]
  },
  {
   "cell_type": "code",
   "execution_count": 31,
   "metadata": {},
   "outputs": [],
   "source": [
    "demet=(1,3,3,3,3,534,1,45,445,6568,6)   ## demetler değiştirilemezler"
   ]
  },
  {
   "cell_type": "code",
   "execution_count": 32,
   "metadata": {},
   "outputs": [
    {
     "data": {
      "text/plain": [
       "4"
      ]
     },
     "execution_count": 32,
     "metadata": {},
     "output_type": "execute_result"
    }
   ],
   "source": [
    "demet.count(3)       ## 3 kaç kere geçiyor"
   ]
  },
  {
   "cell_type": "code",
   "execution_count": 33,
   "metadata": {},
   "outputs": [
    {
     "data": {
      "text/plain": [
       "0"
      ]
     },
     "execution_count": 33,
     "metadata": {},
     "output_type": "execute_result"
    }
   ],
   "source": [
    "demet.index(1)     ## kaçıncı indexte olduğunu söyler"
   ]
  },
  {
   "cell_type": "code",
   "execution_count": 34,
   "metadata": {},
   "outputs": [
    {
     "name": "stdout",
     "output_type": "stream",
     "text": [
      "{'bir': 1, 'iki': 2, 'üç': 4, 'fb': 1907}\n"
     ]
    }
   ],
   "source": [
    "sözlük1={\"bir\":1,\"iki\":2, \"üç\":4  }\n",
    "\n",
    "sözlük1[\"bir\"]   ## 1 yazar \n",
    "\n",
    "sözlük1[\"fb\"]=1907  ## ekler\n",
    "\n",
    "print(sözlük1)\n"
   ]
  },
  {
   "cell_type": "code",
   "execution_count": 35,
   "metadata": {},
   "outputs": [
    {
     "data": {
      "text/plain": [
       "dict_keys(['bir', 'iki', 'üç', 'fb'])"
      ]
     },
     "execution_count": 35,
     "metadata": {},
     "output_type": "execute_result"
    }
   ],
   "source": [
    "sözlük1.keys()"
   ]
  },
  {
   "cell_type": "code",
   "execution_count": 36,
   "metadata": {},
   "outputs": [
    {
     "data": {
      "text/plain": [
       "dict_values([1, 2, 4, 1907])"
      ]
     },
     "execution_count": 36,
     "metadata": {},
     "output_type": "execute_result"
    }
   ],
   "source": [
    "sözlük1.values()"
   ]
  },
  {
   "cell_type": "code",
   "execution_count": 37,
   "metadata": {},
   "outputs": [
    {
     "data": {
      "text/plain": [
       "dict_items([('bir', 1), ('iki', 2), ('üç', 4), ('fb', 1907)])"
      ]
     },
     "execution_count": 37,
     "metadata": {},
     "output_type": "execute_result"
    }
   ],
   "source": [
    "sözlük1.items()"
   ]
  },
  {
   "cell_type": "code",
   "execution_count": 38,
   "metadata": {},
   "outputs": [
    {
     "name": "stdout",
     "output_type": "stream",
     "text": [
      "Sayı giriniz: 5\n",
      "Sayı giriniz: 8\n",
      "5 ile 8 nin toplamı 13 dir\n"
     ]
    }
   ],
   "source": [
    "a = int(input(\"Sayı giriniz: \"))\n",
    "b = int(input(\"Sayı giriniz: \"))\n",
    "\n",
    "c=a+b\n",
    "\n",
    "print(\"{} ile {} nin toplamı {} dir\".format(a,b,a+b))\n"
   ]
  },
  {
   "cell_type": "code",
   "execution_count": 39,
   "metadata": {},
   "outputs": [
    {
     "name": "stdout",
     "output_type": "stream",
     "text": [
      "True\n",
      "False\n",
      "True\n",
      "True\n"
     ]
    }
   ],
   "source": [
    "\n",
    "print(bool(12.4))\n",
    "print(bool(0.0))                   ## 0 ise false dışında true\n",
    "print(bool(121212))\n",
    "print(bool(-1))"
   ]
  },
  {
   "cell_type": "code",
   "execution_count": 40,
   "metadata": {},
   "outputs": [
    {
     "data": {
      "text/plain": [
       "False"
      ]
     },
     "execution_count": 40,
     "metadata": {},
     "output_type": "execute_result"
    }
   ],
   "source": [
    "98 < 32"
   ]
  },
  {
   "cell_type": "code",
   "execution_count": 41,
   "metadata": {},
   "outputs": [
    {
     "data": {
      "text/plain": [
       "True"
      ]
     },
     "execution_count": 41,
     "metadata": {},
     "output_type": "execute_result"
    }
   ],
   "source": [
    "1 < 2 or \"Murat\" != \"Murat\""
   ]
  },
  {
   "cell_type": "code",
   "execution_count": 42,
   "metadata": {},
   "outputs": [
    {
     "data": {
      "text/plain": [
       "False"
      ]
     },
     "execution_count": 42,
     "metadata": {},
     "output_type": "execute_result"
    }
   ],
   "source": [
    "\n",
    "not 2 == 2"
   ]
  },
  {
   "cell_type": "code",
   "execution_count": 43,
   "metadata": {},
   "outputs": [
    {
     "name": "stdout",
     "output_type": "stream",
     "text": [
      "Yaşınızı giriniz:17\n",
      "Bu mekana giremezsiniz.\n"
     ]
    }
   ],
   "source": [
    "yaş = int(input(\"Yaşınızı giriniz:\"))\n",
    " \n",
    "if (yaş < 18):\n",
    "    print(\"Bu mekana giremezsiniz.\")\n",
    "else:\n",
    "    print(\"Girebilirsiniz\")"
   ]
  },
  {
   "cell_type": "code",
   "execution_count": 44,
   "metadata": {},
   "outputs": [
    {
     "name": "stdout",
     "output_type": "stream",
     "text": [
      "İşlem seçiniz:2\n",
      "2. işlem seçildi.\n"
     ]
    }
   ],
   "source": [
    "işlem =  int(input(\"İşlem seçiniz:\")) # 3 tane işlemimiz olsun.\n",
    " \n",
    "if işlem == 1:\n",
    "    print(\"1. işlem seçildi.\")\n",
    "elif işlem == 2:\n",
    "    print(\"2. işlem seçildi.\")\n",
    "elif işlem == 3:\n",
    "    print(\"3. işlem seçildi.\")\n",
    "else:\n",
    "    print(\"Geçersiz İşlem!\")"
   ]
  },
  {
   "cell_type": "code",
   "execution_count": 45,
   "metadata": {},
   "outputs": [
    {
     "name": "stdout",
     "output_type": "stream",
     "text": [
      "Notunuzu giriniz:68\n",
      "DC\n"
     ]
    }
   ],
   "source": [
    "note = float(input(\"Notunuzu giriniz:\"))\n",
    " \n",
    "if note >= 90:\n",
    "    print(\"AA\")\n",
    "elif note >= 85:\n",
    "    print(\"BA\")\n",
    "elif note >= 90:\n",
    "    print(\"BA\")\n",
    "elif note >= 80:                    \n",
    "    print(\"BB\")\n",
    "elif note >= 75:\n",
    "    print(\"CB\")\n",
    "elif note >= 70:\n",
    "    print(\"CC\")\n",
    "elif note >= 65:\n",
    "    print(\"DC\")\n",
    "elif note >= 60:\n",
    "    print(\"DD\")\n",
    "else:\n",
    "    print(\"Dersten Kaldınız\")"
   ]
  },
  {
   "cell_type": "code",
   "execution_count": 46,
   "metadata": {},
   "outputs": [
    {
     "name": "stdout",
     "output_type": "stream",
     "text": [
      "Eleman 10\n",
      "Eleman 11\n",
      "Eleman 12\n",
      "Eleman 13\n",
      "Eleman 14\n",
      "Eleman 15\n",
      "Eleman 16\n",
      "Eleman 17\n",
      "Eleman 18\n",
      "Eleman 19\n"
     ]
    }
   ],
   "source": [
    "liste = [1,2,3,4,5,6,7]\n",
    " \n",
    "for eleman in range(10,20):\n",
    "    print(\"Eleman\",eleman)"
   ]
  },
  {
   "cell_type": "code",
   "execution_count": 47,
   "metadata": {},
   "outputs": [
    {
     "name": "stdout",
     "output_type": "stream",
     "text": [
      "Toplam 28\n"
     ]
    }
   ],
   "source": [
    "liste = [1,2,3,4,5,6,7]\n",
    "toplam = 0\n",
    "for eleman in liste:\n",
    "    toplam += eleman\n",
    "print(\"Toplam\",toplam)"
   ]
  },
  {
   "cell_type": "code",
   "execution_count": 48,
   "metadata": {},
   "outputs": [
    {
     "name": "stdout",
     "output_type": "stream",
     "text": [
      "(1, 2)\n",
      "(3, 4)\n",
      "(5, 6)\n",
      "(7, 8)\n"
     ]
    }
   ],
   "source": [
    "liste = [(1,2),(3,4),(5,6),(7,8)]\n",
    " \n",
    "for eleman in liste:\n",
    "    print(eleman)"
   ]
  },
  {
   "cell_type": "code",
   "execution_count": 49,
   "metadata": {},
   "outputs": [
    {
     "name": "stdout",
     "output_type": "stream",
     "text": [
      "1 2\n",
      "3 4\n",
      "5 6\n",
      "7 8\n"
     ]
    }
   ],
   "source": [
    "liste = [(1,2),(3,4),(5,6),(7,8)]\n",
    " \n",
    "for (i,j) in liste:\n",
    "    print(i,j)"
   ]
  },
  {
   "cell_type": "code",
   "execution_count": 50,
   "metadata": {},
   "outputs": [
    {
     "name": "stdout",
     "output_type": "stream",
     "text": [
      "6\n",
      "120\n",
      "504\n",
      "1320\n"
     ]
    }
   ],
   "source": [
    "liste = [(1,2,3),(4,5,6),(7,8,9),(10,11,12)]\n",
    "for (i,j,k) in liste:\n",
    "    print(i * j * k)"
   ]
  },
  {
   "cell_type": "code",
   "execution_count": 51,
   "metadata": {},
   "outputs": [
    {
     "name": "stdout",
     "output_type": "stream",
     "text": [
      "1\n",
      "2\n",
      "3\n",
      "4\n"
     ]
    }
   ],
   "source": [
    "sözlük = {\"bir\":1,\"iki\":2,\"üç\":3,\"dört\":4}\n",
    " \n",
    "for x in sözlük.values():\n",
    "    print(x)"
   ]
  },
  {
   "cell_type": "code",
   "execution_count": 52,
   "metadata": {},
   "outputs": [
    {
     "name": "stdout",
     "output_type": "stream",
     "text": [
      "190\n"
     ]
    }
   ],
   "source": [
    "i=0\n",
    "toplam=0\n",
    "while(i<20):\n",
    "    toplam +=i\n",
    "    i+=1\n",
    "    \n",
    "    \n",
    "print(toplam)\n",
    "    \n",
    "    "
   ]
  },
  {
   "cell_type": "code",
   "execution_count": 53,
   "metadata": {},
   "outputs": [
    {
     "name": "stdout",
     "output_type": "stream",
     "text": [
      "range(0, 20)\n"
     ]
    }
   ],
   "source": [
    "print(range(0,20))"
   ]
  },
  {
   "cell_type": "code",
   "execution_count": 54,
   "metadata": {},
   "outputs": [
    {
     "name": "stdout",
     "output_type": "stream",
     "text": [
      "5 7 9 11 13 15 17 19\n"
     ]
    }
   ],
   "source": [
    "print(*range(5,20,2))"
   ]
  },
  {
   "cell_type": "code",
   "execution_count": 55,
   "metadata": {},
   "outputs": [
    {
     "name": "stdout",
     "output_type": "stream",
     "text": [
      "* \n",
      "* * \n",
      "* * * \n",
      "* * * * \n",
      "* * * * * \n",
      "* * * * * * \n",
      "* * * * * * * \n",
      "* * * * * * * * \n",
      "* * * * * * * * * \n",
      "* * * * * * * * * * \n",
      "* * * * * * * * * * * \n",
      "* * * * * * * * * * * * \n",
      "* * * * * * * * * * * * * \n",
      "* * * * * * * * * * * * * * \n",
      "* * * * * * * * * * * * * * * \n",
      "* * * * * * * * * * * * * * * * \n",
      "* * * * * * * * * * * * * * * * * \n",
      "* * * * * * * * * * * * * * * * * * \n",
      "* * * * * * * * * * * * * * * * * * * \n"
     ]
    }
   ],
   "source": [
    "for sayı in range(1,20):\n",
    "    print(\"* \" * sayı)"
   ]
  },
  {
   "cell_type": "code",
   "execution_count": 56,
   "metadata": {},
   "outputs": [
    {
     "name": "stdout",
     "output_type": "stream",
     "text": [
      "1\n",
      "2\n",
      "3\n",
      "4\n"
     ]
    }
   ],
   "source": [
    "liste = [1,2,3,4,5,6,7,8,9]\n",
    "for i in liste:\n",
    "    if (i == 5):\n",
    "        \n",
    "        break\n",
    "    print(i)"
   ]
  },
  {
   "cell_type": "code",
   "execution_count": 57,
   "metadata": {},
   "outputs": [
    {
     "name": "stdout",
     "output_type": "stream",
     "text": [
      "i: 1\n",
      "i: 2\n",
      "i: 4\n",
      "i: 6\n",
      "i: 7\n",
      "i: 8\n",
      "i: 9\n"
     ]
    }
   ],
   "source": [
    "liste = [1,2,3,4,5,6,7,8,9] # continue kullanalım.\n",
    "  \n",
    "for i in liste:\n",
    "    if (i == 3 or i == 5):\n",
    "        continue                       ## buraya gelince atlar ve devam eder\n",
    "    print(\"i:\",i)"
   ]
  },
  {
   "cell_type": "code",
   "execution_count": 58,
   "metadata": {},
   "outputs": [
    {
     "name": "stdout",
     "output_type": "stream",
     "text": [
      "[3, 6, 9, 12, 15]\n"
     ]
    }
   ],
   "source": [
    "liste1 = [1,2,3,4,5] # Örnek 1 \n",
    " \n",
    "liste2 = [i*3 for i in liste1] # List Comprehension\n",
    " \n",
    "print(liste2)"
   ]
  },
  {
   "cell_type": "code",
   "execution_count": 59,
   "metadata": {},
   "outputs": [
    {
     "name": "stdout",
     "output_type": "stream",
     "text": [
      "2 ye bölünenler listesi [32, 6, 42, 672, 3652, 32, 56, 682, 432, 12, 32, 54]\n",
      "3 bölünenler listesi [363, 21, 45]\n"
     ]
    }
   ],
   "source": [
    "liste1=[1,32,5,6,42,363,672,3547,235,3652,32,5,56,682,432,12,35,37,43,32,54,53,25,21,45]\n",
    "liste2=[]\n",
    "liste3=[]\n",
    "for i in liste1:\n",
    "    if(i%2==0):\n",
    "        liste2.append(i)\n",
    "    elif(i%3==0):\n",
    "        liste3.append(i)\n",
    "        \n",
    "        \n",
    "print(\"2 ye bölünenler listesi {}\".format(liste2))\n",
    "print(\"3 bölünenler listesi {}\".format(liste3))"
   ]
  },
  {
   "cell_type": "code",
   "execution_count": 60,
   "metadata": {},
   "outputs": [
    {
     "name": "stdout",
     "output_type": "stream",
     "text": [
      "Sayı giriniz: 6\n",
      "720\n"
     ]
    }
   ],
   "source": [
    "faktöriyel=1\n",
    "sayı=int(input(\"Sayı giriniz: \"))\n",
    "if(sayı==0):\n",
    "        print(\"1\")\n",
    "\n",
    "\n",
    "while True:\n",
    "    faktöriyel*=sayı\n",
    "    sayı-=1\n",
    "   \n",
    "    if(sayı==0):\n",
    "        break\n",
    "\n",
    "        \n",
    "    \n",
    "print(faktöriyel)"
   ]
  },
  {
   "cell_type": "code",
   "execution_count": 61,
   "metadata": {},
   "outputs": [],
   "source": [
    "def toplama(a,b,c):                          ##fonksiyon yazma\n",
    "    print(\"Toplamları:\",a+b+c)"
   ]
  },
  {
   "cell_type": "code",
   "execution_count": 62,
   "metadata": {},
   "outputs": [
    {
     "name": "stdout",
     "output_type": "stream",
     "text": [
      "Toplamları: 16\n"
     ]
    }
   ],
   "source": [
    "toplama(3,5,8)"
   ]
  },
  {
   "cell_type": "code",
   "execution_count": 63,
   "metadata": {},
   "outputs": [],
   "source": [
    "def faktoriyel(sayı):\n",
    "    faktoriyel = 1\n",
    "    if (sayı == 0 or sayı == 1):\n",
    "        print(\"Faktoriyel\",faktoriyel)\n",
    "    else:\n",
    "        while (sayı >= 1):\n",
    "            faktoriyel *= sayı\n",
    "            sayı -=1\n",
    "        print(\"Faktoriyel\", faktoriyel)"
   ]
  },
  {
   "cell_type": "code",
   "execution_count": 64,
   "metadata": {},
   "outputs": [
    {
     "name": "stdout",
     "output_type": "stream",
     "text": [
      "Faktoriyel 120\n"
     ]
    }
   ],
   "source": [
    "faktoriyel(5)\n",
    "           "
   ]
  },
  {
   "cell_type": "code",
   "execution_count": 65,
   "metadata": {},
   "outputs": [],
   "source": [
    "def üçleçarp(a):\n",
    "    print(\"1.fonksiyon çalıştı\")\n",
    "    return a*3\n",
    "def ikiyletopla(a):\n",
    "    print(\"2.fonksiyon çalıştı\")\n",
    "    return a + 2\n",
    "def dördeböl(a):\n",
    "    print(\"3.fonksiyon çalıştı\")          ## return dan sonra hiçbir işlem çalışmaz\n",
    "    return a / 4\n",
    "        "
   ]
  },
  {
   "cell_type": "code",
   "execution_count": 66,
   "metadata": {},
   "outputs": [
    {
     "name": "stdout",
     "output_type": "stream",
     "text": [
      "1.fonksiyon çalıştı\n",
      "2.fonksiyon çalıştı\n",
      "3.fonksiyon çalıştı\n",
      "4.25\n"
     ]
    }
   ],
   "source": [
    "print(dördeböl(ikiyletopla(üçleçarp(5))))"
   ]
  },
  {
   "cell_type": "code",
   "execution_count": 67,
   "metadata": {},
   "outputs": [],
   "source": [
    "def toplama(*parametreler): # Artık parametreler değişkenini bir demet gibi kullanabilirim.\n",
    "    toplam =  0\n",
    "    print(\"Parametreler:\",parametreler)\n",
    "    for i in parametreler:\n",
    "        toplam += i\n",
    "    return toplam\n",
    "    "
   ]
  },
  {
   "cell_type": "code",
   "execution_count": 68,
   "metadata": {},
   "outputs": [
    {
     "name": "stdout",
     "output_type": "stream",
     "text": [
      "Parametreler: (3, 5, 234, 35, 314, 5, 234)\n"
     ]
    },
    {
     "data": {
      "text/plain": [
       "830"
      ]
     },
     "execution_count": 68,
     "metadata": {},
     "output_type": "execute_result"
    }
   ],
   "source": [
    "toplama(3,5,234,35,314,5,234)"
   ]
  },
  {
   "cell_type": "code",
   "execution_count": 69,
   "metadata": {},
   "outputs": [],
   "source": [
    "def çarpma(*x):         ## birden fazla değerde\n",
    "    sonuç=1\n",
    "    for i in x:\n",
    "        sonuç *=i\n",
    "    return sonuç"
   ]
  },
  {
   "cell_type": "code",
   "execution_count": 70,
   "metadata": {},
   "outputs": [
    {
     "data": {
      "text/plain": [
       "12"
      ]
     },
     "execution_count": 70,
     "metadata": {},
     "output_type": "execute_result"
    }
   ],
   "source": [
    "çarpma(3,4)"
   ]
  },
  {
   "cell_type": "code",
   "execution_count": 71,
   "metadata": {},
   "outputs": [
    {
     "data": {
      "text/plain": [
       "256"
      ]
     },
     "execution_count": 71,
     "metadata": {},
     "output_type": "execute_result"
    }
   ],
   "source": [
    "çarpma(4,4,4,4)"
   ]
  },
  {
   "cell_type": "code",
   "execution_count": 72,
   "metadata": {},
   "outputs": [],
   "source": [
    "topla = lambda x,y,z : x + y + z"
   ]
  },
  {
   "cell_type": "code",
   "execution_count": 73,
   "metadata": {},
   "outputs": [
    {
     "data": {
      "text/plain": [
       "13"
      ]
     },
     "execution_count": 73,
     "metadata": {},
     "output_type": "execute_result"
    }
   ],
   "source": [
    "topla(3,4,6)"
   ]
  },
  {
   "cell_type": "code",
   "execution_count": 74,
   "metadata": {},
   "outputs": [],
   "source": [
    "ücbölünme = lambda x : x%3==0"
   ]
  },
  {
   "cell_type": "code",
   "execution_count": 75,
   "metadata": {},
   "outputs": [
    {
     "data": {
      "text/plain": [
       "True"
      ]
     },
     "execution_count": 75,
     "metadata": {},
     "output_type": "execute_result"
    }
   ],
   "source": [
    "ücbölünme(6)"
   ]
  },
  {
   "cell_type": "code",
   "execution_count": 76,
   "metadata": {},
   "outputs": [
    {
     "data": {
      "text/plain": [
       "False"
      ]
     },
     "execution_count": 76,
     "metadata": {},
     "output_type": "execute_result"
    }
   ],
   "source": [
    "ücbölünme(8)"
   ]
  },
  {
   "cell_type": "code",
   "execution_count": 77,
   "metadata": {},
   "outputs": [
    {
     "name": "stdout",
     "output_type": "stream",
     "text": [
      "Sayı giriniz: 17\n",
      "Asaldır\n"
     ]
    }
   ],
   "source": [
    "def asal(x):\n",
    "    for i in range(2,x):\n",
    "        if(x%i==0 ):\n",
    "            return False\n",
    "        \n",
    "    return True\n",
    "            \n",
    "while True:\n",
    "    a=int(input(\"Sayı giriniz: \"))\n",
    "    if (asal(a)):\n",
    "        print(\"Asaldır\")\n",
    "    else:\n",
    "        print(\"Değildir\")\n",
    "        \n",
    "    break\n",
    "    \n",
    "        \n",
    "        "
   ]
  },
  {
   "cell_type": "code",
   "execution_count": 78,
   "metadata": {},
   "outputs": [
    {
     "name": "stdout",
     "output_type": "stream",
     "text": [
      "Dik kenarı giriniz: 5\n",
      "Dik kenarı giriniz: 8\n",
      "Hipotenüsü giriniz: 13\n",
      "Pisagor değildir\n"
     ]
    }
   ],
   "source": [
    "def pisagor(x,y,z):\n",
    "    if(z**2 ==(y**2 + x**2)):\n",
    "        return True\n",
    "    return False\n",
    "\n",
    "while True:\n",
    "    a=int(input(\"Dik kenarı giriniz: \"))\n",
    "    b=int(input(\"Dik kenarı giriniz: \"))\n",
    "    c=int(input(\"Hipotenüsü giriniz: \"))\n",
    "    if(pisagor(a,b,c)):\n",
    "        print(\"Üçgen pisagordur\")\n",
    "    else:\n",
    "        print(\"Pisagor değildir\")\n",
    "       \n",
    "    break\n",
    "    "
   ]
  },
  {
   "cell_type": "code",
   "execution_count": 79,
   "metadata": {},
   "outputs": [
    {
     "name": "stdout",
     "output_type": "stream",
     "text": [
      "Doğru sayısını giriniz: 20\n",
      "Yanlış Sayısını giriniz: 5\n",
      "Netiniz= 18.75\n",
      "Daha çok çalış\n"
     ]
    }
   ],
   "source": [
    "def net(x,y):\n",
    "    x=x-(y/4)\n",
    "    if(x>30):\n",
    "        print(\"Netiniz=\",x)\n",
    "        print(\"\\n ******** Tebrikler ********\")\n",
    "        return True\n",
    "    elif(x>20):\n",
    "        print(\"Netiniz=\",x)\n",
    "        return True\n",
    "    else:\n",
    "        print(\"Netiniz=\",x)\n",
    "        return False\n",
    "\n",
    "while True:\n",
    "    a=int(input(\"Doğru sayısını giriniz: \"))\n",
    "    b=int(input(\"Yanlış Sayısını giriniz: \"))\n",
    "    \n",
    "    if(net(a,b)):\n",
    "        print(\"Başarılısınız\")\n",
    "    else:\n",
    "        print(\"Daha çok çalış\")\n",
    "        \n",
    "    break"
   ]
  },
  {
   "cell_type": "code",
   "execution_count": 80,
   "metadata": {},
   "outputs": [],
   "source": [
    "import math"
   ]
  },
  {
   "cell_type": "code",
   "execution_count": 81,
   "metadata": {},
   "outputs": [
    {
     "name": "stdout",
     "output_type": "stream",
     "text": [
      "1.0\n"
     ]
    }
   ],
   "source": [
    "print(math.cos(0))"
   ]
  },
  {
   "cell_type": "code",
   "execution_count": 82,
   "metadata": {},
   "outputs": [],
   "source": [
    "import math as matematik"
   ]
  },
  {
   "cell_type": "code",
   "execution_count": 83,
   "metadata": {},
   "outputs": [
    {
     "name": "stdout",
     "output_type": "stream",
     "text": [
      "720\n"
     ]
    }
   ],
   "source": [
    "print(matematik.factorial(6))"
   ]
  },
  {
   "cell_type": "code",
   "execution_count": 84,
   "metadata": {},
   "outputs": [
    {
     "name": "stdout",
     "output_type": "stream",
     "text": [
      "612\n"
     ]
    }
   ],
   "source": [
    "import random\n",
    "a=random.randint(1,999)\n",
    "print(a)\n",
    "\n"
   ]
  },
  {
   "cell_type": "code",
   "execution_count": 85,
   "metadata": {},
   "outputs": [
    {
     "name": "stdout",
     "output_type": "stream",
     "text": [
      "0 ile 150 arasında bir sayı girin: 85\n",
      "Daha düşük\n",
      "7 hakkınız kaldı\n",
      "0 ile 150 arasında bir sayı girin: 20\n",
      "Daha düşük\n",
      "6 hakkınız kaldı\n",
      "0 ile 150 arasında bir sayı girin: 15\n",
      "Daha büyük\n",
      "5 hakkınız kaldı\n",
      "0 ile 150 arasında bir sayı girin: 18\n",
      "Daha düşük\n",
      "4 hakkınız kaldı\n",
      "DİKKAT AZ HAKKIN KALDI !!!!!!!\n",
      "0 ile 150 arasında bir sayı girin: 17\n",
      "Daha düşük\n",
      "3 hakkınız kaldı\n",
      "DİKKAT AZ HAKKIN KALDI !!!!!!!\n",
      "0 ile 150 arasında bir sayı girin: 16\n",
      "Tebrikler Buldunuz\n"
     ]
    }
   ],
   "source": [
    "import random\n",
    "a=random.randint(0,150)\n",
    "i=8\n",
    "\n",
    "\n",
    "\n",
    "while True:\n",
    "    b=int(input(\"0 ile 150 arasında bir sayı girin: \"))\n",
    "    \n",
    "   \n",
    "    \n",
    "    if(a==b):\n",
    "        print(\"Tebrikler Buldunuz\")\n",
    "        break\n",
    "    elif(a<b):\n",
    "        print(\"Daha düşük\")\n",
    "        i-= 1\n",
    "        print(\"{} hakkınız kaldı\".format(i))\n",
    "    else:\n",
    "        print(\"Daha büyük\")\n",
    "        i-=1\n",
    "        print(\"{} hakkınız kaldı\".format(i))\n",
    "        \n",
    "    if(i==0):\n",
    "        print(\"Sayı {} idi\".format(a))\n",
    "        print(\"\\n Oyun Sona Erdi\")\n",
    "        break\n",
    "    elif(i<5):\n",
    "        print(\"DİKKAT AZ HAKKIN KALDI !!!!!!!\")\n",
    "\n",
    "\n"
   ]
  },
  {
   "cell_type": "code",
   "execution_count": 86,
   "metadata": {},
   "outputs": [],
   "source": [
    "class Araba():\n",
    "    model =  \"Renault Megane\"\n",
    "    renk = \"Gümüş\"            # Sınıfımızın özellikleri (attributes)\n",
    "    beygir_gücü = 110\n",
    "    silindir = 4"
   ]
  },
  {
   "cell_type": "code",
   "execution_count": 87,
   "metadata": {},
   "outputs": [],
   "source": [
    "araba1=Araba()"
   ]
  },
  {
   "cell_type": "code",
   "execution_count": 88,
   "metadata": {},
   "outputs": [
    {
     "data": {
      "text/plain": [
       "'Renault Megane'"
      ]
     },
     "execution_count": 88,
     "metadata": {},
     "output_type": "execute_result"
    }
   ],
   "source": [
    "araba1.model"
   ]
  },
  {
   "cell_type": "code",
   "execution_count": 89,
   "metadata": {},
   "outputs": [
    {
     "data": {
      "text/plain": [
       "110"
      ]
     },
     "execution_count": 89,
     "metadata": {},
     "output_type": "execute_result"
    }
   ],
   "source": [
    "araba1.beygir_gücü"
   ]
  },
  {
   "cell_type": "raw",
   "metadata": {},
   "source": []
  },
  {
   "cell_type": "raw",
   "metadata": {},
   "source": []
  },
  {
   "cell_type": "code",
   "execution_count": 90,
   "metadata": {},
   "outputs": [],
   "source": [
    "class Araba():\n",
    "    \n",
    "    def __init__(self,model,renk,beygir_gücü,silindir): # Parametrelerimizin değerlerini objelerimizi oluştururken göndereceğiz.\n",
    "        self.model =  model # self.özellik_ismi = parametre değeri şeklinde objemizin model özelliğine değeri atıyoruz.\n",
    "        self.renk = renk # self.özellik_ismi = parametre değeri şeklinde objemizin renk özelliğine değeri atıyoruz.\n",
    "        self.beygir_gücü = beygir_gücü # self.özellik_ismi = parametre değeri şeklinde objemizin beygir_gücü özelliğine değeri atıyoruz.\n",
    "        self.silindir = silindir # self.özellik_ismi = parametre değeri şeklinde objemizin silndir özelliğine değeri atıyoruz."
   ]
  },
  {
   "cell_type": "code",
   "execution_count": 91,
   "metadata": {},
   "outputs": [],
   "source": [
    "araba1 = Araba(\"Peugeot 301\",\"Beyaz\",90,4) "
   ]
  },
  {
   "cell_type": "code",
   "execution_count": 92,
   "metadata": {},
   "outputs": [
    {
     "data": {
      "text/plain": [
       "'Peugeot 301'"
      ]
     },
     "execution_count": 92,
     "metadata": {},
     "output_type": "execute_result"
    }
   ],
   "source": [
    "araba1.model"
   ]
  },
  {
   "cell_type": "code",
   "execution_count": 93,
   "metadata": {},
   "outputs": [],
   "source": [
    "class Araba():\n",
    "    \n",
    "    def __init__(self , model = \"Bilgi Yok\",renk = \"Bilgi Yok\",beygir_gücü = 75 ,silindir = 4): \n",
    "        self.model =  model \n",
    "        self.renk = renk \n",
    "        self.beygir_gücü = beygir_gücü \n",
    "        self.silindir = silindir"
   ]
  },
  {
   "cell_type": "code",
   "execution_count": 94,
   "metadata": {},
   "outputs": [],
   "source": [
    "araba1 = Araba(beygir_gücü = 85, renk = \"Siyah\")"
   ]
  },
  {
   "cell_type": "code",
   "execution_count": 96,
   "metadata": {},
   "outputs": [],
   "source": [
    "araba1 = Araba(model=\"Fiat\")\n"
   ]
  },
  {
   "cell_type": "code",
   "execution_count": 97,
   "metadata": {},
   "outputs": [],
   "source": [
    "\n",
    "class Çalışan():\n",
    "    def __init__(self,isim,maaş,departman):\n",
    "        print(\"Çalışan sınıfının init fonksiyonu\")\n",
    "        self.isim = isim\n",
    "        self.maaş = maaş\n",
    "        self.departman = departman\n",
    "    def bilgilerigoster(self):\n",
    "        \n",
    "        print(\"Çalışan sınıfının bilgileri.....\")\n",
    "        \n",
    "        print(\"İsim : {} \\nMaaş: {} \\nDepartman: {}\\n\".format(self.isim,self.maaş,self.departman))\n",
    "    def departman_degistir(self,yeni_departman):\n",
    "        print(\"Departman değişiyor....\")\n",
    "        self.departman = yeni_departman"
   ]
  },
  {
   "cell_type": "code",
   "execution_count": 98,
   "metadata": {},
   "outputs": [],
   "source": [
    "class Yönetici(Çalışan): # Çalışan sınıfından miras alıyoruz.\n",
    "    pass # Pass Deyimi bir bloğu sonradan tanımlamak istediğimizde kullanılan bir de"
   ]
  },
  {
   "cell_type": "code",
   "execution_count": 99,
   "metadata": {},
   "outputs": [
    {
     "name": "stdout",
     "output_type": "stream",
     "text": [
      "Çalışan sınıfının init fonksiyonu\n"
     ]
    }
   ],
   "source": [
    "\n",
    "yönetici1 = Yönetici(\"Mehmet Baltacı\",3000,\"İnsan Kaynakları\")"
   ]
  },
  {
   "cell_type": "code",
   "execution_count": 100,
   "metadata": {},
   "outputs": [
    {
     "name": "stdout",
     "output_type": "stream",
     "text": [
      "Çalışan sınıfının bilgileri.....\n",
      "İsim : Mehmet Baltacı \n",
      "Maaş: 3000 \n",
      "Departman: İnsan Kaynakları\n",
      "\n"
     ]
    }
   ],
   "source": [
    "yönetici1.bilgilerigoster()"
   ]
  },
  {
   "cell_type": "code",
   "execution_count": 101,
   "metadata": {},
   "outputs": [],
   "source": [
    "\n",
    "class Yönetici(Çalışan):\n",
    "    def zam_yap(self,zam_miktarı):\n",
    "        print(\"Maaşa zam yapılıyor....\")\n",
    "        self.maaş += zam_miktarı  "
   ]
  },
  {
   "cell_type": "code",
   "execution_count": 102,
   "metadata": {},
   "outputs": [
    {
     "name": "stdout",
     "output_type": "stream",
     "text": [
      "Çalışan sınıfının init fonksiyonu\n"
     ]
    }
   ],
   "source": [
    "\n",
    "yönetici1 = Yönetici(\"Mehmet Baltacı\",3000,\"İnsan Kaynakları\")"
   ]
  },
  {
   "cell_type": "code",
   "execution_count": 103,
   "metadata": {},
   "outputs": [
    {
     "name": "stdout",
     "output_type": "stream",
     "text": [
      "Maaşa zam yapılıyor....\n"
     ]
    }
   ],
   "source": [
    "yönetici1.zam_yap(500)"
   ]
  },
  {
   "cell_type": "code",
   "execution_count": 104,
   "metadata": {},
   "outputs": [
    {
     "name": "stdout",
     "output_type": "stream",
     "text": [
      "Çalışan sınıfının bilgileri.....\n",
      "İsim : Mehmet Baltacı \n",
      "Maaş: 3500 \n",
      "Departman: İnsan Kaynakları\n",
      "\n"
     ]
    }
   ],
   "source": [
    "yönetici1.bilgilerigoster()"
   ]
  },
  {
   "cell_type": "code",
   "execution_count": 105,
   "metadata": {},
   "outputs": [],
   "source": [
    "class takım():\n",
    "    def __init__(self,isim,kuruluş,renk,sampiyonluk):\n",
    "        self.isim=isim\n",
    "        self.kuruluş=kuruluş\n",
    "        self.renk=renk\n",
    "        self.sampiyonluk=sampiyonluk\n",
    "        \n",
    "    def   bilgiler(self):\n",
    "        print(\"Takım adı: {} \\n Takım Kuruluşu {} \\n Takım renk {} \\n Takım Şampiyonluk {}\".format(self.isim,self.kuruluş,self.renk,self.sampiyonluk))"
   ]
  },
  {
   "cell_type": "code",
   "execution_count": 106,
   "metadata": {},
   "outputs": [],
   "source": [
    "Fener=takım(\"Fenerbahçe\",1907,\"Sarı Laci\",19)"
   ]
  },
  {
   "cell_type": "code",
   "execution_count": 107,
   "metadata": {},
   "outputs": [
    {
     "name": "stdout",
     "output_type": "stream",
     "text": [
      "Takım adı: Fenerbahçe \n",
      " Takım Kuruluşu 1907 \n",
      " Takım renk Sarı Laci \n",
      " Takım Şampiyonluk 19\n"
     ]
    }
   ],
   "source": [
    "Fener.bilgiler()"
   ]
  },
  {
   "cell_type": "code",
   "execution_count": 108,
   "metadata": {},
   "outputs": [],
   "source": [
    "del Fener    ## siler"
   ]
  },
  {
   "cell_type": "code",
   "execution_count": 109,
   "metadata": {},
   "outputs": [
    {
     "name": "stdout",
     "output_type": "stream",
     "text": [
      "Hata oluştu\n",
      "Bloklar sona erdi\n"
     ]
    }
   ],
   "source": [
    "try:\n",
    "    \n",
    "    a =  int(\"324234dsadsad\") # Burası ValueError hatası veriyor.\n",
    "    print(\"Program burada\")\n",
    "except: # Hatayı belirtmezsek bütün hatalar bu kısma giriyor.\n",
    "    print(\"Hata oluştu\")  # Burası çalışır.\n",
    "    \n",
    "print(\"Bloklar sona erdi\")"
   ]
  },
  {
   "cell_type": "code",
   "execution_count": 110,
   "metadata": {},
   "outputs": [
    {
     "name": "stdout",
     "output_type": "stream",
     "text": [
      "string girdiniz sayı girin\n",
      "Bloklar sona erdi\n"
     ]
    }
   ],
   "source": [
    "try:\n",
    "    \n",
    "    a =  int(\"dfbfdn\") # Burası normal çalışıyor\n",
    "    print(\"Program burada\")\n",
    "except ValueError: # Hatayı belirtirsek ValueError hatası bu kısma giriyor.\n",
    "    print(\"string girdiniz sayı girin\") # Hata olmadığı için çalışmadı.\n",
    "    \n",
    "print(\"Bloklar sona erdi\")"
   ]
  },
  {
   "cell_type": "code",
   "execution_count": 111,
   "metadata": {},
   "outputs": [
    {
     "ename": "ValueError",
     "evalue": "invalid literal for int() with base 10: 'dfbfdn'",
     "output_type": "error",
     "traceback": [
      "\u001b[1;31m---------------------------------------------------------------------------\u001b[0m",
      "\u001b[1;31mValueError\u001b[0m                                Traceback (most recent call last)",
      "\u001b[1;32m<ipython-input-111-a0fe8e09f08d>\u001b[0m in \u001b[0;36m<module>\u001b[1;34m\u001b[0m\n\u001b[1;32m----> 1\u001b[1;33m \u001b[0ma\u001b[0m \u001b[1;33m=\u001b[0m  \u001b[0mint\u001b[0m\u001b[1;33m(\u001b[0m\u001b[1;34m\"dfbfdn\"\u001b[0m\u001b[1;33m)\u001b[0m\u001b[1;33m\u001b[0m\u001b[1;33m\u001b[0m\u001b[0m\n\u001b[0m",
      "\u001b[1;31mValueError\u001b[0m: invalid literal for int() with base 10: 'dfbfdn'"
     ]
    }
   ],
   "source": [
    "a =  int(\"dfbfdn\")\n"
   ]
  },
  {
   "cell_type": "code",
   "execution_count": 112,
   "metadata": {},
   "outputs": [
    {
     "name": "stdout",
     "output_type": "stream",
     "text": [
      "Sayı1:5\n",
      "Sayı2:0\n",
      "Bir sayı 0'a bölünemez.\n"
     ]
    }
   ],
   "source": [
    "try:\n",
    "    a = int(input(\"Sayı1:\"))\n",
    "    b = int(input(\"Sayı2:\")) # Hata burada oluşuyor. ValueError'a bloğuna giriyoruz. \n",
    "    print(a / b)\n",
    "except ValueError:\n",
    "    print(\"Lütfen inputları doğru girin.\")\n",
    "except ZeroDivisionError:\n",
    "    print(\"Bir sayı 0'a bölünemez.\")"
   ]
  },
  {
   "cell_type": "code",
   "execution_count": 113,
   "metadata": {},
   "outputs": [
    {
     "name": "stdout",
     "output_type": "stream",
     "text": [
      "Sayı1:dsvdsv\n",
      "Lütfen inputları doğru girin.\n",
      "Her durumda çalışıyorum.\n"
     ]
    }
   ],
   "source": [
    "try:\n",
    "    a = int(input(\"Sayı1:\"))\n",
    "    b = int(input(\"Sayı2:\"))\n",
    "    print(a / b) # Hata burada oluşuyor. ZeroDivisionError'a bloğuna giriyoruz.\n",
    "except ValueError:\n",
    "    print(\"Lütfen inputları doğru girin.\")\n",
    "except ZeroDivisionError:\n",
    "    print(\"Bir sayı 0'a bölünemez.\")\n",
    "finally:\n",
    "    print(\"Her durumda çalışıyorum.\")      ## her şekilde çalışır"
   ]
  },
  {
   "cell_type": "code",
   "execution_count": 114,
   "metadata": {},
   "outputs": [
    {
     "data": {
      "text/plain": [
       "<_io.TextIOWrapper name='bilgiler.txt' mode='w' encoding='cp1254'>"
      ]
     },
     "execution_count": 114,
     "metadata": {},
     "output_type": "execute_result"
    }
   ],
   "source": [
    "open(\"bilgiler.txt\",\"w\")   ##bulunduğun dizinde açar. Varsa yeniden oluşturur DİKKAT"
   ]
  },
  {
   "cell_type": "code",
   "execution_count": 117,
   "metadata": {},
   "outputs": [],
   "source": [
    "\n",
    "file = open(\"bilgiler.txt\",\"w\",encoding=\"utf-8\") # Türkçe karakter kullanacaksak encoding=\"utf-8\" parametresini veriyoruz.\n",
    "file.write(\"Murat Özcan\") # write fonksiyonu ile dosyamıza yazıyoruz. 20 bytelık yani 20 karakter yazıldı.\n",
    " \n",
    "file.close()        ## kapatmayı unutma"
   ]
  },
  {
   "cell_type": "code",
   "execution_count": 118,
   "metadata": {},
   "outputs": [],
   "source": [
    "\n",
    "file = open(\"bilgiler.txt\",\"a\",encoding=\"utf-8\")\n",
    "file.write(\"Mehmet Gençol\") # Dosyanın sonuna ekleme yaptık.\n",
    "file.close()"
   ]
  },
  {
   "cell_type": "code",
   "execution_count": 119,
   "metadata": {},
   "outputs": [
    {
     "ename": "FileNotFoundError",
     "evalue": "[Errno 2] No such file or directory: 'bilgiler2.txt'",
     "output_type": "error",
     "traceback": [
      "\u001b[1;31m---------------------------------------------------------------------------\u001b[0m",
      "\u001b[1;31mFileNotFoundError\u001b[0m                         Traceback (most recent call last)",
      "\u001b[1;32m<ipython-input-119-2104eb8d26de>\u001b[0m in \u001b[0;36m<module>\u001b[1;34m\u001b[0m\n\u001b[0;32m      1\u001b[0m \u001b[1;33m\u001b[0m\u001b[0m\n\u001b[1;32m----> 2\u001b[1;33m \u001b[0mfile\u001b[0m \u001b[1;33m=\u001b[0m \u001b[0mopen\u001b[0m\u001b[1;33m(\u001b[0m\u001b[1;34m\"bilgiler2.txt\"\u001b[0m\u001b[1;33m,\u001b[0m\u001b[1;34m\"r\"\u001b[0m\u001b[1;33m,\u001b[0m\u001b[0mencoding\u001b[0m\u001b[1;33m=\u001b[0m\u001b[1;34m\"utf-8\"\u001b[0m\u001b[1;33m)\u001b[0m\u001b[1;33m\u001b[0m\u001b[1;33m\u001b[0m\u001b[0m\n\u001b[0m",
      "\u001b[1;31mFileNotFoundError\u001b[0m: [Errno 2] No such file or directory: 'bilgiler2.txt'"
     ]
    }
   ],
   "source": [
    "\n",
    "file = open(\"bilgiler2.txt\",\"r\",encoding=\"utf-8\")"
   ]
  },
  {
   "cell_type": "code",
   "execution_count": 120,
   "metadata": {},
   "outputs": [
    {
     "name": "stdout",
     "output_type": "stream",
     "text": [
      "Dosya Bulunamadı....\n"
     ]
    }
   ],
   "source": [
    "try:\n",
    "    file = open(\"bilgiler2.txt\",\"r\",encoding= \"utf-8\")\n",
    "except FileNotFoundError:\n",
    "    print(\"Dosya Bulunamadı....\")"
   ]
  },
  {
   "cell_type": "code",
   "execution_count": 121,
   "metadata": {},
   "outputs": [
    {
     "name": "stdout",
     "output_type": "stream",
     "text": [
      "Murat ÖzcanMehmet Gençol\n"
     ]
    }
   ],
   "source": [
    "file = open(\"bilgiler.txt\",\"r\",encoding= \"utf-8\") # Dosyayı okuma kipiyle açıyoruz. Türkçe karaktere dikkat.\n",
    " \n",
    "for i in file: # Tıpkı listeler gibi dosyanın her bir satırı üzerinde geziniyoruz.\n",
    "    print(i) # Her bir satırı ekrana basıyoruz.\n",
    "file.close()"
   ]
  },
  {
   "cell_type": "code",
   "execution_count": 122,
   "metadata": {},
   "outputs": [
    {
     "name": "stdout",
     "output_type": "stream",
     "text": [
      "Dosya İçeriği:\n",
      "Murat ÖzcanMehmet Gençol\n"
     ]
    }
   ],
   "source": [
    "file = open(\"bilgiler.txt\",\"r\",encoding=\"utf-8\")\n",
    " \n",
    "icerik = file.read() \n",
    " \n",
    "print(\"Dosya İçeriği:\\n\",icerik,sep =\"\")\n",
    " \n",
    "file.close()"
   ]
  },
  {
   "cell_type": "code",
   "execution_count": 123,
   "metadata": {},
   "outputs": [
    {
     "name": "stdout",
     "output_type": "stream",
     "text": [
      "Murat ÖzcanMehmet Gençol\n",
      "\n",
      "\n",
      "\n",
      "\n"
     ]
    }
   ],
   "source": [
    "file = open(\"bilgiler.txt\",\"r\",encoding=\"utf-8\")\n",
    "print(file.readline())\n",
    "print(file.readline())              ## sadece 1 satır okur\n",
    "print(file.readline())\n",
    "print(file.readline())\n",
    "print(file.readline()) # Okuyacak herhangi bir şey kalmayınca readline fonksiyonu boş string döner.\n",
    " \n",
    "file.close()"
   ]
  },
  {
   "cell_type": "code",
   "execution_count": 124,
   "metadata": {},
   "outputs": [],
   "source": [
    "file = open(\"bilgiler.txt\",\"r\",encoding=\"utf-8\")\n",
    " \n",
    "file.readlines()         ##readlines() fonksiyonu dosyanın bütün satırları bir liste şeklinde döner.\n",
    " \n",
    "file.close()"
   ]
  },
  {
   "cell_type": "code",
   "execution_count": 125,
   "metadata": {},
   "outputs": [
    {
     "name": "stdout",
     "output_type": "stream",
     "text": [
      "0\n"
     ]
    }
   ],
   "source": [
    "with open(\"bilgiler.txt\",\"r\",encoding = \"utf-8\") as file:\n",
    "    print(file.tell())    ## okuduğu yer kaçıncı byte da oluduğunu söyler"
   ]
  },
  {
   "cell_type": "code",
   "execution_count": 126,
   "metadata": {},
   "outputs": [
    {
     "name": "stdout",
     "output_type": "stream",
     "text": [
      "20\n"
     ]
    }
   ],
   "source": [
    "with open(\"bilgiler.txt\",\"r\",encoding = \"utf-8\") as file:\n",
    "    file.seek(20) # 20.byte götürdük.\n",
    "    print(file.tell())"
   ]
  },
  {
   "cell_type": "code",
   "execution_count": 127,
   "metadata": {},
   "outputs": [
    {
     "name": "stdout",
     "output_type": "stream",
     "text": [
      " ÖzcanMehm\n",
      "16\n"
     ]
    }
   ],
   "source": [
    "with open(\"bilgiler.txt\",\"r\",encoding = \"utf-8\") as file:\n",
    "    file.seek(5) # 5.byte gidiyoruz.\n",
    "    icerik = file.read(10)  # 10 karakteri okuyoruz.\n",
    "    print(icerik)\n",
    "    print(file.tell())"
   ]
  },
  {
   "cell_type": "code",
   "execution_count": 128,
   "metadata": {},
   "outputs": [
    {
     "name": "stdout",
     "output_type": "stream",
     "text": [
      " ÖzcanMehm\n",
      "Murat \n"
     ]
    }
   ],
   "source": [
    "with open(\"bilgiler.txt\",\"r\",encoding = \"utf-8\") as file:\n",
    "    file.seek(5) # 5.byte gidiyoruz.\n",
    "    icerik = file.read(10)  # 10 karakteri okuyoruz.\n",
    "    print(icerik)\n",
    "    file.seek(0)\n",
    "    icerik2 = file.read(6)\n",
    "    print(icerik2)"
   ]
  },
  {
   "cell_type": "code",
   "execution_count": 129,
   "metadata": {},
   "outputs": [
    {
     "name": "stdout",
     "output_type": "stream",
     "text": [
      "Murat ÖzcanMehmet Gençol\n"
     ]
    }
   ],
   "source": [
    "with open(\"bilgiler.txt\",\"r+\",encoding = \"utf-8\") as file:         ## r+ hem okur hem yazar\n",
    "    print(file.read())                  "
   ]
  },
  {
   "cell_type": "code",
   "execution_count": 130,
   "metadata": {},
   "outputs": [],
   "source": [
    "with open(\"bilgiler.txt\",\"r+\",encoding = \"utf-8\") as file: \n",
    "    file.seek(10) # 10. byte git deneme yaz\n",
    "    file.write(\"Deneme\")"
   ]
  },
  {
   "cell_type": "code",
   "execution_count": 131,
   "metadata": {},
   "outputs": [
    {
     "name": "stdout",
     "output_type": "stream",
     "text": [
      "Murat ÖzcDenemeet Gençol\n"
     ]
    }
   ],
   "source": [
    "with open(\"bilgiler.txt\",\"r+\",encoding = \"utf-8\") as file:\n",
    "    print(file.read())"
   ]
  },
  {
   "cell_type": "code",
   "execution_count": 132,
   "metadata": {},
   "outputs": [],
   "source": [
    "with open(\"bilgiler.txt\",\"r+\",encoding = \"utf-8\") as file:\n",
    "    icerik = file.read()\n",
    "    \n",
    "    icerik = \"Semih Aktaş\\n\" + icerik            ## dosya başına yazar\n",
    "    file.seek(0)\n",
    "    file.write(icerik)"
   ]
  },
  {
   "cell_type": "code",
   "execution_count": 133,
   "metadata": {},
   "outputs": [
    {
     "name": "stdout",
     "output_type": "stream",
     "text": [
      "Semih Aktaş\n",
      "Murat ÖzcDenemeet Gençol\n"
     ]
    }
   ],
   "source": [
    "with open(\"bilgiler.txt\",\"r+\",encoding = \"utf-8\") as file:\n",
    "    print(file.read())"
   ]
  },
  {
   "cell_type": "code",
   "execution_count": 134,
   "metadata": {},
   "outputs": [],
   "source": [
    "with open(\"bilgiler.txt\",\"r+\",encoding = \"utf-8\") as file:\n",
    "    liste = file.readlines()\n",
    "    liste.insert(1,\"Ahmet Baltacı\\n\")        ## 1. satıra yazar\n",
    "    file.seek(0)\n",
    "    file.writelines(liste)"
   ]
  },
  {
   "cell_type": "code",
   "execution_count": 135,
   "metadata": {},
   "outputs": [
    {
     "name": "stdout",
     "output_type": "stream",
     "text": [
      "Semih Aktaş\n",
      "Ahmet Baltacı\n",
      "Murat ÖzcDenemeet Gençol\n"
     ]
    }
   ],
   "source": [
    "with open(\"bilgiler.txt\",\"r+\",encoding = \"utf-8\") as file:\n",
    "    print(file.read())"
   ]
  },
  {
   "cell_type": "code",
   "execution_count": 136,
   "metadata": {},
   "outputs": [],
   "source": [
    "## map(fonksiyon,iterasyon yapılabilecek veritipi(liste,demet vb),....)"
   ]
  },
  {
   "cell_type": "code",
   "execution_count": 137,
   "metadata": {},
   "outputs": [],
   "source": [
    "def double(x):\n",
    "    return x * 2                "
   ]
  },
  {
   "cell_type": "code",
   "execution_count": null,
   "metadata": {},
   "outputs": [],
   "source": [
    "list(map(double,[1,2,3,4,5,6,7]))   ##tanımladığın fonksiyonu map() şeklinde yaz"
   ]
  },
  {
   "cell_type": "code",
   "execution_count": 139,
   "metadata": {},
   "outputs": [
    {
     "data": {
      "text/plain": [
       "<map at 0x1ebd672c4a8>"
      ]
     },
     "execution_count": 139,
     "metadata": {},
     "output_type": "execute_result"
    }
   ],
   "source": [
    "map(lambda x : x ** 2, [1,2,3,4,5,6,7,8,9])    ## lambda ile yazılabilir"
   ]
  },
  {
   "cell_type": "code",
   "execution_count": null,
   "metadata": {},
   "outputs": [],
   "source": [
    "list(map(lambda x : x ** 2, [1,2,3,4,5,6,7,8,9]))"
   ]
  },
  {
   "cell_type": "code",
   "execution_count": 141,
   "metadata": {},
   "outputs": [],
   "source": [
    "def tekcift(x):\n",
    "    if(x%2==0):\n",
    "        return x\n",
    "    return False\n"
   ]
  },
  {
   "cell_type": "code",
   "execution_count": null,
   "metadata": {},
   "outputs": [],
   "source": [
    "list(map(tekcift,[1,2,3,4,5,6,7]))"
   ]
  },
  {
   "cell_type": "code",
   "execution_count": 145,
   "metadata": {},
   "outputs": [],
   "source": [
    "from functools import reduce "
   ]
  },
  {
   "cell_type": "code",
   "execution_count": 146,
   "metadata": {},
   "outputs": [
    {
     "data": {
      "text/plain": [
       "120"
      ]
     },
     "execution_count": 146,
     "metadata": {},
     "output_type": "execute_result"
    }
   ],
   "source": [
    "reduce(lambda x,y : x * y , [1,2,3,4,5])           ## sağdan sola işlemi yaparak gider"
   ]
  },
  {
   "cell_type": "code",
   "execution_count": 147,
   "metadata": {},
   "outputs": [
    {
     "data": {
      "text/plain": [
       "100"
      ]
     },
     "execution_count": 147,
     "metadata": {},
     "output_type": "execute_result"
    }
   ],
   "source": [
    "def maksimum(x,y):\n",
    "    if (x > y):\n",
    "        return x\n",
    "    else:\n",
    "        return y\n",
    "\n",
    "reduce(maksimum, [-2,1,100,35,32])"
   ]
  },
  {
   "cell_type": "code",
   "execution_count": null,
   "metadata": {},
   "outputs": [],
   "source": [
    "list(filter(tekcift, [1,2,3,4,5,6,7,8,9,10]))        ## filter sadece true değerleri döndürür"
   ]
  },
  {
   "cell_type": "code",
   "execution_count": 149,
   "metadata": {},
   "outputs": [],
   "source": [
    "def asal_mi(x):\n",
    "    i = 2\n",
    "    if (x == 1):\n",
    "        return False # Asal değil\n",
    "    elif(x == 2):\n",
    "        return True # Asal sayı\n",
    "    else:\n",
    "        while(i < x):\n",
    "            if (x % i == 0):\n",
    "                return False # Asal Değil\n",
    "            i += 1\n",
    "    return True"
   ]
  },
  {
   "cell_type": "code",
   "execution_count": null,
   "metadata": {},
   "outputs": [],
   "source": [
    "list(filter(asal_mi,range(1,100)))"
   ]
  },
  {
   "cell_type": "code",
   "execution_count": 151,
   "metadata": {},
   "outputs": [
    {
     "name": "stdout",
     "output_type": "stream",
     "text": [
      "i: 1 j: Python\n",
      "i: 2 j: Php\n",
      "i: 3 j: Java\n",
      "i: 4 j: Javascript\n"
     ]
    }
   ],
   "source": [
    "liste1 = [1,2,3,4]\n",
    "liste2 = [\"Python\",\"Php\",\"Java\",\"Javascript\"]\n",
    "\n",
    "for i,j in zip(liste1,liste2):\n",
    "    print(\"i:\",i,\"j:\",j)                  ## zip eşleştirir"
   ]
  },
  {
   "cell_type": "code",
   "execution_count": 152,
   "metadata": {},
   "outputs": [
    {
     "data": {
      "text/plain": [
       "False"
      ]
     },
     "execution_count": 152,
     "metadata": {},
     "output_type": "execute_result"
    }
   ],
   "source": [
    "liste = [True,False,True,False,True]\n",
    "                ## all() fonksiyonu bütün değerler True ise True, en az bir değer False ise False sonuç döndürür.\n",
    "all(liste)"
   ]
  },
  {
   "cell_type": "code",
   "execution_count": 153,
   "metadata": {},
   "outputs": [
    {
     "data": {
      "text/plain": [
       "False"
      ]
     },
     "execution_count": 153,
     "metadata": {},
     "output_type": "execute_result"
    }
   ],
   "source": [
    "liste = [0,0,0,0,0,0,0]          #any() fonksiyonu bütün değerler False ise False, en az bir değer True ise True sonuç döndürür.\n",
    "any(liste)"
   ]
  },
  {
   "cell_type": "code",
   "execution_count": 154,
   "metadata": {},
   "outputs": [
    {
     "data": {
      "text/plain": [
       "'0b100'"
      ]
     },
     "execution_count": 154,
     "metadata": {},
     "output_type": "execute_result"
    }
   ],
   "source": [
    "bin(4)"
   ]
  },
  {
   "cell_type": "code",
   "execution_count": 155,
   "metadata": {},
   "outputs": [
    {
     "data": {
      "text/plain": [
       "'0x4bc'"
      ]
     },
     "execution_count": 155,
     "metadata": {},
     "output_type": "execute_result"
    }
   ],
   "source": [
    "hex(1212)    ## 16 lık tabanda"
   ]
  },
  {
   "cell_type": "code",
   "execution_count": 156,
   "metadata": {},
   "outputs": [
    {
     "data": {
      "text/plain": [
       "10"
      ]
     },
     "execution_count": 156,
     "metadata": {},
     "output_type": "execute_result"
    }
   ],
   "source": [
    "abs(-10)"
   ]
  },
  {
   "cell_type": "code",
   "execution_count": 157,
   "metadata": {},
   "outputs": [
    {
     "data": {
      "text/plain": [
       "3"
      ]
     },
     "execution_count": 157,
     "metadata": {},
     "output_type": "execute_result"
    }
   ],
   "source": [
    "round(3.2)       ## alta ya da üste yuvarlar"
   ]
  },
  {
   "cell_type": "code",
   "execution_count": 158,
   "metadata": {},
   "outputs": [
    {
     "data": {
      "text/plain": [
       "131"
      ]
     },
     "execution_count": 158,
     "metadata": {},
     "output_type": "execute_result"
    }
   ],
   "source": [
    "max(100,-2,3,4,1,131)"
   ]
  },
  {
   "cell_type": "code",
   "execution_count": 159,
   "metadata": {},
   "outputs": [
    {
     "data": {
      "text/plain": [
       "25"
      ]
     },
     "execution_count": 159,
     "metadata": {},
     "output_type": "execute_result"
    }
   ],
   "source": [
    "sum([3,4,5,6,7])"
   ]
  },
  {
   "cell_type": "code",
   "execution_count": 160,
   "metadata": {},
   "outputs": [
    {
     "data": {
      "text/plain": [
       "81"
      ]
     },
     "execution_count": 160,
     "metadata": {},
     "output_type": "execute_result"
    }
   ],
   "source": [
    "pow(3,4) "
   ]
  },
  {
   "cell_type": "code",
   "execution_count": 161,
   "metadata": {},
   "outputs": [
    {
     "data": {
      "text/plain": [
       "'PYTHON'"
      ]
     },
     "execution_count": 161,
     "metadata": {},
     "output_type": "execute_result"
    }
   ],
   "source": [
    "\"python\".upper()"
   ]
  },
  {
   "cell_type": "code",
   "execution_count": 162,
   "metadata": {},
   "outputs": [
    {
     "data": {
      "text/plain": [
       "'Herkes ono bobo bocı gordoş'"
      ]
     },
     "execution_count": 162,
     "metadata": {},
     "output_type": "execute_result"
    }
   ],
   "source": [
    "\"Herkes ana baba bacı gardaş\".replace(\"a\",\"o\")"
   ]
  },
  {
   "cell_type": "code",
   "execution_count": 163,
   "metadata": {},
   "outputs": [
    {
     "data": {
      "text/plain": [
       "True"
      ]
     },
     "execution_count": 163,
     "metadata": {},
     "output_type": "execute_result"
    }
   ],
   "source": [
    "\"Python\".startswith(\"Py\")     ## Py ile başlıyorsa true"
   ]
  },
  {
   "cell_type": "code",
   "execution_count": 164,
   "metadata": {},
   "outputs": [
    {
     "data": {
      "text/plain": [
       "False"
      ]
     },
     "execution_count": 164,
     "metadata": {},
     "output_type": "execute_result"
    }
   ],
   "source": [
    "\"Python\".endswith(\"az\")"
   ]
  },
  {
   "cell_type": "code",
   "execution_count": 165,
   "metadata": {},
   "outputs": [
    {
     "data": {
      "text/plain": [
       "'T.B.M.M'"
      ]
     },
     "execution_count": 165,
     "metadata": {},
     "output_type": "execute_result"
    }
   ],
   "source": [
    "liste = [\"T\",\"B\",\"M\",\"M\"]\n",
    "\n",
    "\".\".join(liste)"
   ]
  },
  {
   "cell_type": "code",
   "execution_count": 166,
   "metadata": {},
   "outputs": [
    {
     "data": {
      "text/plain": [
       "6"
      ]
     },
     "execution_count": 166,
     "metadata": {},
     "output_type": "execute_result"
    }
   ],
   "source": [
    "\"ada kapısı yandan çarklı\".count(\"a\")        ## kaç defa geçiyor"
   ]
  },
  {
   "cell_type": "code",
   "execution_count": 167,
   "metadata": {},
   "outputs": [
    {
     "data": {
      "text/plain": [
       "3"
      ]
     },
     "execution_count": 167,
     "metadata": {},
     "output_type": "execute_result"
    }
   ],
   "source": [
    "\"araba\".find(\"b\")    ## bulamazsa -1"
   ]
  },
  {
   "cell_type": "code",
   "execution_count": 168,
   "metadata": {},
   "outputs": [
    {
     "name": "stdout",
     "output_type": "stream",
     "text": [
      "{'m', 'h', 'l', 'P', 'D', 'r', 'y', 'o', ' ', 'i', 'n', 'a', 'g', 't'}\n"
     ]
    }
   ],
   "source": [
    "x = set(\"Python Programlama Dili\")   ### küme oluşturur\n",
    "\n",
    "print(x)"
   ]
  },
  {
   "cell_type": "code",
   "execution_count": 169,
   "metadata": {},
   "outputs": [],
   "source": [
    "küme1 = {1,2,3,10,34,100,-2}\n",
    "küme2 = {1,2,23,34,-1}"
   ]
  },
  {
   "cell_type": "code",
   "execution_count": 170,
   "metadata": {},
   "outputs": [
    {
     "data": {
      "text/plain": [
       "{-2, 3, 10, 100}"
      ]
     },
     "execution_count": 170,
     "metadata": {},
     "output_type": "execute_result"
    }
   ],
   "source": [
    "küme1.difference(küme2)"
   ]
  },
  {
   "cell_type": "code",
   "execution_count": 171,
   "metadata": {},
   "outputs": [
    {
     "name": "stdout",
     "output_type": "stream",
     "text": [
      "{1, 3, 34, 100, 10, -2}\n"
     ]
    }
   ],
   "source": [
    "küme1.discard(2)          ## 2. eleman çıkartır\n",
    "\n",
    "print(küme1)"
   ]
  },
  {
   "cell_type": "code",
   "execution_count": 172,
   "metadata": {},
   "outputs": [
    {
     "data": {
      "text/plain": [
       "{1, 34}"
      ]
     },
     "execution_count": 172,
     "metadata": {},
     "output_type": "execute_result"
    }
   ],
   "source": [
    "küme1.intersection(küme2)    ## kesişim"
   ]
  },
  {
   "cell_type": "code",
   "execution_count": 173,
   "metadata": {},
   "outputs": [
    {
     "data": {
      "text/plain": [
       "{-2, -1, 1, 2, 3, 10, 23, 34, 100}"
      ]
     },
     "execution_count": 173,
     "metadata": {},
     "output_type": "execute_result"
    }
   ],
   "source": [
    "küme1.union(küme2)         ## birleşim"
   ]
  },
  {
   "cell_type": "code",
   "execution_count": 174,
   "metadata": {},
   "outputs": [],
   "source": [
    "liste = [1,2,3,4,5,6,7]"
   ]
  },
  {
   "cell_type": "code",
   "execution_count": 175,
   "metadata": {},
   "outputs": [
    {
     "data": {
      "text/plain": [
       "[1, 2, 3, 4, 5, 6, 7, 10, 11, 12]"
      ]
     },
     "execution_count": 175,
     "metadata": {},
     "output_type": "execute_result"
    }
   ],
   "source": [
    "liste.extend([10,11,12])\n",
    "liste## ekler"
   ]
  },
  {
   "cell_type": "code",
   "execution_count": 176,
   "metadata": {},
   "outputs": [
    {
     "name": "stdout",
     "output_type": "stream",
     "text": [
      "[1, 2, 'Python', 3, 4, 5, 6, 7, 10, 11, 12]\n"
     ]
    }
   ],
   "source": [
    "liste.insert(2,\"Python\") ## 2. indekse ekler\n",
    "\n",
    "print(liste)"
   ]
  },
  {
   "cell_type": "code",
   "execution_count": 177,
   "metadata": {},
   "outputs": [
    {
     "data": {
      "text/plain": [
       "3"
      ]
     },
     "execution_count": 177,
     "metadata": {},
     "output_type": "execute_result"
    }
   ],
   "source": [
    "liste.index(3)     ## kaçıncı indexte"
   ]
  },
  {
   "cell_type": "code",
   "execution_count": 178,
   "metadata": {},
   "outputs": [],
   "source": [
    "liste = [12,-2,3,1,34,100]"
   ]
  },
  {
   "cell_type": "code",
   "execution_count": 179,
   "metadata": {},
   "outputs": [
    {
     "name": "stdout",
     "output_type": "stream",
     "text": [
      "[-2, 1, 3, 12, 34, 100]\n"
     ]
    }
   ],
   "source": [
    "liste.sort()\n",
    "                      ### küçükten büyüğe sıralar\n",
    "print(liste)"
   ]
  },
  {
   "cell_type": "code",
   "execution_count": 180,
   "metadata": {},
   "outputs": [],
   "source": [
    "def fonksiyon(*args): # İstediğimiz sayıda argüman gönderebiliyoruz.\n",
    "    print(args)\n",
    "    for i in args:\n",
    "        print(i)"
   ]
  },
  {
   "cell_type": "code",
   "execution_count": 181,
   "metadata": {},
   "outputs": [
    {
     "name": "stdout",
     "output_type": "stream",
     "text": [
      "(1, 2, 4, 'murat')\n",
      "1\n",
      "2\n",
      "4\n",
      "murat\n"
     ]
    }
   ],
   "source": [
    "fonksiyon(1,2,4,\"murat\")"
   ]
  },
  {
   "cell_type": "code",
   "execution_count": 182,
   "metadata": {},
   "outputs": [],
   "source": [
    "def fonksiyon(**kwargs):        ## sözlük yapıyor\n",
    "    print(kwargs) "
   ]
  },
  {
   "cell_type": "code",
   "execution_count": 183,
   "metadata": {},
   "outputs": [
    {
     "name": "stdout",
     "output_type": "stream",
     "text": [
      "{'isim': 'Murat', 'soyisim': 'Coşkun', 'numara': 12345}\n"
     ]
    }
   ],
   "source": [
    "fonksiyon(isim = \"Murat\", soyisim = \"Coşkun\", numara = 12345)"
   ]
  },
  {
   "cell_type": "code",
   "execution_count": 184,
   "metadata": {},
   "outputs": [],
   "source": [
    "def fonksiyon(*args,**kwargs):\n",
    "    for i in args:\n",
    "        print(\"Argümanlar:\",i)\n",
    "    print(\"------------------------------\")\n",
    "    for i ,j in kwargs.items():\n",
    "        print(\"Argüman İsmi:\",i,\"Argüman Değeri:\",j)"
   ]
  },
  {
   "cell_type": "code",
   "execution_count": 185,
   "metadata": {},
   "outputs": [
    {
     "name": "stdout",
     "output_type": "stream",
     "text": [
      "Argümanlar: 1\n",
      "Argümanlar: 2\n",
      "Argümanlar: 3\n",
      "Argümanlar: 4\n",
      "Argümanlar: 5\n",
      "Argümanlar: 6\n",
      "Argümanlar: 7\n",
      "------------------------------\n",
      "Argüman İsmi: isim Argüman Değeri: Murat\n",
      "Argüman İsmi: soyisim Argüman Değeri: Coşkun\n",
      "Argüman İsmi: numara Argüman Değeri: 12345\n"
     ]
    }
   ],
   "source": [
    "fonksiyon(1,2,3,4,5,6,7,isim = \"Murat\",soyisim = \"Coşkun\", numara = 12345)"
   ]
  },
  {
   "cell_type": "code",
   "execution_count": 186,
   "metadata": {},
   "outputs": [],
   "source": [
    "def fonksiyon():\n",
    "    def fonksiyon2():\n",
    "        print(\"Küçük fonksiyondan Merhaba\")\n",
    "    print(\"Büyük fonksiyondan Merhaba\")\n",
    "    fonksiyon2()"
   ]
  },
  {
   "cell_type": "code",
   "execution_count": 187,
   "metadata": {},
   "outputs": [
    {
     "name": "stdout",
     "output_type": "stream",
     "text": [
      "Büyük fonksiyondan Merhaba\n",
      "Küçük fonksiyondan Merhaba\n"
     ]
    }
   ],
   "source": [
    "fonksiyon()"
   ]
  },
  {
   "cell_type": "code",
   "execution_count": 188,
   "metadata": {},
   "outputs": [
    {
     "ename": "NameError",
     "evalue": "name 'fonksiyon2' is not defined",
     "output_type": "error",
     "traceback": [
      "\u001b[1;31m---------------------------------------------------------------------------\u001b[0m",
      "\u001b[1;31mNameError\u001b[0m                                 Traceback (most recent call last)",
      "\u001b[1;32m<ipython-input-188-b20d77771335>\u001b[0m in \u001b[0;36m<module>\u001b[1;34m\u001b[0m\n\u001b[1;32m----> 1\u001b[1;33m \u001b[0mfonksiyon2\u001b[0m\u001b[1;33m(\u001b[0m\u001b[1;33m)\u001b[0m       \u001b[1;31m## hata verir\u001b[0m\u001b[1;33m\u001b[0m\u001b[1;33m\u001b[0m\u001b[0m\n\u001b[0m",
      "\u001b[1;31mNameError\u001b[0m: name 'fonksiyon2' is not defined"
     ]
    }
   ],
   "source": [
    "fonksiyon2()       ## hata verir"
   ]
  },
  {
   "cell_type": "code",
   "execution_count": 190,
   "metadata": {},
   "outputs": [],
   "source": [
    "def fonksiyon(*args): # args : (1,2,3,4,5,6)\n",
    "    \n",
    "    def topla(args): # (1,2,3,4,5,6)\n",
    "        toplam = 0\n",
    "        for i in args:\n",
    "            toplam += i\n",
    "        return toplam\n",
    "    \n",
    "    print(topla(args))"
   ]
  },
  {
   "cell_type": "code",
   "execution_count": 191,
   "metadata": {},
   "outputs": [
    {
     "name": "stdout",
     "output_type": "stream",
     "text": [
      "27\n"
     ]
    }
   ],
   "source": [
    "fonksiyon(1,2,4,5,7,8)"
   ]
  },
  {
   "cell_type": "code",
   "execution_count": 192,
   "metadata": {},
   "outputs": [],
   "source": [
    "def fonksiyon(işlem_adı):\n",
    "    \n",
    "    def toplama(*args):\n",
    "        toplam = 0\n",
    "        for i in args:          \n",
    "            toplam += i\n",
    "        return toplam\n",
    "        \n",
    "    def çarpma(*args):\n",
    "        çarpım = 1\n",
    "        for i in args:\n",
    "            çarpım *= i\n",
    "        return çarpım\n",
    "    \n",
    "    if işlem_adı == \"toplama\":\n",
    "        return toplama\n",
    "    else:\n",
    "        return çarpma\n",
    "    "
   ]
  },
  {
   "cell_type": "code",
   "execution_count": 193,
   "metadata": {},
   "outputs": [],
   "source": [
    "deneme = fonksiyon(\"toplama\")"
   ]
  },
  {
   "cell_type": "code",
   "execution_count": 194,
   "metadata": {},
   "outputs": [
    {
     "data": {
      "text/plain": [
       "18"
      ]
     },
     "execution_count": 194,
     "metadata": {},
     "output_type": "execute_result"
    }
   ],
   "source": [
    "deneme(1,2,3,5,7)"
   ]
  },
  {
   "cell_type": "code",
   "execution_count": 195,
   "metadata": {},
   "outputs": [],
   "source": [
    "deneme2=fonksiyon(\"çarpma\")"
   ]
  },
  {
   "cell_type": "code",
   "execution_count": 196,
   "metadata": {},
   "outputs": [
    {
     "data": {
      "text/plain": [
       "2240"
      ]
     },
     "execution_count": 196,
     "metadata": {},
     "output_type": "execute_result"
    }
   ],
   "source": [
    "deneme2(14,32,5)"
   ]
  },
  {
   "cell_type": "code",
   "execution_count": 197,
   "metadata": {},
   "outputs": [],
   "source": [
    "def toplama(a,b):\n",
    "    return a + b\n",
    "def çıkarma(a,b):\n",
    "    return a-b\n",
    "def çarpma(a,b):\n",
    "    return a * b\n",
    "def bölme(a,b):\n",
    "    return a / b"
   ]
  },
  {
   "cell_type": "code",
   "execution_count": 198,
   "metadata": {},
   "outputs": [],
   "source": [
    "def anafonksiyon(func1,func2,func3,func4,işlem_adı): # Tanımladığımız 4 fonksiyonu da argüman olarak göndereceğiz.\n",
    "    if (işlem_adı == \"toplama\"):\n",
    "        print(func1(3,4))\n",
    "    elif (işlem_adı == \"çıkarma\"):\n",
    "        print(func2(10,3))\n",
    "    elif (işlem_adı == \"çarpma\"):\n",
    "        print(func3(10,3))\n",
    "    elif (işlem_adı == \"bölme\"):\n",
    "        print(func4(10,4))\n",
    "    else:\n",
    "        print(\"Geçersiz işlem adı...\")"
   ]
  },
  {
   "cell_type": "code",
   "execution_count": 199,
   "metadata": {},
   "outputs": [
    {
     "name": "stdout",
     "output_type": "stream",
     "text": [
      "7\n"
     ]
    }
   ],
   "source": [
    "anafonksiyon(toplama,çıkarma,çarpma,bölme,\"toplama\")"
   ]
  },
  {
   "cell_type": "code",
   "execution_count": 200,
   "metadata": {},
   "outputs": [
    {
     "name": "stdout",
     "output_type": "stream",
     "text": [
      "Bu fonksiyon 0.04999279975891113 saniye sürdü.\n",
      "None\n",
      "Bu fonksiyon 0.09136509895324707 saniye sürdü.\n",
      "None\n"
     ]
    }
   ],
   "source": [
    "import time\n",
    "        \n",
    "def kareleri_hesapla(sayılar):\n",
    "    sonuç = []\n",
    "    baslama =  time.time()\n",
    "    \n",
    "    for i in sayılar:\n",
    "        sonuç.append(i ** 2)\n",
    "    print(\"Bu fonksiyon \" + str(time.time() - baslama) + \" saniye sürdü.\")\n",
    "    \n",
    "def küpleri_hesapla(sayılar):\n",
    "    sonuç = []\n",
    "    baslama =  time.time()\n",
    "    for i in sayılar:\n",
    "        sonuç.append(i ** 3)\n",
    "    print(\"Bu fonksiyon \" + str(time.time() - baslama) + \" saniye sürdü.\")\n",
    " \n",
    "    \n",
    " \n",
    "print(kareleri_hesapla(range(100000)))\n",
    " \n",
    "print(küpleri_hesapla(range(100000)))"
   ]
  },
  {
   "cell_type": "code",
   "execution_count": 201,
   "metadata": {},
   "outputs": [
    {
     "name": "stdout",
     "output_type": "stream",
     "text": [
      "kareleri_hesapla 0.0 saniye sürdü.\n",
      "[0, 1, 4, 9, 16, 25, 36, 49, 64, 81, 100, 121, 144, 169, 196, 225, 256, 289, 324, 361, 400, 441, 484, 529, 576, 625, 676, 729, 784, 841, 900, 961, 1024, 1089, 1156, 1225, 1296, 1369, 1444, 1521, 1600, 1681, 1764, 1849, 1936, 2025, 2116, 2209, 2304, 2401, 2500, 2601, 2704, 2809, 2916, 3025, 3136, 3249, 3364, 3481, 3600, 3721, 3844, 3969, 4096, 4225, 4356, 4489, 4624, 4761, 4900, 5041, 5184, 5329, 5476, 5625, 5776, 5929, 6084, 6241, 6400, 6561, 6724, 6889, 7056, 7225, 7396, 7569, 7744, 7921, 8100, 8281, 8464, 8649, 8836, 9025, 9216, 9409, 9604, 9801]\n",
      "küpleri_hesapla 0.0 saniye sürdü.\n",
      "[0, 1, 8, 27, 64, 125, 216, 343, 512, 729, 1000, 1331, 1728, 2197, 2744, 3375, 4096, 4913, 5832, 6859, 8000, 9261, 10648, 12167, 13824, 15625, 17576, 19683, 21952, 24389, 27000, 29791, 32768, 35937, 39304, 42875, 46656, 50653, 54872, 59319, 64000, 68921, 74088, 79507, 85184, 91125, 97336, 103823, 110592, 117649, 125000, 132651, 140608, 148877, 157464, 166375, 175616, 185193, 195112, 205379, 216000, 226981, 238328, 250047, 262144, 274625, 287496, 300763, 314432, 328509, 343000, 357911, 373248, 389017, 405224, 421875, 438976, 456533, 474552, 493039, 512000, 531441, 551368, 571787, 592704, 614125, 636056, 658503, 681472, 704969, 729000, 753571, 778688, 804357, 830584, 857375, 884736, 912673, 941192, 970299]\n"
     ]
    }
   ],
   "source": [
    "import time\n",
    "def zaman_hesapla(fonksiyon):\n",
    "    def wrapper(sayılar):\n",
    "        \n",
    "        \n",
    "        baslama = time.time()\n",
    "        sonuç =  fonksiyon(sayılar)\n",
    "        bitis =  time.time()\n",
    "        print(fonksiyon.__name__ + \" \" + str(bitis-baslama) + \" saniye sürdü.\")\n",
    "        return sonuç\n",
    "    return wrapper\n",
    "    \n",
    "@zaman_hesapla\n",
    "def kareleri_hesapla(sayılar):\n",
    "    sonuç = []\n",
    "    for i in sayılar:\n",
    "        sonuç.append(i ** 2)\n",
    "    return sonuç\n",
    "@zaman_hesapla\n",
    "def küpleri_hesapla(sayılar):\n",
    "    sonuç = []\n",
    "    for i in sayılar:\n",
    "        sonuç.append(i ** 3)\n",
    "    return sonuç\n",
    "    \n",
    " \n",
    "print(kareleri_hesapla(range(100)))\n",
    " \n",
    "print(küpleri_hesapla(range(100)))"
   ]
  },
  {
   "cell_type": "code",
   "execution_count": 202,
   "metadata": {},
   "outputs": [],
   "source": [
    "import sqlite3 # Sqlite'yı dahil ediyoruz\n",
    "\n",
    "con = sqlite3.connect(\"kütüphane.db\") # Tabloya bağlanıyoruz.\n",
    "\n",
    "cursor = con.cursor() # cursor isimli değişken veritabanı üzerinde işlem yapmak için kullanacağımız imleç olacak.\n",
    "\n",
    "\n",
    "con.close() # Bağlantıyı koparıyoruz."
   ]
  },
  {
   "cell_type": "code",
   "execution_count": 203,
   "metadata": {},
   "outputs": [],
   "source": [
    "import sqlite3 # Sqlite'yı dahil ediyoruz\n",
    "\n",
    "con = sqlite3.connect(\"kütüphane.db\") # Tabloya bağlanıyoruz.\n",
    "\n",
    "cursor = con.cursor() # cursor isimli değişken veritabanı üzerinde işlem yapmak için kullanacağımız imleç olacak.\n",
    "\n",
    "def tablo_oluştur():\n",
    "    cursor.execute(\"CREATE TABLE IF NOT EXISTS kitaplık (İsim TEXT, Yazar TEXT, Yayınevi TEXT, Sayfa_Sayısı INT)\") # Sorguyu çalıştırıyoruz.\n",
    "    con.commit() # Sorgunun veritabanı üzerinde geçerli olması için commit işlemi gerekli.\n",
    "tablo_oluştur()\n",
    "con.close() # Bağlantıyı koparıyoruz."
   ]
  },
  {
   "cell_type": "code",
   "execution_count": null,
   "metadata": {},
   "outputs": [],
   "source": [
    "import sqlite3 \n",
    "\n",
    "con = sqlite3.connect(\"kütüphane.db\")\n",
    "\n",
    "cursor = con.cursor() \n",
    "\n",
    "def tablo_oluştur():\n",
    "    cursor.execute(\"CREATE TABLE IF NOT EXISTS kitaplık (İsim TEXT, Yazar TEXT, Yayınevi TEXT, Sayfa_Sayısı INT)\") \n",
    "    con.commit()\n",
    "def deger_ekle(isim,yazar,yayınevi,sayfa_sayısı):\n",
    "    cursor.execute(\"INSERT INTO kitaplık VALUES('İstanbul Hatırası','Ahmet Ümit','Everest',261)\")\n",
    "    con.commit()\n",
    "deger_ekle()\n",
    "\n",
    "con.close()"
   ]
  },
  {
   "cell_type": "code",
   "execution_count": null,
   "metadata": {},
   "outputs": [],
   "source": [
    "## veri ekleme tabloya\n",
    "\n",
    "import sqlite3 \n",
    "\n",
    "con = sqlite3.connect(\"kütüphane.db\")\n",
    "\n",
    "cursor = con.cursor() \n",
    "\n",
    "def tablo_oluştur():\n",
    "    cursor.execute(\"CREATE TABLE IF NOT EXISTS kitaplık (İsim TEXT, Yazar TEXT, Yayınevi TEXT, Sayfa_Sayısı INT)\") \n",
    "    con.commit()\n",
    "def deger_ekle(isim,yazar,yayınevi,sayfa_sayısı):\n",
    "    cursor.execute(\"INSERT INTO kitaplık VALUES(?,?,?,?)\",(isim,yazar,yayınevi,sayfa_sayısı))\n",
    "    con.commit()\n",
    "isim = input(\"İsim:\")\n",
    "yazar = input(\"Yazar:\")\n",
    "yayınevi = input(\"Yayınevi:\")\n",
    "sayfa_sayısı =  int(input(\"Sayfa Sayısı:\"))\n",
    "\n",
    "\n",
    "deger_ekle(isim,yazar,yayınevi,sayfa_sayısı)\n",
    "\n",
    "con.close()"
   ]
  },
  {
   "cell_type": "code",
   "execution_count": null,
   "metadata": {},
   "outputs": [],
   "source": [
    "*********** Veri Çekme*******************\n",
    "\n",
    "Select * From kitaplık - Tablodaki tüm bilgileri almamızı sağlar.\n",
    "\n",
    "Select İsim,Yazar From kitaplık Tablodaki tüm bilgileri sadece İsim ve Yazar özelliklerini almamızı sağlar.\n",
    "\n",
    "Select * From kitaplık where Yayınevi = 'Everest' Sadece Yayınevi özelliği Everest olanları alır."
   ]
  },
  {
   "cell_type": "code",
   "execution_count": null,
   "metadata": {},
   "outputs": [],
   "source": [
    "import sqlite3\n",
    "\n",
    "con = sqlite3.connect(\"kütüphane.db\")\n",
    "\n",
    "cursor = con.cursor()\n",
    "def tablo_olustur():\n",
    "    cursor.execute(\"CREATE TABLE IF NOT EXISTS kitaplık (İsim TEXT,Yazar TEXT,Yayınevi TEXT,Sayfa_Sayısı INT)\")\n",
    "    con.commit()\n",
    "def deger_ekle(isim,yazar,yayınevi,sayfa_sayısı):\n",
    "    cursor.execute(\"Insert into kitaplık Values(?,?,?,?)\",(isim,yazar,yayınevi,sayfa_sayısı))\n",
    "    con.commit()\n",
    "def verileri_al():\n",
    "    cursor.execute(\"Select * From kitaplık\") # Bütün bilgileri alıyoruz.\n",
    "    data = cursor.fetchall() # Veritabanından bilgileri çekmek için fetchall() kullanıyoruz.\n",
    "    print(\"Kitaplık Tablosunun bilgileri.....\")\n",
    "    for i in data:\n",
    "        print(i)\n",
    "    # con.commit() işlemine gerek yok. Çünkü tabloda herhangi bir güncelleme yapmıyoruz.\n",
    "verileri_al()\n",
    "con.close()"
   ]
  },
  {
   "cell_type": "code",
   "execution_count": null,
   "metadata": {},
   "outputs": [],
   "source": [
    "import sqlite3\n",
    "\n",
    "con = sqlite3.connect(\"kütüphane.db\")\n",
    "\n",
    "cursor = con.cursor()\n",
    "def tablo_olustur():\n",
    "    cursor.execute(\"CREATE TABLE IF NOT EXISTS kitaplık (İsim TEXT,Yazar TEXT,Yayınevi TEXT,Sayfa_Sayısı INT)\")\n",
    "    con.commit()\n",
    "def deger_ekle(isim,yazar,yayınevi,sayfa_sayısı):\n",
    "    cursor.execute(\"Insert into kitaplık Values(?,?,?,?)\",(isim,yazar,yayınevi,sayfa_sayısı))\n",
    "    con.commit()\n",
    "def verileri_al():\n",
    "    cursor.execute(\"Select * From kitaplık\")\n",
    "    data = cursor.fetchall()\n",
    "    print(\"Kitaplık Tablosunun bilgileri.....\")\n",
    "    for i in data:\n",
    "        print(i)\n",
    "def verileri_al2():\n",
    "    cursor.execute(\"Select İsim,Yazar From kitaplık\")\n",
    "    data = cursor.fetchall()\n",
    "    print(\"Kitaplık Tablosunun bilgileri.....\")\n",
    "    for i in data:\n",
    "        print(i)\n",
    "def verileri_al3(yayınevi):\n",
    "    cursor.execute(\"Select * From kitaplık where Yayınevi = ?\",(yayınevi,)) \n",
    "    data = cursor.fetchall()\n",
    "    print(\"Kitaplık Tablosunun bilgileri.....\")\n",
    "    for i in data:\n",
    "        print(i)\n",
    "verileri_al3(\"Everest\")\n",
    "con.close()      "
   ]
  },
  {
   "cell_type": "code",
   "execution_count": null,
   "metadata": {},
   "outputs": [],
   "source": [
    "Tablodaki verileri güncelleme için şöyle bir sorgu kullanabiliriz.\n",
    "\n",
    "Update kitaplık set Yayınevi = 'Everest' where Yayınevi = 'Doğan Kitap' -- Yayınevi 'Doğan Kitap' olan kitapların Yayınevi bilgilerini 'Everest' e günceller.\n",
    "\n"
   ]
  },
  {
   "cell_type": "code",
   "execution_count": null,
   "metadata": {},
   "outputs": [],
   "source": [
    "def verigüncelle(yayınevi):\n",
    "    cursor.execute(\"Update kitaplık set Yayınevi = ? where Yayınevi =  ?\",(\"Everest\",yayınevi))\n",
    "    con.commit()\n",
    "\n",
    "verigüncelle(\"Doğan Kitap\")\n",
    "con.close()  "
   ]
  },
  {
   "cell_type": "code",
   "execution_count": null,
   "metadata": {},
   "outputs": [],
   "source": [
    "Tablodaki verileri silme için şöyle bir sorgu kullanabiliriz.\n",
    "\n",
    "Delete From kitaplık where Yazar = 'Ahmet Ümit' -- Yazar özelliği 'Ahmet Ümit' olan kitapları tablodan siler."
   ]
  },
  {
   "cell_type": "code",
   "execution_count": null,
   "metadata": {},
   "outputs": [],
   "source": [
    "def verilerisil(yazar):\n",
    "    cursor.execute(\"Delete  From kitaplık where Yazar = ?\",(yazar,))\n",
    "    con.commit()\n",
    "    "
   ]
  },
  {
   "cell_type": "code",
   "execution_count": null,
   "metadata": {},
   "outputs": [],
   "source": [
    "\n",
    "liste = [1,2,3,4,5]"
   ]
  },
  {
   "cell_type": "code",
   "execution_count": null,
   "metadata": {},
   "outputs": [],
   "source": [
    "\n",
    "iterator = iter(liste) # Iterator oluşturma\n",
    " \n",
    "print(next(iterator))   ## sıralar"
   ]
  },
  {
   "cell_type": "code",
   "execution_count": null,
   "metadata": {},
   "outputs": [],
   "source": [
    "print(next(iterator))"
   ]
  },
  {
   "cell_type": "code",
   "execution_count": null,
   "metadata": {},
   "outputs": [],
   "source": [
    "liste = [1,2,3,4,5]\n",
    " \n",
    "for i in liste:    ## bu da iterartor oluşturur\n",
    "    print(i)"
   ]
  },
  {
   "cell_type": "code",
   "execution_count": null,
   "metadata": {},
   "outputs": [],
   "source": [
    "\n",
    "liste = [1,2,3,4,5]\n",
    " \n",
    "iterator = iter(liste)\n",
    " \n",
    "while True:\n",
    "    try:                                   ##for döngüsü normalde bu\n",
    "        print(next(iterator))\n",
    "        \n",
    "    except StopIteration:\n",
    "        break"
   ]
  },
  {
   "cell_type": "code",
   "execution_count": null,
   "metadata": {},
   "outputs": [],
   "source": [
    "class Kumanda():\n",
    "    def __init__(self,kanal_listesi):\n",
    "        self.kanal_listesi = kanal_listesi # Kanal Listemiz\n",
    "        self.index = -1 # İndeksimiz\n",
    "        \n",
    "    def __iter__(self):\n",
    "        return self # iterator oluşturduğumuzda (iter fonksiyonu çağrıldığında )objemizi döneceğiz.\n",
    "    def __next__(self): # next fonksiyonu çağrıldığında burası çalışacak.\n",
    "        self.index += 1\n",
    "        if (self.index < len(self.kanal_listesi)):\n",
    "            return self.kanal_listesi[self.index]\n",
    "        else:\n",
    "            self.index = -1\n",
    "            raise StopIteration"
   ]
  },
  {
   "cell_type": "code",
   "execution_count": null,
   "metadata": {},
   "outputs": [],
   "source": [
    "kumanda = Kumanda([\"Kanal d\",\"Trt\",\"Atv\",\"Fox\",\"Bloomberg\"]) # Objemizi oluşturuyoruz.\n",
    " \n",
    "iterator =  iter(kumanda) # Objemiz iterable olduğu için iterator oluşturulabilir.\n",
    " \n",
    "print(next(iterator))\n",
    "print(next(iterator))\n",
    "print(next(iterator))\n",
    "print(next(iterator))\n",
    "print(next(iterator))"
   ]
  },
  {
   "cell_type": "code",
   "execution_count": null,
   "metadata": {},
   "outputs": [],
   "source": [
    "for i in kumanda:\n",
    "    print(i)"
   ]
  },
  {
   "cell_type": "code",
   "execution_count": null,
   "metadata": {},
   "outputs": [],
   "source": [
    "def karelerial():\n",
    "    sonuç = []\n",
    "    \n",
    "    for i in range(1,6):\n",
    "        sonuç.append(i**2)\n",
    "    return sonuç\n",
    " \n",
    " \n",
    "print(karelerial())"
   ]
  },
  {
   "cell_type": "code",
   "execution_count": null,
   "metadata": {},
   "outputs": [],
   "source": [
    "def karelerial():\n",
    "    for i in range(1,6):\n",
    "        yield i ** 2 # yield anahtar kelimesi generator'un değer üretmesi için kullanılıyor.\n",
    "generator =  karelerial()   ## generator bir kere üretiyor sonra gidiyor yer kaplamıyor\n",
    " \n",
    "print(generator)"
   ]
  },
  {
   "cell_type": "code",
   "execution_count": null,
   "metadata": {},
   "outputs": [],
   "source": [
    "iterator = iter(generator)\n",
    " \n",
    "print(next(iterator)) # 1 değeri üretildi\n",
    "print(next(iterator)) # 4 değeri üretildi 1 değeri tarihe karıştı.\n",
    "print(next(iterator))"
   ]
  },
  {
   "cell_type": "code",
   "execution_count": null,
   "metadata": {},
   "outputs": [],
   "source": [
    "\n",
    " \n",
    "print(next(iterator)) # 1 değeri üretildi\n",
    "print(next(iterator)) # 4 değeri üretildi 1 değeri tarihe karıştı.\n"
   ]
  },
  {
   "cell_type": "code",
   "execution_count": null,
   "metadata": {},
   "outputs": [],
   "source": [
    "liste = [i * 3 for i in range(5)]\n",
    " \n",
    "print(liste)"
   ]
  },
  {
   "cell_type": "code",
   "execution_count": null,
   "metadata": {},
   "outputs": [],
   "source": [
    "generator = (i * 3 for i in range(5))\n",
    " \n",
    "print(generator)"
   ]
  },
  {
   "cell_type": "code",
   "execution_count": null,
   "metadata": {},
   "outputs": [],
   "source": [
    "iterator = iter(generator)\n",
    " \n",
    "print(next(iterator))\n",
    "print(next(iterator))\n",
    "print(next(iterator))"
   ]
  },
  {
   "cell_type": "code",
   "execution_count": null,
   "metadata": {},
   "outputs": [],
   "source": [
    "def carpimtablosu():\n",
    "    for i in range(1,11):\n",
    "        for j in range(1,11):\n",
    "            yield \"{} x {} = {}\".format(i,j,i*j)"
   ]
  },
  {
   "cell_type": "code",
   "execution_count": null,
   "metadata": {},
   "outputs": [],
   "source": [
    "for i in carpimtablosu():\n",
    "    print(i)"
   ]
  },
  {
   "cell_type": "code",
   "execution_count": null,
   "metadata": {},
   "outputs": [],
   "source": [
    "for i in range(100): # Sadece istediğimiz zaman sayılara ulaşıyoruz. range bir generatordür\n",
    "    print(i)"
   ]
  },
  {
   "cell_type": "code",
   "execution_count": null,
   "metadata": {},
   "outputs": [],
   "source": [
    "import random\n",
    "a=random.randint(1,200)\n",
    "i=5\n",
    "\n",
    "\n",
    "while True:\n",
    "    b=int(input(\"0 ile 200 arası bir Sayı Giriniz: \"))\n",
    "    \n",
    "    if(a==b):\n",
    "        print(\"Doğru\")\n",
    "        break\n",
    "    elif(a<b):\n",
    "        print(\"Daha Küçük\")\n",
    "        i-=1\n",
    "        print(\"{} hakkınız kaldı\".format(i))\n",
    "    elif(a>b):\n",
    "        print(\"Daha Büyük\")\n",
    "        i-=1\n",
    "        print(\"{} hakkınız kaldı\".format(i))\n",
    "    if(i==0):\n",
    "        print(\"Doğru cevap {}\".format(a))\n",
    "        break\n",
    "        "
   ]
  },
  {
   "cell_type": "code",
   "execution_count": null,
   "metadata": {},
   "outputs": [],
   "source": [
    "import time \n",
    "from datetime import datetime\n",
    "\n",
    "print(\"Yarışmaya Hoşgeldiniz\")\n",
    "ilk= datetime.now()\n",
    "ilkk=ilk.second\n",
    "\n",
    "print(\"Sorunuz Hazırlanıyor.....\")\n",
    "time.sleep(3)\n",
    "doğru=0\n",
    "\n",
    "soru1= int(input(\"SORU 1: Fenerbahçenin kaç şampiyonluğu vardır? =\"))\n",
    "\n",
    "cevap1= 19\n",
    "while True:\n",
    "    if(soru1==cevap1):\n",
    "        print(\"Tebrikler\")\n",
    "        doğru+=1\n",
    "        break\n",
    "    else:\n",
    "        print(\"Yanlış\")\n",
    "        break\n",
    "\n",
    "        \n",
    "        \n",
    "print(\"Sonraki Soru\")\n",
    "print(\"Sorunuz Hazırlanıyor.....\")\n",
    "time.sleep(3)\n",
    "soru2=int(input(\"SORU 2= Fenerbahçenin kuruluş yılı kaçtır?= \"))\n",
    "cevap2=1907\n",
    "\n",
    "while True:\n",
    "    if(soru2==cevap2):\n",
    "        print(\"Tebrikler\")\n",
    "        doğru+=1\n",
    "      \n",
    "        break\n",
    "    else:\n",
    "        print(\"Yanlış\")\n",
    "        break\n",
    "\n",
    "        \n",
    "print(\"Sonraki Soru\")\n",
    "print(\"Sorunuz Hazırlanıyor.....\")\n",
    "time.sleep(3)\n",
    "soru3=int(input(\" SORU 3= Fenerbahçenin Son şampiyonluk yılı?= \"))\n",
    "cevap3=2011\n",
    "\n",
    "while True:\n",
    "    if(soru3==cevap3):\n",
    "        print(\"Tebrikler\")\n",
    "        doğru+=1\n",
    "        \n",
    "        break\n",
    "    else:\n",
    "        print(\"Yanlış\")\n",
    "        \n",
    "        break\n",
    "\n",
    "        \n",
    "        \n",
    "print(\"Yarışmaya Katıldığınız için teşekkür ederiz\")\n",
    "print(\"Sonuçlar Hazırlanıyor.............\")\n",
    "time.sleep(4)        \n",
    "        \n",
    "\n",
    "print(\"-------------------------\")\n",
    "print(\"Doğru Sayısı {}\".format(doğru))\n",
    "son= datetime.now()\n",
    "sonn=son.second\n",
    "print(\"Yarışma {} saniye sürdü\".format(sonn-ilkk))\n",
    "\n",
    "print(\"Yarışma bitiş saati {}\".format(şu_an))\n",
    "print(\"-------------------------\")\n",
    "print(\"Cavaplar:\")\n",
    "print(\"Soru 1 = {}\\nSoru 2= {}\\nSoru 3= {} \\n\".format(cevap1,cevap2,cevap3))\n"
   ]
  },
  {
   "cell_type": "code",
   "execution_count": 205,
   "metadata": {},
   "outputs": [
    {
     "name": "stdout",
     "output_type": "stream",
     "text": [
      "2022-01-19 15:07:01.885818\n"
     ]
    }
   ],
   "source": [
    "from datetime import datetime\n",
    "şu_an = datetime.now()\n",
    "print(şu_an)"
   ]
  },
  {
   "cell_type": "code",
   "execution_count": 206,
   "metadata": {},
   "outputs": [
    {
     "name": "stdout",
     "output_type": "stream",
     "text": [
      "1\n"
     ]
    }
   ],
   "source": [
    "from datetime import datetime\n",
    "şu_an = datetime.now()\n",
    "print(şu_an.month)"
   ]
  },
  {
   "cell_type": "code",
   "execution_count": 207,
   "metadata": {},
   "outputs": [
    {
     "name": "stdout",
     "output_type": "stream",
     "text": [
      "Wed Jan 19 15:07:02 2022\n"
     ]
    }
   ],
   "source": [
    "print(datetime.ctime(şu_an)) "
   ]
  },
  {
   "cell_type": "code",
   "execution_count": 208,
   "metadata": {},
   "outputs": [
    {
     "ename": "IndentationError",
     "evalue": "unexpected indent (<ipython-input-208-670bd5dc6eec>, line 2)",
     "output_type": "error",
     "traceback": [
      "\u001b[1;36m  File \u001b[1;32m\"<ipython-input-208-670bd5dc6eec>\"\u001b[1;36m, line \u001b[1;32m2\u001b[0m\n\u001b[1;33m    Yıl bilgisini almak için : %Y\u001b[0m\n\u001b[1;37m    ^\u001b[0m\n\u001b[1;31mIndentationError\u001b[0m\u001b[1;31m:\u001b[0m unexpected indent\n"
     ]
    }
   ],
   "source": [
    "##strftime() fonksiyonu¶\n",
    "    Yıl bilgisini almak için : %Y\n",
    "\n",
    "    Ay ismini almak için : %B\n",
    "\n",
    "    Gün ismini almak için : %A\n",
    "\n",
    "    Saat bilgisini almak için : %X\n",
    "\n",
    "    Gün bilgisini almak için : %D"
   ]
  },
  {
   "cell_type": "code",
   "execution_count": null,
   "metadata": {},
   "outputs": [],
   "source": [
    "print(datetime.strftime(şu_an,\"%Y\"))\n",
    "\n",
    "print(datetime.strftime(şu_an,\"%B\"))"
   ]
  },
  {
   "cell_type": "code",
   "execution_count": null,
   "metadata": {},
   "outputs": [],
   "source": [
    "import locale  ##yer söyler\n",
    "print(locale.setlocale(locale.LC_ALL,\"\"))"
   ]
  },
  {
   "cell_type": "code",
   "execution_count": 209,
   "metadata": {},
   "outputs": [],
   "source": [
    "saniye =  datetime.timestamp(şu_an)"
   ]
  },
  {
   "cell_type": "code",
   "execution_count": 210,
   "metadata": {},
   "outputs": [
    {
     "name": "stdout",
     "output_type": "stream",
     "text": [
      "1642594022.048911\n"
     ]
    }
   ],
   "source": [
    "print(saniye)"
   ]
  },
  {
   "cell_type": "code",
   "execution_count": 211,
   "metadata": {},
   "outputs": [
    {
     "name": "stdout",
     "output_type": "stream",
     "text": [
      "16\n"
     ]
    }
   ],
   "source": [
    "tarih = datetime(2020,8,3)\n",
    "a=tarih.day\n",
    "şimdi= datetime.now()\n",
    "b=şimdi.day\n",
    "fark = b-a\n",
    "print(fark)"
   ]
  },
  {
   "cell_type": "code",
   "execution_count": 212,
   "metadata": {},
   "outputs": [
    {
     "name": "stdout",
     "output_type": "stream",
     "text": [
      "Ons Miktarını Giriniz: 1900\n",
      "Dolar Miktarını giriniz: 13.75\n",
      "Gram altın anlık 840.032154340836\n"
     ]
    }
   ],
   "source": [
    "ons=float(input(\"Ons Miktarını Giriniz: \"))\n",
    "dolar=float(input(\"Dolar Miktarını giriniz: \"))\n",
    "\n",
    "altın= (ons/31.10)*dolar\n",
    "\n",
    "print(\"Gram altın anlık {}\".format(altın))"
   ]
  },
  {
   "cell_type": "code",
   "execution_count": null,
   "metadata": {},
   "outputs": [],
   "source": [
    "import random\n",
    "\n",
    "skor=0\n",
    "while True:\n",
    "   \n",
    "\n",
    "        d = {'mud':'çamur', 'seed':'tohum', 'relief':'rahatlama', 'concern':'ilgilendirme', 'keen on':'hevesli'\n",
    "            , 'gather':'toplanmak', 'demand':'talep', 'grave':'mezar', 'miserable':'sefil', 'vomit':'kusma'\n",
    "            , 'mere':'sade', 'robe':'cübbe', 'flutter':'çırpınma', 'sulk':'küsmek', 'slay':'katletme'\n",
    "            , 'detention':'tutuklu', 'tear':'gözyaşı', 'deny':'reddetme', 'pure':'saf', 'dormitory':'yurt'\n",
    "            , 'offend':'kırmak', 'tease':'alay', 'revive':'canlandırma', 'spooky':'ürkütücü', 'mend':'tamir etme'\n",
    "            , 'sufficient':'yeterli', 'sneak':'gizlice', 'rely':'güven', 'fraud':'sahtekar', 'racist':'ırkçı'\n",
    "            , 'reveal':'ortaya çıkma', 'lawsuit':'dava', 'omen':'alamet', 'bastard':'piç', 'respond':'yanıt'\n",
    "            , 'squeeze':'sıkma', 'contest':'yarışma', 'crow':'karga', 'harmony':'uyum', 'greet':'selamlama'\n",
    "            , 'domastic':'yerli', 'quite':'oldukça', 'give a rise':'zam yapma', 'postpone':'erteleme', 'struggle':'kavga'\n",
    "            , 'dealer':'satıcı', 'recipe':'tarif', 'brag':'övünme', 'junkie':'bağımlı', 'reckon':'sanırım'\n",
    "            , 'cycle':'döngü', 'accuse':'suçlama', 'fry':'kızarma', 'adorable':'sevimli', 'obey':'itaat'\n",
    "            , 'pervert':'sapık', 'via':'yoluyla', 'rapist':'tecavüzcü', 'banner':'afiş', 'exude':'yaymak'\n",
    "            , 'flavor':'lezzet', 'spirit':'ruh', 'rival':'rakip', 'guilt':'suçlu', 'properly':'uygun'\n",
    "            , 'convince':'ikna', 'inspire':'ilham verme', 'rush':'acele', 'serve':'hizmet', 'innocent':'masum'\n",
    "            , 'no offense':'alınma', 'awkward':'garip', 'pride':'kibir', 'lawn':'çim', 'cache':'önbellek'\n",
    "            , 'adjust':' ayarlamak', 'ancient':'eski', 'bargain':'pazarlık', 'beg':'yalvarmak'\n",
    "            , 'comment':'yorum', 'consult':'danışma', 'court':'mahkeme', 'insurance':'sigorta', 'invoice':'fatura'\n",
    "            , 'justice':'adalet', 'loan':'borç', 'maintain':'sürdürme', 'marvellous':'harika', 'respect':'saygı'\n",
    "            , 'percentage':'yüzde', 'sense':'duyu', 'shake':'sallama', 'property':'özellik', 'quantity':'miktar'\n",
    "            , 'allocate':'bölüştürme', 'arch':'kemer', 'asset':'varlık', 'boost':'artırma', 'cease':'durdurma'\n",
    "            , 'confirm':'onaylama', 'conflict':'çatışma', 'exceed':'aşma', 'conjunction':'bağlaç'\n",
    "            , 'constant':'sürekli', 'contribution':'katkı', 'decay':'çürüme', 'decline':'azalma', 'density':'yoğunluk'\n",
    "            , 'dismiss':'kovmak', 'encounter':'karşılaşmak', 'essential':'gerekli', 'expand':'genişletme'\n",
    "            , 'expense':'masraf', 'explode':'patlama', 'generate':'üretme', 'implement':'uygulama', 'improvement':'gelişim'\n",
    "            , 'incidence':'olay', 'indicate':'belirtme', 'irritate':'kızdırma', 'loose':'gevşek', 'magnitude':'büyüklük'\n",
    "            , 'majority':'çoğunluk', 'minority':'azınlık', 'narrative':'öykü', 'obtain':'elde etme'\n",
    "            , '\toutline':'özetleme', 'prevent':'önleme', 'recall':'hatırlama', 'reckon':'sayma'}\n",
    "        x= random.choice(list(d.keys()))\n",
    "        print(\"Yeni kelime {}\".format(x))\n",
    "        a=input(\"\\nKelime gir: \")\n",
    "        if(a==d[x]):\n",
    "            print(\"Doğru ✓✓✓✓✓✓\")\n",
    "            skor+=1\n",
    "        else:\n",
    "            print(\"Yanlış!!! Doğrusu = {}\".format(d[x]))\n",
    "            \n",
    "        if(a==\"q\"):\n",
    "            break\n",
    "            \n",
    "print(\"skorunuz {}\".format(skor))"
   ]
  },
  {
   "cell_type": "code",
   "execution_count": 213,
   "metadata": {},
   "outputs": [
    {
     "name": "stdout",
     "output_type": "stream",
     "text": [
      "160\n"
     ]
    }
   ],
   "source": [
    "def sayı(x):\n",
    "    return x*x\n",
    "\n",
    "def ikikat(x,y=8):\n",
    "    return y*2*x\n",
    "\n",
    "print(ikikat(x=10))"
   ]
  },
  {
   "cell_type": "code",
   "execution_count": 214,
   "metadata": {},
   "outputs": [
    {
     "data": {
      "text/plain": [
       "'Guido'"
      ]
     },
     "execution_count": 214,
     "metadata": {},
     "output_type": "execute_result"
    }
   ],
   "source": [
    "name = 'Dave'\n",
    "\n",
    "def spam():\n",
    "    global name\n",
    "    name = 'Guido'\n",
    "    return name\n",
    "\n",
    "spam()"
   ]
  },
  {
   "cell_type": "code",
   "execution_count": 215,
   "metadata": {},
   "outputs": [
    {
     "name": "stdout",
     "output_type": "stream",
     "text": [
      "[1, 2, 3, 42]\n"
     ]
    }
   ],
   "source": [
    "def foo(items):\n",
    "    items.append(42)    # Modifies the input object\n",
    "\n",
    "a = [1, 2, 3]\n",
    "foo(a)\n",
    "print(a)                "
   ]
  },
  {
   "cell_type": "code",
   "execution_count": 216,
   "metadata": {},
   "outputs": [
    {
     "name": "stdout",
     "output_type": "stream",
     "text": [
      "[1, 2, 3]\n"
     ]
    }
   ],
   "source": [
    "def bar(items):\n",
    "    items = [4,5,6]    # Changes local `items` variable to point to a different object\n",
    "\n",
    "b = [1, 2, 3]\n",
    "bar(b)\n",
    "print(b)                "
   ]
  },
  {
   "cell_type": "code",
   "execution_count": null,
   "metadata": {},
   "outputs": [],
   "source": [
    " import math\n",
    "items = [abs, math, ValueError ]\n",
    "items"
   ]
  },
  {
   "cell_type": "code",
   "execution_count": 218,
   "metadata": {},
   "outputs": [
    {
     "data": {
      "text/plain": [
       "16"
      ]
     },
     "execution_count": 218,
     "metadata": {},
     "output_type": "execute_result"
    }
   ],
   "source": [
    "def square(x):\n",
    "    return x*x\n",
    "\n",
    "\n",
    "a = 2\n",
    "b = a + 2 \n",
    "z = square(b) \n",
    "z"
   ]
  },
  {
   "cell_type": "code",
   "execution_count": 219,
   "metadata": {},
   "outputs": [],
   "source": [
    "def foo():\n",
    "    \"selam\"\n",
    "    import math\n",
    "    print(math.sqrt(4))\n",
    "\n"
   ]
  },
  {
   "cell_type": "code",
   "execution_count": 220,
   "metadata": {},
   "outputs": [
    {
     "name": "stdout",
     "output_type": "stream",
     "text": [
      "2.0\n"
     ]
    }
   ],
   "source": [
    "foo()"
   ]
  },
  {
   "cell_type": "code",
   "execution_count": 221,
   "metadata": {},
   "outputs": [
    {
     "data": {
      "text/plain": [
       "'wgewewfwe'"
      ]
     },
     "execution_count": 221,
     "metadata": {},
     "output_type": "execute_result"
    }
   ],
   "source": [
    "\"wgewewfwe\""
   ]
  },
  {
   "cell_type": "code",
   "execution_count": 222,
   "metadata": {},
   "outputs": [],
   "source": [
    "def divide(a,b):\n",
    "    q = a // b # Quotient\n",
    "    r = a % b # Remainder\n",
    "    return q, r # Return a tuple\n"
   ]
  },
  {
   "cell_type": "code",
   "execution_count": 223,
   "metadata": {},
   "outputs": [
    {
     "data": {
      "text/plain": [
       "(0, 4)"
      ]
     },
     "execution_count": 223,
     "metadata": {},
     "output_type": "execute_result"
    }
   ],
   "source": [
    "A=divide(4,6)\n",
    "A"
   ]
  },
  {
   "cell_type": "code",
   "execution_count": 224,
   "metadata": {},
   "outputs": [],
   "source": [
    "name = \"ahmet\"\n",
    "def spam():\n",
    "    global name\n",
    "    name = \"Mehmet\"\n",
    "    return name\n",
    "    \n",
    "    "
   ]
  },
  {
   "cell_type": "code",
   "execution_count": 225,
   "metadata": {},
   "outputs": [
    {
     "data": {
      "text/plain": [
       "'Mehmet'"
      ]
     },
     "execution_count": 225,
     "metadata": {},
     "output_type": "execute_result"
    }
   ],
   "source": [
    "spam()"
   ]
  },
  {
   "cell_type": "code",
   "execution_count": 226,
   "metadata": {},
   "outputs": [
    {
     "data": {
      "text/plain": [
       "'Mehmet'"
      ]
     },
     "execution_count": 226,
     "metadata": {},
     "output_type": "execute_result"
    }
   ],
   "source": [
    "name"
   ]
  },
  {
   "cell_type": "code",
   "execution_count": 227,
   "metadata": {},
   "outputs": [
    {
     "name": "stdout",
     "output_type": "stream",
     "text": [
      "[1, 2, 3, 42]\n"
     ]
    }
   ],
   "source": [
    "def foo(items):\n",
    "    items.append(42) # Modifies the input object\n",
    "a = [1, 2, 3]\n",
    "foo(a)\n",
    "print(a) "
   ]
  },
  {
   "cell_type": "code",
   "execution_count": 228,
   "metadata": {},
   "outputs": [
    {
     "name": "stdout",
     "output_type": "stream",
     "text": [
      "Computer says no\n"
     ]
    }
   ],
   "source": [
    "try:\n",
    "    go_do_something()\n",
    "except Exception:\n",
    "    print('Computer says no')"
   ]
  },
  {
   "cell_type": "code",
   "execution_count": 230,
   "metadata": {},
   "outputs": [],
   "source": [
    "class Stock:\n",
    "    def __init__(self, name, shares, price):\n",
    "        self.name = name\n",
    "        self.shares = shares\n",
    "        self.price = price\n",
    "    def cost(self):\n",
    "        return self.shares * self.price\n",
    "    def sell(self, nshares):\n",
    "        self.shares -= nshares"
   ]
  }
 ],
 "metadata": {
  "kernelspec": {
   "display_name": "Python 3",
   "language": "python",
   "name": "python3"
  },
  "language_info": {
   "codemirror_mode": {
    "name": "ipython",
    "version": 3
   },
   "file_extension": ".py",
   "mimetype": "text/x-python",
   "name": "python",
   "nbconvert_exporter": "python",
   "pygments_lexer": "ipython3",
   "version": "3.7.1"
  }
 },
 "nbformat": 4,
 "nbformat_minor": 2
}
