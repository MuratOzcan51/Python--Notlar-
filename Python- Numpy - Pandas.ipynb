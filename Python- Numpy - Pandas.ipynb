{
 "cells": [
  {
   "cell_type": "code",
   "execution_count": 39,
   "metadata": {},
   "outputs": [],
   "source": [
    "import numpy as num"
   ]
  },
  {
   "cell_type": "code",
   "execution_count": 2,
   "metadata": {},
   "outputs": [],
   "source": [
    "a=num.array([1,2,4,2])    # sabit bir tip tutar"
   ]
  },
  {
   "cell_type": "code",
   "execution_count": 3,
   "metadata": {},
   "outputs": [
    {
     "data": {
      "text/plain": [
       "numpy.ndarray"
      ]
     },
     "execution_count": 3,
     "metadata": {},
     "output_type": "execute_result"
    }
   ],
   "source": [
    "type(a) "
   ]
  },
  {
   "cell_type": "code",
   "execution_count": 5,
   "metadata": {},
   "outputs": [
    {
     "data": {
      "text/plain": [
       "array([ 3.12, 43.  ,  2.  , 56.  ])"
      ]
     },
     "execution_count": 5,
     "metadata": {},
     "output_type": "execute_result"
    }
   ],
   "source": [
    "num.array([3.12,43,2,56])  ## hepsini float yaptı sabit tip"
   ]
  },
  {
   "cell_type": "code",
   "execution_count": 6,
   "metadata": {},
   "outputs": [
    {
     "data": {
      "text/plain": [
       "array([ 3, 43,  2, 56])"
      ]
     },
     "execution_count": 6,
     "metadata": {},
     "output_type": "execute_result"
    }
   ],
   "source": [
    "num.array([3.12,43,2,56], dtype=\"int\" )"
   ]
  },
  {
   "cell_type": "code",
   "execution_count": 7,
   "metadata": {},
   "outputs": [],
   "source": [
    "### sıfırdan array oluşturma"
   ]
  },
  {
   "cell_type": "code",
   "execution_count": 8,
   "metadata": {},
   "outputs": [
    {
     "data": {
      "text/plain": [
       "array([0., 0., 0., 0., 0.])"
      ]
     },
     "execution_count": 8,
     "metadata": {},
     "output_type": "execute_result"
    }
   ],
   "source": [
    "num.zeros((5))"
   ]
  },
  {
   "cell_type": "code",
   "execution_count": 5,
   "metadata": {},
   "outputs": [
    {
     "data": {
      "text/plain": [
       "array([[1., 1., 1., 1., 1.],\n",
       "       [1., 1., 1., 1., 1.],\n",
       "       [1., 1., 1., 1., 1.]])"
      ]
     },
     "execution_count": 5,
     "metadata": {},
     "output_type": "execute_result"
    }
   ],
   "source": [
    "num.ones((3,5))"
   ]
  },
  {
   "cell_type": "code",
   "execution_count": 10,
   "metadata": {},
   "outputs": [
    {
     "data": {
      "text/plain": [
       "array([[8, 8, 8, 8, 8],\n",
       "       [8, 8, 8, 8, 8],\n",
       "       [8, 8, 8, 8, 8]])"
      ]
     },
     "execution_count": 10,
     "metadata": {},
     "output_type": "execute_result"
    }
   ],
   "source": [
    "num.full((3,5),8)  ## 3 e 5 lik 8 lerden oluşan array"
   ]
  },
  {
   "cell_type": "code",
   "execution_count": 11,
   "metadata": {},
   "outputs": [
    {
     "data": {
      "text/plain": [
       "array([ 0,  4,  8, 12, 16, 20, 24, 28])"
      ]
     },
     "execution_count": 11,
     "metadata": {},
     "output_type": "execute_result"
    }
   ],
   "source": [
    "num.arange(0,30,4)  # 0 dan 30 a kadar 4 er 4 er "
   ]
  },
  {
   "cell_type": "code",
   "execution_count": 9,
   "metadata": {},
   "outputs": [
    {
     "data": {
      "text/plain": [
       "array([1, 1, 2, 3, 4, 5])"
      ]
     },
     "execution_count": 9,
     "metadata": {},
     "output_type": "execute_result"
    }
   ],
   "source": [
    "a =num.linspace(1,5,6, dtype= \"int\")  ## 1 ile 5 arasında 6  sayı oluştur\n",
    "a"
   ]
  },
  {
   "cell_type": "code",
   "execution_count": 13,
   "metadata": {},
   "outputs": [
    {
     "data": {
      "text/plain": [
       "array([[1, 6, 5],\n",
       "       [5, 3, 3]])"
      ]
     },
     "execution_count": 13,
     "metadata": {},
     "output_type": "execute_result"
    }
   ],
   "source": [
    "num.random.randint(1,8,(2,3))   ## 1 8 arasında 2 ye 3 lük rastgele arrray oluşturur"
   ]
  },
  {
   "cell_type": "code",
   "execution_count": 10,
   "metadata": {},
   "outputs": [
    {
     "data": {
      "text/plain": [
       "array([  9.12425039,  -0.49116825,  12.29998788, -10.03524041,\n",
       "        -5.18825214,   8.46391241,  15.46835209,   5.73236786,\n",
       "        11.30632026,  -4.71950842])"
      ]
     },
     "execution_count": 10,
     "metadata": {},
     "output_type": "execute_result"
    }
   ],
   "source": [
    "num.random.normal(1,8, 10) ## ort 1 standart sap. 8 olan 10 sayı"
   ]
  },
  {
   "cell_type": "code",
   "execution_count": 11,
   "metadata": {},
   "outputs": [
    {
     "data": {
      "text/plain": [
       "1"
      ]
     },
     "execution_count": 11,
     "metadata": {},
     "output_type": "execute_result"
    }
   ],
   "source": [
    "a.ndim    ## aray boyutu"
   ]
  },
  {
   "cell_type": "code",
   "execution_count": 12,
   "metadata": {},
   "outputs": [
    {
     "data": {
      "text/plain": [
       "(6,)"
      ]
     },
     "execution_count": 12,
     "metadata": {},
     "output_type": "execute_result"
    }
   ],
   "source": [
    "a.shape  ## boyut bilgisi"
   ]
  },
  {
   "cell_type": "code",
   "execution_count": 13,
   "metadata": {},
   "outputs": [
    {
     "data": {
      "text/plain": [
       "6"
      ]
     },
     "execution_count": 13,
     "metadata": {},
     "output_type": "execute_result"
    }
   ],
   "source": [
    "a.size   ## eleman sayısı"
   ]
  },
  {
   "cell_type": "code",
   "execution_count": 14,
   "metadata": {},
   "outputs": [
    {
     "data": {
      "text/plain": [
       "dtype('int32')"
      ]
     },
     "execution_count": 14,
     "metadata": {},
     "output_type": "execute_result"
    }
   ],
   "source": [
    "a.dtype   ##tipi"
   ]
  },
  {
   "cell_type": "code",
   "execution_count": 15,
   "metadata": {},
   "outputs": [
    {
     "data": {
      "text/plain": [
       "array([[1, 2, 3],\n",
       "       [4, 5, 6],\n",
       "       [7, 8, 9]])"
      ]
     },
     "execution_count": 15,
     "metadata": {},
     "output_type": "execute_result"
    }
   ],
   "source": [
    "num.arange(1,10).reshape((3,3))   ## boyut kazandırır"
   ]
  },
  {
   "cell_type": "code",
   "execution_count": 16,
   "metadata": {},
   "outputs": [],
   "source": [
    "x=num.array([1,2,4,5,6])\n",
    "y=num.array([1,2,4,5,6])"
   ]
  },
  {
   "cell_type": "code",
   "execution_count": 17,
   "metadata": {},
   "outputs": [
    {
     "data": {
      "text/plain": [
       "array([1, 2, 4, 5, 6, 1, 2, 4, 5, 6])"
      ]
     },
     "execution_count": 17,
     "metadata": {},
     "output_type": "execute_result"
    }
   ],
   "source": [
    "num.concatenate([x,y])    ## array birleştirir"
   ]
  },
  {
   "cell_type": "code",
   "execution_count": 18,
   "metadata": {},
   "outputs": [],
   "source": [
    "f=num.array([1,2,3,5,6,8,8,6,54,2,3])"
   ]
  },
  {
   "cell_type": "code",
   "execution_count": 19,
   "metadata": {},
   "outputs": [
    {
     "data": {
      "text/plain": [
       "[array([1, 2]), array([3, 5, 6]), array([ 8,  8,  6, 54,  2,  3])]"
      ]
     },
     "execution_count": 19,
     "metadata": {},
     "output_type": "execute_result"
    }
   ],
   "source": [
    "num.split(f,[2,5])   ## 2. ile 5 e kadar olanı ayırır"
   ]
  },
  {
   "cell_type": "code",
   "execution_count": null,
   "metadata": {},
   "outputs": [],
   "source": [
    "x,y,z=num.split(f,[2,5])    ## x y z ye atar"
   ]
  },
  {
   "cell_type": "code",
   "execution_count": null,
   "metadata": {},
   "outputs": [],
   "source": [
    "x"
   ]
  },
  {
   "cell_type": "code",
   "execution_count": null,
   "metadata": {},
   "outputs": [],
   "source": [
    "y"
   ]
  },
  {
   "cell_type": "code",
   "execution_count": null,
   "metadata": {},
   "outputs": [],
   "source": [
    "m=num.arange(16).reshape(4,4)"
   ]
  },
  {
   "cell_type": "code",
   "execution_count": null,
   "metadata": {},
   "outputs": [],
   "source": [
    "m"
   ]
  },
  {
   "cell_type": "code",
   "execution_count": 20,
   "metadata": {},
   "outputs": [],
   "source": [
    "f=num.array([1,2,3,5,6,8,8,6,54,2,3])"
   ]
  },
  {
   "cell_type": "code",
   "execution_count": 21,
   "metadata": {},
   "outputs": [
    {
     "data": {
      "text/plain": [
       "array([ 1,  2,  2,  3,  3,  5,  6,  6,  8,  8, 54])"
      ]
     },
     "execution_count": 21,
     "metadata": {},
     "output_type": "execute_result"
    }
   ],
   "source": [
    "num.sort(f)            ## sıralar"
   ]
  },
  {
   "cell_type": "code",
   "execution_count": 22,
   "metadata": {},
   "outputs": [
    {
     "data": {
      "text/plain": [
       "<function ndarray.sort>"
      ]
     },
     "execution_count": 22,
     "metadata": {},
     "output_type": "execute_result"
    }
   ],
   "source": [
    "f.sort       ## yapısını değiştirir"
   ]
  },
  {
   "cell_type": "code",
   "execution_count": 23,
   "metadata": {},
   "outputs": [
    {
     "data": {
      "text/plain": [
       "array([[ 4.0228302 ,  3.46781555, -5.83018773],\n",
       "       [ 1.0527011 ,  7.26548118,  6.06488014],\n",
       "       [ 4.78592861,  9.17701524,  3.56326961]])"
      ]
     },
     "execution_count": 23,
     "metadata": {},
     "output_type": "execute_result"
    }
   ],
   "source": [
    "y=num.random.normal(5,3,(3,3))\n",
    "y"
   ]
  },
  {
   "cell_type": "code",
   "execution_count": null,
   "metadata": {},
   "outputs": [],
   "source": [
    "num.sort(y, axis=1)    ## satırı kendi içinde sıralar"
   ]
  },
  {
   "cell_type": "code",
   "execution_count": 24,
   "metadata": {},
   "outputs": [
    {
     "data": {
      "text/plain": [
       "array([[6.32931468, 6.16426564, 3.25320293],\n",
       "       [8.06021363, 1.30474028, 1.58923905],\n",
       "       [2.51082607, 4.71179964, 7.27541119]])"
      ]
     },
     "execution_count": 24,
     "metadata": {},
     "output_type": "execute_result"
    }
   ],
   "source": [
    "t= num.random.normal(5,3,(3,3))\n",
    "t"
   ]
  },
  {
   "cell_type": "code",
   "execution_count": 26,
   "metadata": {},
   "outputs": [
    {
     "data": {
      "text/plain": [
       "array([[2.51082607, 1.30474028, 1.58923905],\n",
       "       [6.32931468, 4.71179964, 3.25320293],\n",
       "       [8.06021363, 6.16426564, 7.27541119]])"
      ]
     },
     "execution_count": 26,
     "metadata": {},
     "output_type": "execute_result"
    }
   ],
   "source": [
    "num.sort(t, axis= 0)"
   ]
  },
  {
   "cell_type": "code",
   "execution_count": null,
   "metadata": {},
   "outputs": [],
   "source": [
    "num.sort(y, axis=0)    ## sütuna göre sıralar"
   ]
  },
  {
   "cell_type": "code",
   "execution_count": 27,
   "metadata": {},
   "outputs": [
    {
     "data": {
      "text/plain": [
       "7.2654811777835135"
      ]
     },
     "execution_count": 27,
     "metadata": {},
     "output_type": "execute_result"
    }
   ],
   "source": [
    "y[1,1]    ## indexe erişir"
   ]
  },
  {
   "cell_type": "code",
   "execution_count": 28,
   "metadata": {},
   "outputs": [],
   "source": [
    "y[1,1]=0.1111111"
   ]
  },
  {
   "cell_type": "code",
   "execution_count": 29,
   "metadata": {},
   "outputs": [
    {
     "data": {
      "text/plain": [
       "array([[ 4.0228302 ,  3.46781555, -5.83018773],\n",
       "       [ 1.0527011 ,  0.1111111 ,  6.06488014],\n",
       "       [ 4.78592861,  9.17701524,  3.56326961]])"
      ]
     },
     "execution_count": 29,
     "metadata": {},
     "output_type": "execute_result"
    }
   ],
   "source": [
    "y"
   ]
  },
  {
   "cell_type": "code",
   "execution_count": 34,
   "metadata": {},
   "outputs": [
    {
     "data": {
      "text/plain": [
       "array([ 3,  4,  5,  6,  7,  8,  9, 10, 11, 12, 13, 14])"
      ]
     },
     "execution_count": 34,
     "metadata": {},
     "output_type": "execute_result"
    }
   ],
   "source": [
    "a=num.arange(3,15)\n",
    "a"
   ]
  },
  {
   "cell_type": "code",
   "execution_count": 38,
   "metadata": {},
   "outputs": [
    {
     "data": {
      "text/plain": [
       "array([ 5,  7,  9, 11])"
      ]
     },
     "execution_count": 38,
     "metadata": {},
     "output_type": "execute_result"
    }
   ],
   "source": [
    "a[2:10:2]   ## 2. indexten başla 2 şer git"
   ]
  },
  {
   "cell_type": "code",
   "execution_count": 40,
   "metadata": {},
   "outputs": [
    {
     "data": {
      "text/plain": [
       "array([[ 2, 17,  4],\n",
       "       [18, 19,  5],\n",
       "       [ 0,  3,  2]])"
      ]
     },
     "execution_count": 40,
     "metadata": {},
     "output_type": "execute_result"
    }
   ],
   "source": [
    "b=num.random.randint(20, size=(3,3))\n",
    "b"
   ]
  },
  {
   "cell_type": "code",
   "execution_count": 41,
   "metadata": {},
   "outputs": [
    {
     "data": {
      "text/plain": [
       "array([ 2, 18,  0])"
      ]
     },
     "execution_count": 41,
     "metadata": {},
     "output_type": "execute_result"
    }
   ],
   "source": [
    "b[:,0]     ## bütün satırları seç 0. sütunu al"
   ]
  },
  {
   "cell_type": "code",
   "execution_count": 42,
   "metadata": {},
   "outputs": [
    {
     "data": {
      "text/plain": [
       "array([17, 19,  3])"
      ]
     },
     "execution_count": 42,
     "metadata": {},
     "output_type": "execute_result"
    }
   ],
   "source": [
    "b[:,1] "
   ]
  },
  {
   "cell_type": "code",
   "execution_count": 43,
   "metadata": {},
   "outputs": [
    {
     "data": {
      "text/plain": [
       "array([ 2, 17,  4])"
      ]
     },
     "execution_count": 43,
     "metadata": {},
     "output_type": "execute_result"
    }
   ],
   "source": [
    "b[0,:]     ## 0. satırı seç"
   ]
  },
  {
   "cell_type": "code",
   "execution_count": 47,
   "metadata": {},
   "outputs": [
    {
     "data": {
      "text/plain": [
       "array([[ 2, 17],\n",
       "       [18, 19],\n",
       "       [ 0,  3]])"
      ]
     },
     "execution_count": 47,
     "metadata": {},
     "output_type": "execute_result"
    }
   ],
   "source": [
    "b[: , 0:2]   # 0 dan 1 e kadar satırları 0 dan 1 e kadar sütunları al"
   ]
  },
  {
   "cell_type": "code",
   "execution_count": 48,
   "metadata": {},
   "outputs": [
    {
     "data": {
      "text/plain": [
       "array([[ 0,  1,  2,  3],\n",
       "       [ 4,  5,  6,  7],\n",
       "       [ 8,  9, 10, 11],\n",
       "       [12, 13, 14, 15]])"
      ]
     },
     "execution_count": 48,
     "metadata": {},
     "output_type": "execute_result"
    }
   ],
   "source": [
    "m=num.arange(16).reshape(4,4)\n",
    "m"
   ]
  },
  {
   "cell_type": "code",
   "execution_count": 49,
   "metadata": {},
   "outputs": [
    {
     "data": {
      "text/plain": [
       "array([[1, 2],\n",
       "       [5, 6]])"
      ]
     },
     "execution_count": 49,
     "metadata": {},
     "output_type": "execute_result"
    }
   ],
   "source": [
    "altküm= m[0:2,1:3]\n",
    "altküm"
   ]
  },
  {
   "cell_type": "code",
   "execution_count": 50,
   "metadata": {},
   "outputs": [],
   "source": [
    "altküm[1,1]=3333"
   ]
  },
  {
   "cell_type": "code",
   "execution_count": 51,
   "metadata": {},
   "outputs": [
    {
     "data": {
      "text/plain": [
       "array([[   1,    2],\n",
       "       [   5, 3333]])"
      ]
     },
     "execution_count": 51,
     "metadata": {},
     "output_type": "execute_result"
    }
   ],
   "source": [
    "altküm"
   ]
  },
  {
   "cell_type": "code",
   "execution_count": 52,
   "metadata": {},
   "outputs": [
    {
     "data": {
      "text/plain": [
       "array([[   0,    1,    2,    3],\n",
       "       [   4,    5, 3333,    7],\n",
       "       [   8,    9,   10,   11],\n",
       "       [  12,   13,   14,   15]])"
      ]
     },
     "execution_count": 52,
     "metadata": {},
     "output_type": "execute_result"
    }
   ],
   "source": [
    "m      ##yeni bir atama hem alt kümeyi hem diziyi değiştirdi"
   ]
  },
  {
   "cell_type": "code",
   "execution_count": 53,
   "metadata": {},
   "outputs": [
    {
     "data": {
      "text/plain": [
       "array([[   1,    2],\n",
       "       [   5, 3333]])"
      ]
     },
     "execution_count": 53,
     "metadata": {},
     "output_type": "execute_result"
    }
   ],
   "source": [
    "altküm= m[0:2,1:3].copy()   ## copy ile sadece alt küme değişir ana array değişmez\n",
    "altküm"
   ]
  },
  {
   "cell_type": "code",
   "execution_count": 54,
   "metadata": {},
   "outputs": [
    {
     "data": {
      "text/plain": [
       "array([[   1,    2],\n",
       "       [   5, 2222]])"
      ]
     },
     "execution_count": 54,
     "metadata": {},
     "output_type": "execute_result"
    }
   ],
   "source": [
    "altküm[1,1]=2222\n",
    "altküm"
   ]
  },
  {
   "cell_type": "code",
   "execution_count": 55,
   "metadata": {},
   "outputs": [
    {
     "data": {
      "text/plain": [
       "array([[   0,    1,    2,    3],\n",
       "       [   4,    5, 3333,    7],\n",
       "       [   8,    9,   10,   11],\n",
       "       [  12,   13,   14,   15]])"
      ]
     },
     "execution_count": 55,
     "metadata": {},
     "output_type": "execute_result"
    }
   ],
   "source": [
    "m"
   ]
  },
  {
   "cell_type": "code",
   "execution_count": 56,
   "metadata": {},
   "outputs": [
    {
     "data": {
      "text/plain": [
       "array([ 2,  3,  4,  5,  6,  7,  8,  9, 10, 11, 12, 13, 14, 15])"
      ]
     },
     "execution_count": 56,
     "metadata": {},
     "output_type": "execute_result"
    }
   ],
   "source": [
    "p=num.arange(2,16)\n",
    "p"
   ]
  },
  {
   "cell_type": "code",
   "execution_count": 57,
   "metadata": {},
   "outputs": [],
   "source": [
    "al=[2,5,7]"
   ]
  },
  {
   "cell_type": "code",
   "execution_count": 58,
   "metadata": {},
   "outputs": [
    {
     "data": {
      "text/plain": [
       "array([4, 7, 9])"
      ]
     },
     "execution_count": 58,
     "metadata": {},
     "output_type": "execute_result"
    }
   ],
   "source": [
    "p[al]            ##fancy yani içinde o indexleri çeker alır"
   ]
  },
  {
   "cell_type": "code",
   "execution_count": 59,
   "metadata": {},
   "outputs": [
    {
     "data": {
      "text/plain": [
       "array([[ 0,  1,  2,  3],\n",
       "       [ 4,  5,  6,  7],\n",
       "       [ 8,  9, 10, 11],\n",
       "       [12, 13, 14, 15]])"
      ]
     },
     "execution_count": 59,
     "metadata": {},
     "output_type": "execute_result"
    }
   ],
   "source": [
    "p=num.arange(16).reshape(4,4)\n",
    "p\n"
   ]
  },
  {
   "cell_type": "code",
   "execution_count": 60,
   "metadata": {},
   "outputs": [
    {
     "data": {
      "text/plain": [
       "array([6, 7])"
      ]
     },
     "execution_count": 60,
     "metadata": {},
     "output_type": "execute_result"
    }
   ],
   "source": [
    "p[1,[2,3]]    ## 1. satır 2 ve 3. sütun"
   ]
  },
  {
   "cell_type": "code",
   "execution_count": 61,
   "metadata": {},
   "outputs": [
    {
     "data": {
      "text/plain": [
       "array([[ 6,  7],\n",
       "       [10, 11],\n",
       "       [14, 15]])"
      ]
     },
     "execution_count": 61,
     "metadata": {},
     "output_type": "execute_result"
    }
   ],
   "source": [
    "p[1: ,[2,3]]    ## slice yani 1 den başla sonrakileri al"
   ]
  },
  {
   "cell_type": "code",
   "execution_count": 62,
   "metadata": {},
   "outputs": [
    {
     "data": {
      "text/plain": [
       "array([ 2,  3,  4,  5,  6,  7,  8,  9, 10, 11, 12, 13, 14, 15])"
      ]
     },
     "execution_count": 62,
     "metadata": {},
     "output_type": "execute_result"
    }
   ],
   "source": [
    "p=num.arange(2,16)\n",
    "p"
   ]
  },
  {
   "cell_type": "code",
   "execution_count": 63,
   "metadata": {},
   "outputs": [
    {
     "data": {
      "text/plain": [
       "array([ True,  True,  True,  True, False, False, False, False, False,\n",
       "       False, False, False, False, False])"
      ]
     },
     "execution_count": 63,
     "metadata": {},
     "output_type": "execute_result"
    }
   ],
   "source": [
    "p<6    ## koşul"
   ]
  },
  {
   "cell_type": "code",
   "execution_count": 64,
   "metadata": {},
   "outputs": [
    {
     "data": {
      "text/plain": [
       "array([2, 3, 4, 5])"
      ]
     },
     "execution_count": 64,
     "metadata": {},
     "output_type": "execute_result"
    }
   ],
   "source": [
    "p[p<6]    ## true değerler geldi"
   ]
  },
  {
   "cell_type": "code",
   "execution_count": 65,
   "metadata": {},
   "outputs": [
    {
     "data": {
      "text/plain": [
       "array([6])"
      ]
     },
     "execution_count": 65,
     "metadata": {},
     "output_type": "execute_result"
    }
   ],
   "source": [
    "p[p==6]"
   ]
  },
  {
   "cell_type": "code",
   "execution_count": 66,
   "metadata": {},
   "outputs": [
    {
     "data": {
      "text/plain": [
       "array([ 2,  4,  5,  6,  7,  8,  9, 10, 11, 12, 13, 14, 15])"
      ]
     },
     "execution_count": 66,
     "metadata": {},
     "output_type": "execute_result"
    }
   ],
   "source": [
    "p[p!=3]"
   ]
  },
  {
   "cell_type": "code",
   "execution_count": 67,
   "metadata": {},
   "outputs": [
    {
     "data": {
      "text/plain": [
       "array([ 4,  6,  8, 10, 12, 14, 16, 18, 20, 22, 24, 26, 28, 30])"
      ]
     },
     "execution_count": 67,
     "metadata": {},
     "output_type": "execute_result"
    }
   ],
   "source": [
    "p*2"
   ]
  },
  {
   "cell_type": "code",
   "execution_count": 68,
   "metadata": {},
   "outputs": [
    {
     "data": {
      "text/plain": [
       "array([  4,   9,  16,  25,  36,  49,  64,  81, 100, 121, 144, 169, 196,\n",
       "       225], dtype=int32)"
      ]
     },
     "execution_count": 68,
     "metadata": {},
     "output_type": "execute_result"
    }
   ],
   "source": [
    "p**2"
   ]
  },
  {
   "cell_type": "code",
   "execution_count": 69,
   "metadata": {},
   "outputs": [
    {
     "data": {
      "text/plain": [
       "array([ 4,  5,  6,  7,  8,  9, 10, 11, 12, 13, 14, 15, 16, 17])"
      ]
     },
     "execution_count": 69,
     "metadata": {},
     "output_type": "execute_result"
    }
   ],
   "source": [
    " num.add(p,2)     ## bütün elemanlara 2 eklesin"
   ]
  },
  {
   "cell_type": "code",
   "execution_count": 70,
   "metadata": {},
   "outputs": [
    {
     "data": {
      "text/plain": [
       "array([-5, -4, -3, -2, -1,  0,  1,  2,  3,  4,  5,  6,  7,  8])"
      ]
     },
     "execution_count": 70,
     "metadata": {},
     "output_type": "execute_result"
    }
   ],
   "source": [
    " num.subtract(p,7)  ## 7 çıkar"
   ]
  },
  {
   "cell_type": "code",
   "execution_count": 71,
   "metadata": {},
   "outputs": [
    {
     "data": {
      "text/plain": [
       "array([0.5 , 0.75, 1.  , 1.25, 1.5 , 1.75, 2.  , 2.25, 2.5 , 2.75, 3.  ,\n",
       "       3.25, 3.5 , 3.75])"
      ]
     },
     "execution_count": 71,
     "metadata": {},
     "output_type": "execute_result"
    }
   ],
   "source": [
    "num.divide(p,4)   ## 4 e böl"
   ]
  },
  {
   "cell_type": "code",
   "execution_count": 72,
   "metadata": {},
   "outputs": [
    {
     "data": {
      "text/plain": [
       "array([0, 1, 0, 1, 0, 1, 0, 1, 0, 1, 0, 1, 0, 1], dtype=int32)"
      ]
     },
     "execution_count": 72,
     "metadata": {},
     "output_type": "execute_result"
    }
   ],
   "source": [
    "num.mod(p,2)"
   ]
  },
  {
   "cell_type": "code",
   "execution_count": 73,
   "metadata": {},
   "outputs": [
    {
     "data": {
      "text/plain": [
       "-0.5984600690578581"
      ]
     },
     "execution_count": 73,
     "metadata": {},
     "output_type": "execute_result"
    }
   ],
   "source": [
    "num.cos(180)"
   ]
  },
  {
   "cell_type": "code",
   "execution_count": 74,
   "metadata": {},
   "outputs": [],
   "source": [
    "n=num.array([3,5,100])"
   ]
  },
  {
   "cell_type": "code",
   "execution_count": 75,
   "metadata": {},
   "outputs": [
    {
     "data": {
      "text/plain": [
       "array([0.47712125, 0.69897   , 2.        ])"
      ]
     },
     "execution_count": 75,
     "metadata": {},
     "output_type": "execute_result"
    }
   ],
   "source": [
    "num.log10(n)"
   ]
  },
  {
   "cell_type": "code",
   "execution_count": 76,
   "metadata": {},
   "outputs": [],
   "source": [
    "a=num.array([[3,5] ,[1,2]])   ### 3x+5y=8 ve x+2y=4 çözümü\n",
    "b=num.array([8,4])"
   ]
  },
  {
   "cell_type": "code",
   "execution_count": 77,
   "metadata": {},
   "outputs": [
    {
     "data": {
      "text/plain": [
       "array([-4.,  4.])"
      ]
     },
     "execution_count": 77,
     "metadata": {},
     "output_type": "execute_result"
    }
   ],
   "source": [
    "x=num.linalg.solve(a,b)\n",
    "x"
   ]
  },
  {
   "cell_type": "code",
   "execution_count": 78,
   "metadata": {},
   "outputs": [
    {
     "ename": "SyntaxError",
     "evalue": "invalid syntax (<ipython-input-78-7eb060ff159e>, line 1)",
     "output_type": "error",
     "traceback": [
      "\u001b[1;36m  File \u001b[1;32m\"<ipython-input-78-7eb060ff159e>\"\u001b[1;36m, line \u001b[1;32m1\u001b[0m\n\u001b[1;33m    ********************************* PANDAS *******************************************************\u001b[0m\n\u001b[1;37m     ^\u001b[0m\n\u001b[1;31mSyntaxError\u001b[0m\u001b[1;31m:\u001b[0m invalid syntax\n"
     ]
    }
   ],
   "source": [
    " ********************************* PANDAS *******************************************************"
   ]
  },
  {
   "cell_type": "code",
   "execution_count": 2,
   "metadata": {},
   "outputs": [],
   "source": [
    "import pandas as pd"
   ]
  },
  {
   "cell_type": "code",
   "execution_count": 85,
   "metadata": {},
   "outputs": [
    {
     "data": {
      "text/plain": [
       "0       1\n",
       "1      20\n",
       "2       4\n",
       "3      44\n",
       "4     352\n",
       "5       7\n",
       "6       1\n",
       "7       2\n",
       "8       4\n",
       "9     845\n",
       "10     35\n",
       "11      7\n",
       "12      1\n",
       "13      2\n",
       "14      4\n",
       "15    445\n",
       "16     35\n",
       "17      7\n",
       "18      1\n",
       "19      2\n",
       "20      4\n",
       "21    245\n",
       "22     35\n",
       "23      7\n",
       "24      1\n",
       "25      2\n",
       "26      4\n",
       "27    625\n",
       "28     35\n",
       "29      7\n",
       "dtype: int64"
      ]
     },
     "execution_count": 85,
     "metadata": {},
     "output_type": "execute_result"
    }
   ],
   "source": [
    "a= pd.Series([1,20,4,44,352,7,1,2,4,845,35,7,1,2,4,445,35,7,1,2,4,245,35,7,1,2,4,625,35,7])\n",
    "a\n"
   ]
  },
  {
   "cell_type": "code",
   "execution_count": 86,
   "metadata": {},
   "outputs": [
    {
     "data": {
      "text/plain": [
       "[RangeIndex(start=0, stop=30, step=1)]"
      ]
     },
     "execution_count": 86,
     "metadata": {},
     "output_type": "execute_result"
    }
   ],
   "source": [
    "a.axes"
   ]
  },
  {
   "cell_type": "code",
   "execution_count": 87,
   "metadata": {},
   "outputs": [
    {
     "data": {
      "text/plain": [
       "30"
      ]
     },
     "execution_count": 87,
     "metadata": {},
     "output_type": "execute_result"
    }
   ],
   "source": [
    "a.size"
   ]
  },
  {
   "cell_type": "code",
   "execution_count": 88,
   "metadata": {},
   "outputs": [
    {
     "data": {
      "text/plain": [
       "array([  1,  20,   4,  44, 352,   7,   1,   2,   4, 845,  35,   7,   1,\n",
       "         2,   4, 445,  35,   7,   1,   2,   4, 245,  35,   7,   1,   2,\n",
       "         4, 625,  35,   7], dtype=int64)"
      ]
     },
     "execution_count": 88,
     "metadata": {},
     "output_type": "execute_result"
    }
   ],
   "source": [
    "a.values"
   ]
  },
  {
   "cell_type": "code",
   "execution_count": 89,
   "metadata": {},
   "outputs": [
    {
     "data": {
      "text/plain": [
       "0      1\n",
       "1     20\n",
       "2      4\n",
       "3     44\n",
       "4    352\n",
       "dtype: int64"
      ]
     },
     "execution_count": 89,
     "metadata": {},
     "output_type": "execute_result"
    }
   ],
   "source": [
    "a.head()   ## ilk 5 gözlem"
   ]
  },
  {
   "cell_type": "code",
   "execution_count": 90,
   "metadata": {},
   "outputs": [
    {
     "data": {
      "text/plain": [
       "0     1\n",
       "1    20\n",
       "2     4\n",
       "dtype: int64"
      ]
     },
     "execution_count": 90,
     "metadata": {},
     "output_type": "execute_result"
    }
   ],
   "source": [
    "a.head(3)"
   ]
  },
  {
   "cell_type": "code",
   "execution_count": 95,
   "metadata": {},
   "outputs": [
    {
     "data": {
      "text/plain": [
       "e    35\n",
       "f     7\n",
       "dtype: int64"
      ]
     },
     "execution_count": 95,
     "metadata": {},
     "output_type": "execute_result"
    }
   ],
   "source": [
    "a.tail(2)"
   ]
  },
  {
   "cell_type": "code",
   "execution_count": 91,
   "metadata": {},
   "outputs": [
    {
     "data": {
      "text/plain": [
       "3      1\n",
       "5      2\n",
       "7      4\n",
       "9    445\n",
       "3     35\n",
       "1      7\n",
       "dtype: int64"
      ]
     },
     "execution_count": 91,
     "metadata": {},
     "output_type": "execute_result"
    }
   ],
   "source": [
    "a= pd.Series([1,2,4,445,35,7], index=[3,5,7,9,3,1])     ##indexi sen belirlersin\n",
    "a"
   ]
  },
  {
   "cell_type": "code",
   "execution_count": 92,
   "metadata": {},
   "outputs": [
    {
     "data": {
      "text/plain": [
       "a      1\n",
       "b      2\n",
       "c      4\n",
       "d    445\n",
       "e     35\n",
       "f      7\n",
       "dtype: int64"
      ]
     },
     "execution_count": 92,
     "metadata": {},
     "output_type": "execute_result"
    }
   ],
   "source": [
    "a= pd.Series([1,2,4,445,35,7], index=[\"a\",\"b\",\"c\",\"d\",\"e\",\"f\"])\n",
    "a"
   ]
  },
  {
   "cell_type": "code",
   "execution_count": 96,
   "metadata": {},
   "outputs": [
    {
     "data": {
      "text/plain": [
       "4"
      ]
     },
     "execution_count": 96,
     "metadata": {},
     "output_type": "execute_result"
    }
   ],
   "source": [
    "a[\"c\"]"
   ]
  },
  {
   "cell_type": "code",
   "execution_count": 97,
   "metadata": {},
   "outputs": [
    {
     "data": {
      "text/plain": [
       "a    1\n",
       "b    2\n",
       "c    4\n",
       "dtype: int64"
      ]
     },
     "execution_count": 97,
     "metadata": {},
     "output_type": "execute_result"
    }
   ],
   "source": [
    "a[\"a\":\"c\"]"
   ]
  },
  {
   "cell_type": "code",
   "execution_count": 100,
   "metadata": {},
   "outputs": [],
   "source": [
    "s=pd.Series([\"c1\",1,2,3,4,6,8,76,2,3,4,6,8,5,5,35,64])\n",
    "n=pd.Series([\"c2\",1,2,3,4,6,8,76,8,76,89,25,64,24,75])"
   ]
  },
  {
   "cell_type": "code",
   "execution_count": 101,
   "metadata": {},
   "outputs": [
    {
     "data": {
      "text/plain": [
       "0     c1\n",
       "1      1\n",
       "2      2\n",
       "3      3\n",
       "4      4\n",
       "5      6\n",
       "6      8\n",
       "7     76\n",
       "8      2\n",
       "9      3\n",
       "10     4\n",
       "11     6\n",
       "12     8\n",
       "13     5\n",
       "14     5\n",
       "15    35\n",
       "16    64\n",
       "0     c2\n",
       "1      1\n",
       "2      2\n",
       "3      3\n",
       "4      4\n",
       "5      6\n",
       "6      8\n",
       "7     76\n",
       "8      8\n",
       "9     76\n",
       "10    89\n",
       "11    25\n",
       "12    64\n",
       "13    24\n",
       "14    75\n",
       "dtype: object"
      ]
     },
     "execution_count": 101,
     "metadata": {},
     "output_type": "execute_result"
    }
   ],
   "source": [
    "pd.concat([s,n])       ## birleştirir"
   ]
  },
  {
   "cell_type": "code",
   "execution_count": 106,
   "metadata": {},
   "outputs": [
    {
     "data": {
      "text/plain": [
       "<bound method Series.keys of 0     c1\n",
       "1      1\n",
       "2      2\n",
       "3      3\n",
       "4      4\n",
       "5      6\n",
       "6      8\n",
       "7     76\n",
       "8      2\n",
       "9      3\n",
       "10     4\n",
       "11     6\n",
       "12     8\n",
       "13     5\n",
       "14     5\n",
       "15    35\n",
       "16    64\n",
       "dtype: object>"
      ]
     },
     "execution_count": 106,
     "metadata": {},
     "output_type": "execute_result"
    }
   ],
   "source": [
    "s.keys"
   ]
  },
  {
   "cell_type": "code",
   "execution_count": 102,
   "metadata": {},
   "outputs": [
    {
     "data": {
      "text/plain": [
       "True"
      ]
     },
     "execution_count": 102,
     "metadata": {},
     "output_type": "execute_result"
    }
   ],
   "source": [
    "5 in s"
   ]
  },
  {
   "cell_type": "code",
   "execution_count": 103,
   "metadata": {},
   "outputs": [
    {
     "data": {
      "text/plain": [
       "True"
      ]
     },
     "execution_count": 103,
     "metadata": {},
     "output_type": "execute_result"
    }
   ],
   "source": [
    "9 in n"
   ]
  },
  {
   "cell_type": "code",
   "execution_count": 107,
   "metadata": {},
   "outputs": [
    {
     "data": {
      "text/plain": [
       "False"
      ]
     },
     "execution_count": 107,
     "metadata": {},
     "output_type": "execute_result"
    }
   ],
   "source": [
    "345 in s"
   ]
  },
  {
   "cell_type": "code",
   "execution_count": 108,
   "metadata": {},
   "outputs": [
    {
     "data": {
      "text/html": [
       "<div>\n",
       "<style scoped>\n",
       "    .dataframe tbody tr th:only-of-type {\n",
       "        vertical-align: middle;\n",
       "    }\n",
       "\n",
       "    .dataframe tbody tr th {\n",
       "        vertical-align: top;\n",
       "    }\n",
       "\n",
       "    .dataframe thead th {\n",
       "        text-align: right;\n",
       "    }\n",
       "</style>\n",
       "<table border=\"1\" class=\"dataframe\">\n",
       "  <thead>\n",
       "    <tr style=\"text-align: right;\">\n",
       "      <th></th>\n",
       "      <th>Sayılar</th>\n",
       "    </tr>\n",
       "  </thead>\n",
       "  <tbody>\n",
       "    <tr>\n",
       "      <th>0</th>\n",
       "      <td>c1</td>\n",
       "    </tr>\n",
       "    <tr>\n",
       "      <th>1</th>\n",
       "      <td>1</td>\n",
       "    </tr>\n",
       "    <tr>\n",
       "      <th>2</th>\n",
       "      <td>2</td>\n",
       "    </tr>\n",
       "    <tr>\n",
       "      <th>3</th>\n",
       "      <td>3</td>\n",
       "    </tr>\n",
       "    <tr>\n",
       "      <th>4</th>\n",
       "      <td>4</td>\n",
       "    </tr>\n",
       "    <tr>\n",
       "      <th>5</th>\n",
       "      <td>6</td>\n",
       "    </tr>\n",
       "    <tr>\n",
       "      <th>6</th>\n",
       "      <td>8</td>\n",
       "    </tr>\n",
       "    <tr>\n",
       "      <th>7</th>\n",
       "      <td>76</td>\n",
       "    </tr>\n",
       "    <tr>\n",
       "      <th>8</th>\n",
       "      <td>2</td>\n",
       "    </tr>\n",
       "    <tr>\n",
       "      <th>9</th>\n",
       "      <td>3</td>\n",
       "    </tr>\n",
       "    <tr>\n",
       "      <th>10</th>\n",
       "      <td>4</td>\n",
       "    </tr>\n",
       "    <tr>\n",
       "      <th>11</th>\n",
       "      <td>6</td>\n",
       "    </tr>\n",
       "    <tr>\n",
       "      <th>12</th>\n",
       "      <td>8</td>\n",
       "    </tr>\n",
       "    <tr>\n",
       "      <th>13</th>\n",
       "      <td>5</td>\n",
       "    </tr>\n",
       "    <tr>\n",
       "      <th>14</th>\n",
       "      <td>5</td>\n",
       "    </tr>\n",
       "    <tr>\n",
       "      <th>15</th>\n",
       "      <td>35</td>\n",
       "    </tr>\n",
       "    <tr>\n",
       "      <th>16</th>\n",
       "      <td>64</td>\n",
       "    </tr>\n",
       "  </tbody>\n",
       "</table>\n",
       "</div>"
      ],
      "text/plain": [
       "   Sayılar\n",
       "0       c1\n",
       "1        1\n",
       "2        2\n",
       "3        3\n",
       "4        4\n",
       "5        6\n",
       "6        8\n",
       "7       76\n",
       "8        2\n",
       "9        3\n",
       "10       4\n",
       "11       6\n",
       "12       8\n",
       "13       5\n",
       "14       5\n",
       "15      35\n",
       "16      64"
      ]
     },
     "execution_count": 108,
     "metadata": {},
     "output_type": "execute_result"
    }
   ],
   "source": [
    "pd.DataFrame(s, columns=[\"Sayılar\"])"
   ]
  },
  {
   "cell_type": "code",
   "execution_count": 110,
   "metadata": {},
   "outputs": [
    {
     "data": {
      "text/plain": [
       "array([[0, 1, 2],\n",
       "       [3, 4, 5],\n",
       "       [6, 7, 8]])"
      ]
     },
     "execution_count": 110,
     "metadata": {},
     "output_type": "execute_result"
    }
   ],
   "source": [
    "m=num.arange(0,9).reshape(3,3)\n",
    "m"
   ]
  },
  {
   "cell_type": "code",
   "execution_count": 111,
   "metadata": {},
   "outputs": [
    {
     "data": {
      "text/html": [
       "<div>\n",
       "<style scoped>\n",
       "    .dataframe tbody tr th:only-of-type {\n",
       "        vertical-align: middle;\n",
       "    }\n",
       "\n",
       "    .dataframe tbody tr th {\n",
       "        vertical-align: top;\n",
       "    }\n",
       "\n",
       "    .dataframe thead th {\n",
       "        text-align: right;\n",
       "    }\n",
       "</style>\n",
       "<table border=\"1\" class=\"dataframe\">\n",
       "  <thead>\n",
       "    <tr style=\"text-align: right;\">\n",
       "      <th></th>\n",
       "      <th>1</th>\n",
       "      <th>2</th>\n",
       "      <th>3</th>\n",
       "    </tr>\n",
       "  </thead>\n",
       "  <tbody>\n",
       "    <tr>\n",
       "      <th>0</th>\n",
       "      <td>0</td>\n",
       "      <td>1</td>\n",
       "      <td>2</td>\n",
       "    </tr>\n",
       "    <tr>\n",
       "      <th>1</th>\n",
       "      <td>3</td>\n",
       "      <td>4</td>\n",
       "      <td>5</td>\n",
       "    </tr>\n",
       "    <tr>\n",
       "      <th>2</th>\n",
       "      <td>6</td>\n",
       "      <td>7</td>\n",
       "      <td>8</td>\n",
       "    </tr>\n",
       "  </tbody>\n",
       "</table>\n",
       "</div>"
      ],
      "text/plain": [
       "   1  2  3\n",
       "0  0  1  2\n",
       "1  3  4  5\n",
       "2  6  7  8"
      ]
     },
     "execution_count": 111,
     "metadata": {},
     "output_type": "execute_result"
    }
   ],
   "source": [
    "pf= pd.DataFrame(m, columns=[\"1\",\"2\",\"3\"])\n",
    "pf"
   ]
  },
  {
   "cell_type": "code",
   "execution_count": 113,
   "metadata": {},
   "outputs": [
    {
     "data": {
      "text/html": [
       "<div>\n",
       "<style scoped>\n",
       "    .dataframe tbody tr th:only-of-type {\n",
       "        vertical-align: middle;\n",
       "    }\n",
       "\n",
       "    .dataframe tbody tr th {\n",
       "        vertical-align: top;\n",
       "    }\n",
       "\n",
       "    .dataframe thead th {\n",
       "        text-align: right;\n",
       "    }\n",
       "</style>\n",
       "<table border=\"1\" class=\"dataframe\">\n",
       "  <thead>\n",
       "    <tr style=\"text-align: right;\">\n",
       "      <th></th>\n",
       "      <th>1</th>\n",
       "      <th>2</th>\n",
       "      <th>3</th>\n",
       "    </tr>\n",
       "  </thead>\n",
       "  <tbody>\n",
       "    <tr>\n",
       "      <th>a</th>\n",
       "      <td>0</td>\n",
       "      <td>1</td>\n",
       "      <td>2</td>\n",
       "    </tr>\n",
       "    <tr>\n",
       "      <th>bb</th>\n",
       "      <td>3</td>\n",
       "      <td>4</td>\n",
       "      <td>5</td>\n",
       "    </tr>\n",
       "    <tr>\n",
       "      <th>c</th>\n",
       "      <td>6</td>\n",
       "      <td>7</td>\n",
       "      <td>8</td>\n",
       "    </tr>\n",
       "  </tbody>\n",
       "</table>\n",
       "</div>"
      ],
      "text/plain": [
       "    1  2  3\n",
       "a   0  1  2\n",
       "bb  3  4  5\n",
       "c   6  7  8"
      ]
     },
     "execution_count": 113,
     "metadata": {},
     "output_type": "execute_result"
    }
   ],
   "source": [
    "pf.index=(\"a\",\"bb\",\"c\")\n",
    "pf"
   ]
  },
  {
   "cell_type": "code",
   "execution_count": 114,
   "metadata": {},
   "outputs": [
    {
     "data": {
      "text/html": [
       "<div>\n",
       "<style scoped>\n",
       "    .dataframe tbody tr th:only-of-type {\n",
       "        vertical-align: middle;\n",
       "    }\n",
       "\n",
       "    .dataframe tbody tr th {\n",
       "        vertical-align: top;\n",
       "    }\n",
       "\n",
       "    .dataframe thead th {\n",
       "        text-align: right;\n",
       "    }\n",
       "</style>\n",
       "<table border=\"1\" class=\"dataframe\">\n",
       "  <thead>\n",
       "    <tr style=\"text-align: right;\">\n",
       "      <th></th>\n",
       "      <th>1</th>\n",
       "      <th>2</th>\n",
       "      <th>3</th>\n",
       "    </tr>\n",
       "  </thead>\n",
       "  <tbody>\n",
       "    <tr>\n",
       "      <th>bb</th>\n",
       "      <td>3</td>\n",
       "      <td>4</td>\n",
       "      <td>5</td>\n",
       "    </tr>\n",
       "    <tr>\n",
       "      <th>c</th>\n",
       "      <td>6</td>\n",
       "      <td>7</td>\n",
       "      <td>8</td>\n",
       "    </tr>\n",
       "  </tbody>\n",
       "</table>\n",
       "</div>"
      ],
      "text/plain": [
       "    1  2  3\n",
       "bb  3  4  5\n",
       "c   6  7  8"
      ]
     },
     "execution_count": 114,
     "metadata": {},
     "output_type": "execute_result"
    }
   ],
   "source": [
    "pf.drop(\"a\",axis=0)      ## a yok "
   ]
  },
  {
   "cell_type": "code",
   "execution_count": 115,
   "metadata": {},
   "outputs": [
    {
     "data": {
      "text/html": [
       "<div>\n",
       "<style scoped>\n",
       "    .dataframe tbody tr th:only-of-type {\n",
       "        vertical-align: middle;\n",
       "    }\n",
       "\n",
       "    .dataframe tbody tr th {\n",
       "        vertical-align: top;\n",
       "    }\n",
       "\n",
       "    .dataframe thead th {\n",
       "        text-align: right;\n",
       "    }\n",
       "</style>\n",
       "<table border=\"1\" class=\"dataframe\">\n",
       "  <thead>\n",
       "    <tr style=\"text-align: right;\">\n",
       "      <th></th>\n",
       "      <th>1</th>\n",
       "      <th>2</th>\n",
       "      <th>3</th>\n",
       "    </tr>\n",
       "  </thead>\n",
       "  <tbody>\n",
       "    <tr>\n",
       "      <th>a</th>\n",
       "      <td>0</td>\n",
       "      <td>1</td>\n",
       "      <td>2</td>\n",
       "    </tr>\n",
       "    <tr>\n",
       "      <th>bb</th>\n",
       "      <td>3</td>\n",
       "      <td>4</td>\n",
       "      <td>5</td>\n",
       "    </tr>\n",
       "    <tr>\n",
       "      <th>c</th>\n",
       "      <td>6</td>\n",
       "      <td>7</td>\n",
       "      <td>8</td>\n",
       "    </tr>\n",
       "  </tbody>\n",
       "</table>\n",
       "</div>"
      ],
      "text/plain": [
       "    1  2  3\n",
       "a   0  1  2\n",
       "bb  3  4  5\n",
       "c   6  7  8"
      ]
     },
     "execution_count": 115,
     "metadata": {},
     "output_type": "execute_result"
    }
   ],
   "source": [
    "pf         ## kalıcı değil"
   ]
  },
  {
   "cell_type": "code",
   "execution_count": 116,
   "metadata": {},
   "outputs": [],
   "source": [
    "pf.drop(\"a\",axis=0 , inplace=True)    ## inplace kalıcı halde kaldırır"
   ]
  },
  {
   "cell_type": "code",
   "execution_count": 117,
   "metadata": {},
   "outputs": [
    {
     "data": {
      "text/html": [
       "<div>\n",
       "<style scoped>\n",
       "    .dataframe tbody tr th:only-of-type {\n",
       "        vertical-align: middle;\n",
       "    }\n",
       "\n",
       "    .dataframe tbody tr th {\n",
       "        vertical-align: top;\n",
       "    }\n",
       "\n",
       "    .dataframe thead th {\n",
       "        text-align: right;\n",
       "    }\n",
       "</style>\n",
       "<table border=\"1\" class=\"dataframe\">\n",
       "  <thead>\n",
       "    <tr style=\"text-align: right;\">\n",
       "      <th></th>\n",
       "      <th>1</th>\n",
       "      <th>2</th>\n",
       "      <th>3</th>\n",
       "    </tr>\n",
       "  </thead>\n",
       "  <tbody>\n",
       "    <tr>\n",
       "      <th>bb</th>\n",
       "      <td>3</td>\n",
       "      <td>4</td>\n",
       "      <td>5</td>\n",
       "    </tr>\n",
       "    <tr>\n",
       "      <th>c</th>\n",
       "      <td>6</td>\n",
       "      <td>7</td>\n",
       "      <td>8</td>\n",
       "    </tr>\n",
       "  </tbody>\n",
       "</table>\n",
       "</div>"
      ],
      "text/plain": [
       "    1  2  3\n",
       "bb  3  4  5\n",
       "c   6  7  8"
      ]
     },
     "execution_count": 117,
     "metadata": {},
     "output_type": "execute_result"
    }
   ],
   "source": [
    "pf"
   ]
  },
  {
   "cell_type": "code",
   "execution_count": 118,
   "metadata": {},
   "outputs": [
    {
     "data": {
      "text/plain": [
       "bb    3\n",
       "c     6\n",
       "Name: 1, dtype: int32"
      ]
     },
     "execution_count": 118,
     "metadata": {},
     "output_type": "execute_result"
    }
   ],
   "source": [
    "pf[\"1\"]                  ## axis=0 satır    axis=1 sütun"
   ]
  },
  {
   "cell_type": "code",
   "execution_count": 119,
   "metadata": {},
   "outputs": [
    {
     "data": {
      "text/html": [
       "<div>\n",
       "<style scoped>\n",
       "    .dataframe tbody tr th:only-of-type {\n",
       "        vertical-align: middle;\n",
       "    }\n",
       "\n",
       "    .dataframe tbody tr th {\n",
       "        vertical-align: top;\n",
       "    }\n",
       "\n",
       "    .dataframe thead th {\n",
       "        text-align: right;\n",
       "    }\n",
       "</style>\n",
       "<table border=\"1\" class=\"dataframe\">\n",
       "  <thead>\n",
       "    <tr style=\"text-align: right;\">\n",
       "      <th></th>\n",
       "      <th>2</th>\n",
       "      <th>3</th>\n",
       "    </tr>\n",
       "  </thead>\n",
       "  <tbody>\n",
       "    <tr>\n",
       "      <th>bb</th>\n",
       "      <td>4</td>\n",
       "      <td>5</td>\n",
       "    </tr>\n",
       "    <tr>\n",
       "      <th>c</th>\n",
       "      <td>7</td>\n",
       "      <td>8</td>\n",
       "    </tr>\n",
       "  </tbody>\n",
       "</table>\n",
       "</div>"
      ],
      "text/plain": [
       "    2  3\n",
       "bb  4  5\n",
       "c   7  8"
      ]
     },
     "execution_count": 119,
     "metadata": {},
     "output_type": "execute_result"
    }
   ],
   "source": [
    "pf.drop(\"1\", axis=1)        ## 1 adlı sütunu sil"
   ]
  },
  {
   "cell_type": "code",
   "execution_count": 128,
   "metadata": {},
   "outputs": [
    {
     "data": {
      "text/plain": [
       "array([[2, 3, 5],\n",
       "       [5, 4, 6],\n",
       "       [1, 2, 5]])"
      ]
     },
     "execution_count": 128,
     "metadata": {},
     "output_type": "execute_result"
    }
   ],
   "source": [
    "rt =num.random.randint(1,8,(3,3)) \n"
   ]
  },
  {
   "cell_type": "code",
   "execution_count": 131,
   "metadata": {},
   "outputs": [
    {
     "data": {
      "text/html": [
       "<div>\n",
       "<style scoped>\n",
       "    .dataframe tbody tr th:only-of-type {\n",
       "        vertical-align: middle;\n",
       "    }\n",
       "\n",
       "    .dataframe tbody tr th {\n",
       "        vertical-align: top;\n",
       "    }\n",
       "\n",
       "    .dataframe thead th {\n",
       "        text-align: right;\n",
       "    }\n",
       "</style>\n",
       "<table border=\"1\" class=\"dataframe\">\n",
       "  <thead>\n",
       "    <tr style=\"text-align: right;\">\n",
       "      <th></th>\n",
       "      <th>a</th>\n",
       "      <th>b</th>\n",
       "      <th>c</th>\n",
       "    </tr>\n",
       "  </thead>\n",
       "  <tbody>\n",
       "    <tr>\n",
       "      <th>0</th>\n",
       "      <td>2</td>\n",
       "      <td>3</td>\n",
       "      <td>5</td>\n",
       "    </tr>\n",
       "    <tr>\n",
       "      <th>1</th>\n",
       "      <td>5</td>\n",
       "      <td>4</td>\n",
       "      <td>6</td>\n",
       "    </tr>\n",
       "    <tr>\n",
       "      <th>2</th>\n",
       "      <td>1</td>\n",
       "      <td>2</td>\n",
       "      <td>5</td>\n",
       "    </tr>\n",
       "  </tbody>\n",
       "</table>\n",
       "</div>"
      ],
      "text/plain": [
       "   a  b  c\n",
       "0  2  3  5\n",
       "1  5  4  6\n",
       "2  1  2  5"
      ]
     },
     "execution_count": 131,
     "metadata": {},
     "output_type": "execute_result"
    }
   ],
   "source": [
    "a =  pd.DataFrame(rt, columns=[\"a\",\"b\",\"c\"])\n",
    "a"
   ]
  },
  {
   "cell_type": "code",
   "execution_count": null,
   "metadata": {},
   "outputs": [],
   "source": [
    "h= num.arange(0,25).reshape(5,5)\n",
    "h"
   ]
  },
  {
   "cell_type": "code",
   "execution_count": 127,
   "metadata": {},
   "outputs": [
    {
     "data": {
      "text/html": [
       "<div>\n",
       "<style scoped>\n",
       "    .dataframe tbody tr th:only-of-type {\n",
       "        vertical-align: middle;\n",
       "    }\n",
       "\n",
       "    .dataframe tbody tr th {\n",
       "        vertical-align: top;\n",
       "    }\n",
       "\n",
       "    .dataframe thead th {\n",
       "        text-align: right;\n",
       "    }\n",
       "</style>\n",
       "<table border=\"1\" class=\"dataframe\">\n",
       "  <thead>\n",
       "    <tr style=\"text-align: right;\">\n",
       "      <th></th>\n",
       "      <th>a</th>\n",
       "    </tr>\n",
       "  </thead>\n",
       "  <tbody>\n",
       "    <tr>\n",
       "      <th>0</th>\n",
       "      <td>88</td>\n",
       "    </tr>\n",
       "    <tr>\n",
       "      <th>1</th>\n",
       "      <td>1</td>\n",
       "    </tr>\n",
       "    <tr>\n",
       "      <th>2</th>\n",
       "      <td>24</td>\n",
       "    </tr>\n",
       "    <tr>\n",
       "      <th>3</th>\n",
       "      <td>75</td>\n",
       "    </tr>\n",
       "  </tbody>\n",
       "</table>\n",
       "</div>"
      ],
      "text/plain": [
       "    a\n",
       "0  88\n",
       "1   1\n",
       "2  24\n",
       "3  75"
      ]
     },
     "execution_count": 127,
     "metadata": {},
     "output_type": "execute_result"
    }
   ],
   "source": [
    "a = pd.DataFrame(rt, columns=[\"a\"])\n",
    "a"
   ]
  },
  {
   "cell_type": "code",
   "execution_count": 133,
   "metadata": {},
   "outputs": [
    {
     "data": {
      "text/html": [
       "<div>\n",
       "<style scoped>\n",
       "    .dataframe tbody tr th:only-of-type {\n",
       "        vertical-align: middle;\n",
       "    }\n",
       "\n",
       "    .dataframe tbody tr th {\n",
       "        vertical-align: top;\n",
       "    }\n",
       "\n",
       "    .dataframe thead th {\n",
       "        text-align: right;\n",
       "    }\n",
       "</style>\n",
       "<table border=\"1\" class=\"dataframe\">\n",
       "  <thead>\n",
       "    <tr style=\"text-align: right;\">\n",
       "      <th></th>\n",
       "      <th>a</th>\n",
       "      <th>b</th>\n",
       "      <th>c</th>\n",
       "      <th>x</th>\n",
       "    </tr>\n",
       "  </thead>\n",
       "  <tbody>\n",
       "    <tr>\n",
       "      <th>0</th>\n",
       "      <td>2</td>\n",
       "      <td>3</td>\n",
       "      <td>5</td>\n",
       "      <td>6</td>\n",
       "    </tr>\n",
       "    <tr>\n",
       "      <th>1</th>\n",
       "      <td>5</td>\n",
       "      <td>4</td>\n",
       "      <td>6</td>\n",
       "      <td>20</td>\n",
       "    </tr>\n",
       "    <tr>\n",
       "      <th>2</th>\n",
       "      <td>1</td>\n",
       "      <td>2</td>\n",
       "      <td>5</td>\n",
       "      <td>2</td>\n",
       "    </tr>\n",
       "  </tbody>\n",
       "</table>\n",
       "</div>"
      ],
      "text/plain": [
       "   a  b  c   x\n",
       "0  2  3  5   6\n",
       "1  5  4  6  20\n",
       "2  1  2  5   2"
      ]
     },
     "execution_count": 133,
     "metadata": {},
     "output_type": "execute_result"
    }
   ],
   "source": [
    "a[\"x\"] = a[\"a\"] * a[\"b\"]       #ikisini çarpar yeri kolon ekler\n",
    "a"
   ]
  },
  {
   "cell_type": "code",
   "execution_count": 142,
   "metadata": {},
   "outputs": [
    {
     "data": {
      "text/html": [
       "<div>\n",
       "<style scoped>\n",
       "    .dataframe tbody tr th:only-of-type {\n",
       "        vertical-align: middle;\n",
       "    }\n",
       "\n",
       "    .dataframe tbody tr th {\n",
       "        vertical-align: top;\n",
       "    }\n",
       "\n",
       "    .dataframe thead th {\n",
       "        text-align: right;\n",
       "    }\n",
       "</style>\n",
       "<table border=\"1\" class=\"dataframe\">\n",
       "  <thead>\n",
       "    <tr style=\"text-align: right;\">\n",
       "      <th></th>\n",
       "      <th>a</th>\n",
       "      <th>b</th>\n",
       "      <th>c</th>\n",
       "    </tr>\n",
       "  </thead>\n",
       "  <tbody>\n",
       "    <tr>\n",
       "      <th>0</th>\n",
       "      <td>2</td>\n",
       "      <td>3</td>\n",
       "      <td>5</td>\n",
       "    </tr>\n",
       "    <tr>\n",
       "      <th>1</th>\n",
       "      <td>5</td>\n",
       "      <td>4</td>\n",
       "      <td>6</td>\n",
       "    </tr>\n",
       "    <tr>\n",
       "      <th>2</th>\n",
       "      <td>1</td>\n",
       "      <td>2</td>\n",
       "      <td>5</td>\n",
       "    </tr>\n",
       "  </tbody>\n",
       "</table>\n",
       "</div>"
      ],
      "text/plain": [
       "   a  b  c\n",
       "0  2  3  5\n",
       "1  5  4  6\n",
       "2  1  2  5"
      ]
     },
     "execution_count": 142,
     "metadata": {},
     "output_type": "execute_result"
    }
   ],
   "source": [
    "ilk= pd.DataFrame(a, columns=[\"a\",\"b\",\"c\"])\n",
    "ilk\n"
   ]
  },
  {
   "cell_type": "code",
   "execution_count": 155,
   "metadata": {},
   "outputs": [],
   "source": [
    "l=[\"a\"]   # a sütünü sildi"
   ]
  },
  {
   "cell_type": "code",
   "execution_count": 156,
   "metadata": {},
   "outputs": [
    {
     "data": {
      "text/html": [
       "<div>\n",
       "<style scoped>\n",
       "    .dataframe tbody tr th:only-of-type {\n",
       "        vertical-align: middle;\n",
       "    }\n",
       "\n",
       "    .dataframe tbody tr th {\n",
       "        vertical-align: top;\n",
       "    }\n",
       "\n",
       "    .dataframe thead th {\n",
       "        text-align: right;\n",
       "    }\n",
       "</style>\n",
       "<table border=\"1\" class=\"dataframe\">\n",
       "  <thead>\n",
       "    <tr style=\"text-align: right;\">\n",
       "      <th></th>\n",
       "      <th>b</th>\n",
       "      <th>c</th>\n",
       "    </tr>\n",
       "  </thead>\n",
       "  <tbody>\n",
       "    <tr>\n",
       "      <th>0</th>\n",
       "      <td>3</td>\n",
       "      <td>5</td>\n",
       "    </tr>\n",
       "    <tr>\n",
       "      <th>1</th>\n",
       "      <td>4</td>\n",
       "      <td>6</td>\n",
       "    </tr>\n",
       "    <tr>\n",
       "      <th>2</th>\n",
       "      <td>2</td>\n",
       "      <td>5</td>\n",
       "    </tr>\n",
       "  </tbody>\n",
       "</table>\n",
       "</div>"
      ],
      "text/plain": [
       "   b  c\n",
       "0  3  5\n",
       "1  4  6\n",
       "2  2  5"
      ]
     },
     "execution_count": 156,
     "metadata": {},
     "output_type": "execute_result"
    }
   ],
   "source": [
    "ilk.drop(l,axis=1)"
   ]
  },
  {
   "cell_type": "code",
   "execution_count": 149,
   "metadata": {},
   "outputs": [
    {
     "data": {
      "text/plain": [
       "array([[ 8, 10, 16,  2],\n",
       "       [ 8, 17, 19, 11],\n",
       "       [18,  3,  2, 10],\n",
       "       [18, 13,  7, 15],\n",
       "       [18, 19, 14, 16]])"
      ]
     },
     "execution_count": 149,
     "metadata": {},
     "output_type": "execute_result"
    }
   ],
   "source": [
    "g=num.random.randint(1,20, size=[5,4])\n",
    "g"
   ]
  },
  {
   "cell_type": "code",
   "execution_count": 151,
   "metadata": {},
   "outputs": [
    {
     "data": {
      "text/html": [
       "<div>\n",
       "<style scoped>\n",
       "    .dataframe tbody tr th:only-of-type {\n",
       "        vertical-align: middle;\n",
       "    }\n",
       "\n",
       "    .dataframe tbody tr th {\n",
       "        vertical-align: top;\n",
       "    }\n",
       "\n",
       "    .dataframe thead th {\n",
       "        text-align: right;\n",
       "    }\n",
       "</style>\n",
       "<table border=\"1\" class=\"dataframe\">\n",
       "  <thead>\n",
       "    <tr style=\"text-align: right;\">\n",
       "      <th></th>\n",
       "      <th>a</th>\n",
       "      <th>x</th>\n",
       "      <th>y</th>\n",
       "      <th>z</th>\n",
       "    </tr>\n",
       "  </thead>\n",
       "  <tbody>\n",
       "    <tr>\n",
       "      <th>0</th>\n",
       "      <td>8</td>\n",
       "      <td>10</td>\n",
       "      <td>16</td>\n",
       "      <td>2</td>\n",
       "    </tr>\n",
       "    <tr>\n",
       "      <th>1</th>\n",
       "      <td>8</td>\n",
       "      <td>17</td>\n",
       "      <td>19</td>\n",
       "      <td>11</td>\n",
       "    </tr>\n",
       "    <tr>\n",
       "      <th>2</th>\n",
       "      <td>18</td>\n",
       "      <td>3</td>\n",
       "      <td>2</td>\n",
       "      <td>10</td>\n",
       "    </tr>\n",
       "    <tr>\n",
       "      <th>3</th>\n",
       "      <td>18</td>\n",
       "      <td>13</td>\n",
       "      <td>7</td>\n",
       "      <td>15</td>\n",
       "    </tr>\n",
       "    <tr>\n",
       "      <th>4</th>\n",
       "      <td>18</td>\n",
       "      <td>19</td>\n",
       "      <td>14</td>\n",
       "      <td>16</td>\n",
       "    </tr>\n",
       "  </tbody>\n",
       "</table>\n",
       "</div>"
      ],
      "text/plain": [
       "    a   x   y   z\n",
       "0   8  10  16   2\n",
       "1   8  17  19  11\n",
       "2  18   3   2  10\n",
       "3  18  13   7  15\n",
       "4  18  19  14  16"
      ]
     },
     "execution_count": 151,
     "metadata": {},
     "output_type": "execute_result"
    }
   ],
   "source": [
    "a= pd.DataFrame(g , columns=[\"a\",\"x\",\"y\",\"z\"])\n",
    "a"
   ]
  },
  {
   "cell_type": "code",
   "execution_count": 157,
   "metadata": {},
   "outputs": [
    {
     "data": {
      "text/html": [
       "<div>\n",
       "<style scoped>\n",
       "    .dataframe tbody tr th:only-of-type {\n",
       "        vertical-align: middle;\n",
       "    }\n",
       "\n",
       "    .dataframe tbody tr th {\n",
       "        vertical-align: top;\n",
       "    }\n",
       "\n",
       "    .dataframe thead th {\n",
       "        text-align: right;\n",
       "    }\n",
       "</style>\n",
       "<table border=\"1\" class=\"dataframe\">\n",
       "  <thead>\n",
       "    <tr style=\"text-align: right;\">\n",
       "      <th></th>\n",
       "      <th>a</th>\n",
       "      <th>x</th>\n",
       "      <th>y</th>\n",
       "      <th>z</th>\n",
       "    </tr>\n",
       "  </thead>\n",
       "  <tbody>\n",
       "    <tr>\n",
       "      <th>0</th>\n",
       "      <td>8</td>\n",
       "      <td>10</td>\n",
       "      <td>16</td>\n",
       "      <td>2</td>\n",
       "    </tr>\n",
       "    <tr>\n",
       "      <th>1</th>\n",
       "      <td>8</td>\n",
       "      <td>17</td>\n",
       "      <td>19</td>\n",
       "      <td>11</td>\n",
       "    </tr>\n",
       "    <tr>\n",
       "      <th>2</th>\n",
       "      <td>18</td>\n",
       "      <td>3</td>\n",
       "      <td>2</td>\n",
       "      <td>10</td>\n",
       "    </tr>\n",
       "    <tr>\n",
       "      <th>3</th>\n",
       "      <td>18</td>\n",
       "      <td>13</td>\n",
       "      <td>7</td>\n",
       "      <td>15</td>\n",
       "    </tr>\n",
       "  </tbody>\n",
       "</table>\n",
       "</div>"
      ],
      "text/plain": [
       "    a   x   y   z\n",
       "0   8  10  16   2\n",
       "1   8  17  19  11\n",
       "2  18   3   2  10\n",
       "3  18  13   7  15"
      ]
     },
     "execution_count": 157,
     "metadata": {},
     "output_type": "execute_result"
    }
   ],
   "source": [
    "a.loc[0:3]           ## 3 dahil"
   ]
  },
  {
   "cell_type": "code",
   "execution_count": 158,
   "metadata": {},
   "outputs": [
    {
     "data": {
      "text/html": [
       "<div>\n",
       "<style scoped>\n",
       "    .dataframe tbody tr th:only-of-type {\n",
       "        vertical-align: middle;\n",
       "    }\n",
       "\n",
       "    .dataframe tbody tr th {\n",
       "        vertical-align: top;\n",
       "    }\n",
       "\n",
       "    .dataframe thead th {\n",
       "        text-align: right;\n",
       "    }\n",
       "</style>\n",
       "<table border=\"1\" class=\"dataframe\">\n",
       "  <thead>\n",
       "    <tr style=\"text-align: right;\">\n",
       "      <th></th>\n",
       "      <th>a</th>\n",
       "      <th>x</th>\n",
       "      <th>y</th>\n",
       "      <th>z</th>\n",
       "    </tr>\n",
       "  </thead>\n",
       "  <tbody>\n",
       "    <tr>\n",
       "      <th>0</th>\n",
       "      <td>8</td>\n",
       "      <td>10</td>\n",
       "      <td>16</td>\n",
       "      <td>2</td>\n",
       "    </tr>\n",
       "    <tr>\n",
       "      <th>1</th>\n",
       "      <td>8</td>\n",
       "      <td>17</td>\n",
       "      <td>19</td>\n",
       "      <td>11</td>\n",
       "    </tr>\n",
       "    <tr>\n",
       "      <th>2</th>\n",
       "      <td>18</td>\n",
       "      <td>3</td>\n",
       "      <td>2</td>\n",
       "      <td>10</td>\n",
       "    </tr>\n",
       "  </tbody>\n",
       "</table>\n",
       "</div>"
      ],
      "text/plain": [
       "    a   x   y   z\n",
       "0   8  10  16   2\n",
       "1   8  17  19  11\n",
       "2  18   3   2  10"
      ]
     },
     "execution_count": 158,
     "metadata": {},
     "output_type": "execute_result"
    }
   ],
   "source": [
    "a.iloc[0:3]       ## 3 dahil değil"
   ]
  },
  {
   "cell_type": "code",
   "execution_count": 162,
   "metadata": {},
   "outputs": [
    {
     "data": {
      "text/plain": [
       "0    10\n",
       "1    17\n",
       "2     3\n",
       "3    13\n",
       "Name: x, dtype: int32"
      ]
     },
     "execution_count": 162,
     "metadata": {},
     "output_type": "execute_result"
    }
   ],
   "source": [
    "a.loc[0:3, \"x\"]        ## index seçiminde loc kullan iloc hata verir"
   ]
  },
  {
   "cell_type": "code",
   "execution_count": 161,
   "metadata": {},
   "outputs": [
    {
     "data": {
      "text/plain": [
       "0    10\n",
       "1    17\n",
       "2     3\n",
       "Name: x, dtype: int32"
      ]
     },
     "execution_count": 161,
     "metadata": {},
     "output_type": "execute_result"
    }
   ],
   "source": [
    "a.iloc[0:3] [\"x\"]   "
   ]
  },
  {
   "cell_type": "code",
   "execution_count": 164,
   "metadata": {},
   "outputs": [
    {
     "data": {
      "text/plain": [
       "0    10\n",
       "1    17\n",
       "2     3\n",
       "3    13\n",
       "4    19\n",
       "Name: x, dtype: int32"
      ]
     },
     "execution_count": 164,
     "metadata": {},
     "output_type": "execute_result"
    }
   ],
   "source": [
    "a.x"
   ]
  },
  {
   "cell_type": "code",
   "execution_count": 166,
   "metadata": {},
   "outputs": [
    {
     "data": {
      "text/html": [
       "<div>\n",
       "<style scoped>\n",
       "    .dataframe tbody tr th:only-of-type {\n",
       "        vertical-align: middle;\n",
       "    }\n",
       "\n",
       "    .dataframe tbody tr th {\n",
       "        vertical-align: top;\n",
       "    }\n",
       "\n",
       "    .dataframe thead th {\n",
       "        text-align: right;\n",
       "    }\n",
       "</style>\n",
       "<table border=\"1\" class=\"dataframe\">\n",
       "  <thead>\n",
       "    <tr style=\"text-align: right;\">\n",
       "      <th></th>\n",
       "      <th>a</th>\n",
       "      <th>x</th>\n",
       "      <th>y</th>\n",
       "      <th>z</th>\n",
       "    </tr>\n",
       "  </thead>\n",
       "  <tbody>\n",
       "    <tr>\n",
       "      <th>1</th>\n",
       "      <td>8</td>\n",
       "      <td>17</td>\n",
       "      <td>19</td>\n",
       "      <td>11</td>\n",
       "    </tr>\n",
       "    <tr>\n",
       "      <th>3</th>\n",
       "      <td>18</td>\n",
       "      <td>13</td>\n",
       "      <td>7</td>\n",
       "      <td>15</td>\n",
       "    </tr>\n",
       "    <tr>\n",
       "      <th>4</th>\n",
       "      <td>18</td>\n",
       "      <td>19</td>\n",
       "      <td>14</td>\n",
       "      <td>16</td>\n",
       "    </tr>\n",
       "  </tbody>\n",
       "</table>\n",
       "</div>"
      ],
      "text/plain": [
       "    a   x   y   z\n",
       "1   8  17  19  11\n",
       "3  18  13   7  15\n",
       "4  18  19  14  16"
      ]
     },
     "execution_count": 166,
     "metadata": {},
     "output_type": "execute_result"
    }
   ],
   "source": [
    "a[a.x>10]     ## cs 10 dan büyük olanları alır"
   ]
  },
  {
   "cell_type": "code",
   "execution_count": 172,
   "metadata": {},
   "outputs": [
    {
     "data": {
      "text/html": [
       "<div>\n",
       "<style scoped>\n",
       "    .dataframe tbody tr th:only-of-type {\n",
       "        vertical-align: middle;\n",
       "    }\n",
       "\n",
       "    .dataframe tbody tr th {\n",
       "        vertical-align: top;\n",
       "    }\n",
       "\n",
       "    .dataframe thead th {\n",
       "        text-align: right;\n",
       "    }\n",
       "</style>\n",
       "<table border=\"1\" class=\"dataframe\">\n",
       "  <thead>\n",
       "    <tr style=\"text-align: right;\">\n",
       "      <th></th>\n",
       "      <th>x</th>\n",
       "      <th>y</th>\n",
       "    </tr>\n",
       "  </thead>\n",
       "  <tbody>\n",
       "    <tr>\n",
       "      <th>0</th>\n",
       "      <td>10</td>\n",
       "      <td>16</td>\n",
       "    </tr>\n",
       "    <tr>\n",
       "      <th>1</th>\n",
       "      <td>17</td>\n",
       "      <td>19</td>\n",
       "    </tr>\n",
       "    <tr>\n",
       "      <th>4</th>\n",
       "      <td>19</td>\n",
       "      <td>14</td>\n",
       "    </tr>\n",
       "  </tbody>\n",
       "</table>\n",
       "</div>"
      ],
      "text/plain": [
       "    x   y\n",
       "0  10  16\n",
       "1  17  19\n",
       "4  19  14"
      ]
     },
     "execution_count": 172,
     "metadata": {},
     "output_type": "execute_result"
    }
   ],
   "source": [
    "a[(a.y>10) & (a.x < 20)][[\"x\",\"y\"]]  ## şartları sağlayan x ve y yi seçer"
   ]
  },
  {
   "cell_type": "code",
   "execution_count": 169,
   "metadata": {},
   "outputs": [
    {
     "data": {
      "text/plain": [
       "array([[ 0,  1,  2,  3],\n",
       "       [ 4,  5,  6,  7],\n",
       "       [ 8,  9, 10, 11],\n",
       "       [12, 13, 14, 15]])"
      ]
     },
     "execution_count": 169,
     "metadata": {},
     "output_type": "execute_result"
    }
   ],
   "source": [
    "t=num.arange(16).reshape(4,4)\n",
    "t"
   ]
  },
  {
   "cell_type": "code",
   "execution_count": 170,
   "metadata": {},
   "outputs": [
    {
     "data": {
      "text/html": [
       "<div>\n",
       "<style scoped>\n",
       "    .dataframe tbody tr th:only-of-type {\n",
       "        vertical-align: middle;\n",
       "    }\n",
       "\n",
       "    .dataframe tbody tr th {\n",
       "        vertical-align: top;\n",
       "    }\n",
       "\n",
       "    .dataframe thead th {\n",
       "        text-align: right;\n",
       "    }\n",
       "</style>\n",
       "<table border=\"1\" class=\"dataframe\">\n",
       "  <thead>\n",
       "    <tr style=\"text-align: right;\">\n",
       "      <th></th>\n",
       "      <th>1</th>\n",
       "      <th>2</th>\n",
       "      <th>3</th>\n",
       "      <th>4</th>\n",
       "    </tr>\n",
       "  </thead>\n",
       "  <tbody>\n",
       "    <tr>\n",
       "      <th>0</th>\n",
       "      <td>0</td>\n",
       "      <td>1</td>\n",
       "      <td>2</td>\n",
       "      <td>3</td>\n",
       "    </tr>\n",
       "    <tr>\n",
       "      <th>1</th>\n",
       "      <td>4</td>\n",
       "      <td>5</td>\n",
       "      <td>6</td>\n",
       "      <td>7</td>\n",
       "    </tr>\n",
       "    <tr>\n",
       "      <th>2</th>\n",
       "      <td>8</td>\n",
       "      <td>9</td>\n",
       "      <td>10</td>\n",
       "      <td>11</td>\n",
       "    </tr>\n",
       "    <tr>\n",
       "      <th>3</th>\n",
       "      <td>12</td>\n",
       "      <td>13</td>\n",
       "      <td>14</td>\n",
       "      <td>15</td>\n",
       "    </tr>\n",
       "  </tbody>\n",
       "</table>\n",
       "</div>"
      ],
      "text/plain": [
       "    1   2   3   4\n",
       "0   0   1   2   3\n",
       "1   4   5   6   7\n",
       "2   8   9  10  11\n",
       "3  12  13  14  15"
      ]
     },
     "execution_count": 170,
     "metadata": {},
     "output_type": "execute_result"
    }
   ],
   "source": [
    "\n",
    "x=pd.DataFrame(t , columns=[\"1\",\"2\",\"3\",\"4\"])\n",
    "x"
   ]
  },
  {
   "cell_type": "code",
   "execution_count": 171,
   "metadata": {},
   "outputs": [
    {
     "data": {
      "text/html": [
       "<div>\n",
       "<style scoped>\n",
       "    .dataframe tbody tr th:only-of-type {\n",
       "        vertical-align: middle;\n",
       "    }\n",
       "\n",
       "    .dataframe tbody tr th {\n",
       "        vertical-align: top;\n",
       "    }\n",
       "\n",
       "    .dataframe thead th {\n",
       "        text-align: right;\n",
       "    }\n",
       "</style>\n",
       "<table border=\"1\" class=\"dataframe\">\n",
       "  <thead>\n",
       "    <tr style=\"text-align: right;\">\n",
       "      <th></th>\n",
       "      <th>1</th>\n",
       "      <th>2</th>\n",
       "      <th>3</th>\n",
       "      <th>4</th>\n",
       "    </tr>\n",
       "  </thead>\n",
       "  <tbody>\n",
       "    <tr>\n",
       "      <th>0</th>\n",
       "      <td>100</td>\n",
       "      <td>101</td>\n",
       "      <td>102</td>\n",
       "      <td>103</td>\n",
       "    </tr>\n",
       "    <tr>\n",
       "      <th>1</th>\n",
       "      <td>104</td>\n",
       "      <td>105</td>\n",
       "      <td>106</td>\n",
       "      <td>107</td>\n",
       "    </tr>\n",
       "    <tr>\n",
       "      <th>2</th>\n",
       "      <td>108</td>\n",
       "      <td>109</td>\n",
       "      <td>110</td>\n",
       "      <td>111</td>\n",
       "    </tr>\n",
       "    <tr>\n",
       "      <th>3</th>\n",
       "      <td>112</td>\n",
       "      <td>113</td>\n",
       "      <td>114</td>\n",
       "      <td>115</td>\n",
       "    </tr>\n",
       "  </tbody>\n",
       "</table>\n",
       "</div>"
      ],
      "text/plain": [
       "     1    2    3    4\n",
       "0  100  101  102  103\n",
       "1  104  105  106  107\n",
       "2  108  109  110  111\n",
       "3  112  113  114  115"
      ]
     },
     "execution_count": 171,
     "metadata": {},
     "output_type": "execute_result"
    }
   ],
   "source": [
    "y=x+100            ## her elemanına 100 ekler\n",
    "y"
   ]
  },
  {
   "cell_type": "code",
   "execution_count": 173,
   "metadata": {},
   "outputs": [
    {
     "data": {
      "text/html": [
       "<div>\n",
       "<style scoped>\n",
       "    .dataframe tbody tr th:only-of-type {\n",
       "        vertical-align: middle;\n",
       "    }\n",
       "\n",
       "    .dataframe tbody tr th {\n",
       "        vertical-align: top;\n",
       "    }\n",
       "\n",
       "    .dataframe thead th {\n",
       "        text-align: right;\n",
       "    }\n",
       "</style>\n",
       "<table border=\"1\" class=\"dataframe\">\n",
       "  <thead>\n",
       "    <tr style=\"text-align: right;\">\n",
       "      <th></th>\n",
       "      <th>1</th>\n",
       "      <th>2</th>\n",
       "      <th>3</th>\n",
       "      <th>4</th>\n",
       "    </tr>\n",
       "  </thead>\n",
       "  <tbody>\n",
       "    <tr>\n",
       "      <th>0</th>\n",
       "      <td>0</td>\n",
       "      <td>1</td>\n",
       "      <td>2</td>\n",
       "      <td>3</td>\n",
       "    </tr>\n",
       "    <tr>\n",
       "      <th>1</th>\n",
       "      <td>4</td>\n",
       "      <td>5</td>\n",
       "      <td>6</td>\n",
       "      <td>7</td>\n",
       "    </tr>\n",
       "    <tr>\n",
       "      <th>2</th>\n",
       "      <td>8</td>\n",
       "      <td>9</td>\n",
       "      <td>10</td>\n",
       "      <td>11</td>\n",
       "    </tr>\n",
       "    <tr>\n",
       "      <th>3</th>\n",
       "      <td>12</td>\n",
       "      <td>13</td>\n",
       "      <td>14</td>\n",
       "      <td>15</td>\n",
       "    </tr>\n",
       "    <tr>\n",
       "      <th>4</th>\n",
       "      <td>100</td>\n",
       "      <td>101</td>\n",
       "      <td>102</td>\n",
       "      <td>103</td>\n",
       "    </tr>\n",
       "    <tr>\n",
       "      <th>5</th>\n",
       "      <td>104</td>\n",
       "      <td>105</td>\n",
       "      <td>106</td>\n",
       "      <td>107</td>\n",
       "    </tr>\n",
       "    <tr>\n",
       "      <th>6</th>\n",
       "      <td>108</td>\n",
       "      <td>109</td>\n",
       "      <td>110</td>\n",
       "      <td>111</td>\n",
       "    </tr>\n",
       "    <tr>\n",
       "      <th>7</th>\n",
       "      <td>112</td>\n",
       "      <td>113</td>\n",
       "      <td>114</td>\n",
       "      <td>115</td>\n",
       "    </tr>\n",
       "  </tbody>\n",
       "</table>\n",
       "</div>"
      ],
      "text/plain": [
       "     1    2    3    4\n",
       "0    0    1    2    3\n",
       "1    4    5    6    7\n",
       "2    8    9   10   11\n",
       "3   12   13   14   15\n",
       "4  100  101  102  103\n",
       "5  104  105  106  107\n",
       "6  108  109  110  111\n",
       "7  112  113  114  115"
      ]
     },
     "execution_count": 173,
     "metadata": {},
     "output_type": "execute_result"
    }
   ],
   "source": [
    " pd.concat([x,y] , ignore_index=True)##index problemi kalkar         ##birleştirir"
   ]
  },
  {
   "cell_type": "code",
   "execution_count": 3,
   "metadata": {},
   "outputs": [
    {
     "data": {
      "text/html": [
       "<div>\n",
       "<style scoped>\n",
       "    .dataframe tbody tr th:only-of-type {\n",
       "        vertical-align: middle;\n",
       "    }\n",
       "\n",
       "    .dataframe tbody tr th {\n",
       "        vertical-align: top;\n",
       "    }\n",
       "\n",
       "    .dataframe thead th {\n",
       "        text-align: right;\n",
       "    }\n",
       "</style>\n",
       "<table border=\"1\" class=\"dataframe\">\n",
       "  <thead>\n",
       "    <tr style=\"text-align: right;\">\n",
       "      <th></th>\n",
       "      <th>Takımlar</th>\n",
       "      <th>YIL</th>\n",
       "    </tr>\n",
       "  </thead>\n",
       "  <tbody>\n",
       "    <tr>\n",
       "      <th>0</th>\n",
       "      <td>FB</td>\n",
       "      <td>1907</td>\n",
       "    </tr>\n",
       "    <tr>\n",
       "      <th>1</th>\n",
       "      <td>GS</td>\n",
       "      <td>1905</td>\n",
       "    </tr>\n",
       "    <tr>\n",
       "      <th>2</th>\n",
       "      <td>BJK</td>\n",
       "      <td>1903</td>\n",
       "    </tr>\n",
       "    <tr>\n",
       "      <th>3</th>\n",
       "      <td>TS</td>\n",
       "      <td>1961</td>\n",
       "    </tr>\n",
       "  </tbody>\n",
       "</table>\n",
       "</div>"
      ],
      "text/plain": [
       "  Takımlar   YIL\n",
       "0       FB  1907\n",
       "1       GS  1905\n",
       "2      BJK  1903\n",
       "3       TS  1961"
      ]
     },
     "execution_count": 3,
     "metadata": {},
     "output_type": "execute_result"
    }
   ],
   "source": [
    "a= pd.DataFrame({\"Takımlar\": [\"FB\",\"GS\",\"BJK\",\"TS\"],\"YIL\": [1907,1905,1903,1961]})\n",
    "a"
   ]
  },
  {
   "cell_type": "code",
   "execution_count": 6,
   "metadata": {},
   "outputs": [
    {
     "data": {
      "text/html": [
       "<div>\n",
       "<style scoped>\n",
       "    .dataframe tbody tr th:only-of-type {\n",
       "        vertical-align: middle;\n",
       "    }\n",
       "\n",
       "    .dataframe tbody tr th {\n",
       "        vertical-align: top;\n",
       "    }\n",
       "\n",
       "    .dataframe thead th {\n",
       "        text-align: right;\n",
       "    }\n",
       "</style>\n",
       "<table border=\"1\" class=\"dataframe\">\n",
       "  <thead>\n",
       "    <tr style=\"text-align: right;\">\n",
       "      <th></th>\n",
       "      <th>Takımlar</th>\n",
       "      <th>RENK</th>\n",
       "    </tr>\n",
       "  </thead>\n",
       "  <tbody>\n",
       "    <tr>\n",
       "      <th>0</th>\n",
       "      <td>FB</td>\n",
       "      <td>Sarı</td>\n",
       "    </tr>\n",
       "    <tr>\n",
       "      <th>1</th>\n",
       "      <td>GS</td>\n",
       "      <td>Kırmızı</td>\n",
       "    </tr>\n",
       "    <tr>\n",
       "      <th>2</th>\n",
       "      <td>BJK</td>\n",
       "      <td>Beyaz</td>\n",
       "    </tr>\n",
       "    <tr>\n",
       "      <th>3</th>\n",
       "      <td>TS</td>\n",
       "      <td>Bordo</td>\n",
       "    </tr>\n",
       "  </tbody>\n",
       "</table>\n",
       "</div>"
      ],
      "text/plain": [
       "  Takımlar     RENK\n",
       "0       FB     Sarı\n",
       "1       GS  Kırmızı\n",
       "2      BJK    Beyaz\n",
       "3       TS    Bordo"
      ]
     },
     "execution_count": 6,
     "metadata": {},
     "output_type": "execute_result"
    }
   ],
   "source": [
    "b= pd.DataFrame({\"Takımlar\": [\"FB\",\"GS\",\"BJK\",\"TS\"],\"RENK\": [\"Sarı\",\"Kırmızı\",\"Beyaz\",\"Bordo\"]})\n",
    "b"
   ]
  },
  {
   "cell_type": "code",
   "execution_count": 7,
   "metadata": {},
   "outputs": [
    {
     "data": {
      "text/html": [
       "<div>\n",
       "<style scoped>\n",
       "    .dataframe tbody tr th:only-of-type {\n",
       "        vertical-align: middle;\n",
       "    }\n",
       "\n",
       "    .dataframe tbody tr th {\n",
       "        vertical-align: top;\n",
       "    }\n",
       "\n",
       "    .dataframe thead th {\n",
       "        text-align: right;\n",
       "    }\n",
       "</style>\n",
       "<table border=\"1\" class=\"dataframe\">\n",
       "  <thead>\n",
       "    <tr style=\"text-align: right;\">\n",
       "      <th></th>\n",
       "      <th>Takımlar</th>\n",
       "      <th>YIL</th>\n",
       "      <th>RENK</th>\n",
       "    </tr>\n",
       "  </thead>\n",
       "  <tbody>\n",
       "    <tr>\n",
       "      <th>0</th>\n",
       "      <td>FB</td>\n",
       "      <td>1907</td>\n",
       "      <td>Sarı</td>\n",
       "    </tr>\n",
       "    <tr>\n",
       "      <th>1</th>\n",
       "      <td>GS</td>\n",
       "      <td>1905</td>\n",
       "      <td>Kırmızı</td>\n",
       "    </tr>\n",
       "    <tr>\n",
       "      <th>2</th>\n",
       "      <td>BJK</td>\n",
       "      <td>1903</td>\n",
       "      <td>Beyaz</td>\n",
       "    </tr>\n",
       "    <tr>\n",
       "      <th>3</th>\n",
       "      <td>TS</td>\n",
       "      <td>1961</td>\n",
       "      <td>Bordo</td>\n",
       "    </tr>\n",
       "  </tbody>\n",
       "</table>\n",
       "</div>"
      ],
      "text/plain": [
       "  Takımlar   YIL     RENK\n",
       "0       FB  1907     Sarı\n",
       "1       GS  1905  Kırmızı\n",
       "2      BJK  1903    Beyaz\n",
       "3       TS  1961    Bordo"
      ]
     },
     "execution_count": 7,
     "metadata": {},
     "output_type": "execute_result"
    }
   ],
   "source": [
    "pd.merge(a,b)   #birleştirme işlemi yapar"
   ]
  },
  {
   "cell_type": "code",
   "execution_count": 175,
   "metadata": {},
   "outputs": [
    {
     "data": {
      "text/plain": [
       "1903"
      ]
     },
     "execution_count": 175,
     "metadata": {},
     "output_type": "execute_result"
    }
   ],
   "source": [
    "a[\"YIL\"].min()"
   ]
  },
  {
   "cell_type": "code",
   "execution_count": 176,
   "metadata": {},
   "outputs": [
    {
     "data": {
      "text/plain": [
       "4"
      ]
     },
     "execution_count": 176,
     "metadata": {},
     "output_type": "execute_result"
    }
   ],
   "source": [
    "a[\"YIL\"].count()"
   ]
  },
  {
   "cell_type": "code",
   "execution_count": 177,
   "metadata": {},
   "outputs": [
    {
     "data": {
      "text/plain": [
       "7676"
      ]
     },
     "execution_count": 177,
     "metadata": {},
     "output_type": "execute_result"
    }
   ],
   "source": [
    "a[\"YIL\"].sum()"
   ]
  },
  {
   "cell_type": "code",
   "execution_count": 180,
   "metadata": {},
   "outputs": [
    {
     "data": {
      "text/html": [
       "<div>\n",
       "<style scoped>\n",
       "    .dataframe tbody tr th:only-of-type {\n",
       "        vertical-align: middle;\n",
       "    }\n",
       "\n",
       "    .dataframe tbody tr th {\n",
       "        vertical-align: top;\n",
       "    }\n",
       "\n",
       "    .dataframe thead th {\n",
       "        text-align: right;\n",
       "    }\n",
       "</style>\n",
       "<table border=\"1\" class=\"dataframe\">\n",
       "  <thead>\n",
       "    <tr style=\"text-align: right;\">\n",
       "      <th></th>\n",
       "      <th>YIL</th>\n",
       "    </tr>\n",
       "  </thead>\n",
       "  <tbody>\n",
       "    <tr>\n",
       "      <th>count</th>\n",
       "      <td>4.000000</td>\n",
       "    </tr>\n",
       "    <tr>\n",
       "      <th>mean</th>\n",
       "      <td>1919.000000</td>\n",
       "    </tr>\n",
       "    <tr>\n",
       "      <th>std</th>\n",
       "      <td>28.047579</td>\n",
       "    </tr>\n",
       "    <tr>\n",
       "      <th>min</th>\n",
       "      <td>1903.000000</td>\n",
       "    </tr>\n",
       "    <tr>\n",
       "      <th>25%</th>\n",
       "      <td>1904.500000</td>\n",
       "    </tr>\n",
       "    <tr>\n",
       "      <th>50%</th>\n",
       "      <td>1906.000000</td>\n",
       "    </tr>\n",
       "    <tr>\n",
       "      <th>75%</th>\n",
       "      <td>1920.500000</td>\n",
       "    </tr>\n",
       "    <tr>\n",
       "      <th>max</th>\n",
       "      <td>1961.000000</td>\n",
       "    </tr>\n",
       "  </tbody>\n",
       "</table>\n",
       "</div>"
      ],
      "text/plain": [
       "               YIL\n",
       "count     4.000000\n",
       "mean   1919.000000\n",
       "std      28.047579\n",
       "min    1903.000000\n",
       "25%    1904.500000\n",
       "50%    1906.000000\n",
       "75%    1920.500000\n",
       "max    1961.000000"
      ]
     },
     "execution_count": 180,
     "metadata": {},
     "output_type": "execute_result"
    }
   ],
   "source": [
    "a.describe()  ##T Transpoze"
   ]
  },
  {
   "cell_type": "code",
   "execution_count": null,
   "metadata": {},
   "outputs": [],
   "source": [
    "a[\"YIL\"].mean()    ##ortalama"
   ]
  },
  {
   "cell_type": "code",
   "execution_count": 8,
   "metadata": {},
   "outputs": [],
   "source": [
    "import seaborn as sns"
   ]
  },
  {
   "cell_type": "code",
   "execution_count": 10,
   "metadata": {},
   "outputs": [],
   "source": [
    "df = sns.load_dataset(\"planets\")\n"
   ]
  },
  {
   "cell_type": "code",
   "execution_count": 11,
   "metadata": {},
   "outputs": [
    {
     "data": {
      "text/plain": [
       "(1035, 6)"
      ]
     },
     "execution_count": 11,
     "metadata": {},
     "output_type": "execute_result"
    }
   ],
   "source": [
    "df.shape"
   ]
  },
  {
   "cell_type": "code",
   "execution_count": 13,
   "metadata": {},
   "outputs": [
    {
     "data": {
      "text/plain": [
       "number               1.785507\n",
       "orbital_period    2002.917596\n",
       "mass                 2.638161\n",
       "distance           264.069282\n",
       "year              2009.070531\n",
       "dtype: float64"
      ]
     },
     "execution_count": 13,
     "metadata": {},
     "output_type": "execute_result"
    }
   ],
   "source": [
    "df.mean()"
   ]
  },
  {
   "cell_type": "code",
   "execution_count": 14,
   "metadata": {},
   "outputs": [
    {
     "data": {
      "text/plain": [
       "2.6381605847953233"
      ]
     },
     "execution_count": 14,
     "metadata": {},
     "output_type": "execute_result"
    }
   ],
   "source": [
    "df[\"mass\"].mean()"
   ]
  },
  {
   "cell_type": "code",
   "execution_count": 15,
   "metadata": {},
   "outputs": [
    {
     "data": {
      "text/plain": [
       "0.0036"
      ]
     },
     "execution_count": 15,
     "metadata": {},
     "output_type": "execute_result"
    }
   ],
   "source": [
    "df[\"mass\"].min()"
   ]
  },
  {
   "cell_type": "code",
   "execution_count": 21,
   "metadata": {},
   "outputs": [
    {
     "data": {
      "text/html": [
       "<div>\n",
       "<style scoped>\n",
       "    .dataframe tbody tr th:only-of-type {\n",
       "        vertical-align: middle;\n",
       "    }\n",
       "\n",
       "    .dataframe tbody tr th {\n",
       "        vertical-align: top;\n",
       "    }\n",
       "\n",
       "    .dataframe thead th {\n",
       "        text-align: right;\n",
       "    }\n",
       "</style>\n",
       "<table border=\"1\" class=\"dataframe\">\n",
       "  <thead>\n",
       "    <tr style=\"text-align: right;\">\n",
       "      <th></th>\n",
       "      <th>c1</th>\n",
       "      <th>c2</th>\n",
       "    </tr>\n",
       "  </thead>\n",
       "  <tbody>\n",
       "    <tr>\n",
       "      <th>0</th>\n",
       "      <td>35</td>\n",
       "      <td>34</td>\n",
       "    </tr>\n",
       "    <tr>\n",
       "      <th>1</th>\n",
       "      <td>51</td>\n",
       "      <td>75</td>\n",
       "    </tr>\n",
       "    <tr>\n",
       "      <th>2</th>\n",
       "      <td>25</td>\n",
       "      <td>87</td>\n",
       "    </tr>\n",
       "    <tr>\n",
       "      <th>3</th>\n",
       "      <td>85</td>\n",
       "      <td>90</td>\n",
       "    </tr>\n",
       "    <tr>\n",
       "      <th>4</th>\n",
       "      <td>35</td>\n",
       "      <td>54</td>\n",
       "    </tr>\n",
       "    <tr>\n",
       "      <th>5</th>\n",
       "      <td>35</td>\n",
       "      <td>78</td>\n",
       "    </tr>\n",
       "    <tr>\n",
       "      <th>6</th>\n",
       "      <td>51</td>\n",
       "      <td>23</td>\n",
       "    </tr>\n",
       "    <tr>\n",
       "      <th>7</th>\n",
       "      <td>25</td>\n",
       "      <td>66</td>\n",
       "    </tr>\n",
       "    <tr>\n",
       "      <th>8</th>\n",
       "      <td>85</td>\n",
       "      <td>85</td>\n",
       "    </tr>\n",
       "    <tr>\n",
       "      <th>9</th>\n",
       "      <td>35</td>\n",
       "      <td>25</td>\n",
       "    </tr>\n",
       "    <tr>\n",
       "      <th>10</th>\n",
       "      <td>35</td>\n",
       "      <td>34</td>\n",
       "    </tr>\n",
       "    <tr>\n",
       "      <th>11</th>\n",
       "      <td>51</td>\n",
       "      <td>75</td>\n",
       "    </tr>\n",
       "    <tr>\n",
       "      <th>12</th>\n",
       "      <td>25</td>\n",
       "      <td>87</td>\n",
       "    </tr>\n",
       "    <tr>\n",
       "      <th>13</th>\n",
       "      <td>85</td>\n",
       "      <td>90</td>\n",
       "    </tr>\n",
       "    <tr>\n",
       "      <th>14</th>\n",
       "      <td>35</td>\n",
       "      <td>54</td>\n",
       "    </tr>\n",
       "    <tr>\n",
       "      <th>15</th>\n",
       "      <td>35</td>\n",
       "      <td>78</td>\n",
       "    </tr>\n",
       "    <tr>\n",
       "      <th>16</th>\n",
       "      <td>51</td>\n",
       "      <td>23</td>\n",
       "    </tr>\n",
       "    <tr>\n",
       "      <th>17</th>\n",
       "      <td>25</td>\n",
       "      <td>66</td>\n",
       "    </tr>\n",
       "    <tr>\n",
       "      <th>18</th>\n",
       "      <td>85</td>\n",
       "      <td>85</td>\n",
       "    </tr>\n",
       "    <tr>\n",
       "      <th>19</th>\n",
       "      <td>35</td>\n",
       "      <td>25</td>\n",
       "    </tr>\n",
       "    <tr>\n",
       "      <th>20</th>\n",
       "      <td>35</td>\n",
       "      <td>34</td>\n",
       "    </tr>\n",
       "    <tr>\n",
       "      <th>21</th>\n",
       "      <td>51</td>\n",
       "      <td>75</td>\n",
       "    </tr>\n",
       "    <tr>\n",
       "      <th>22</th>\n",
       "      <td>25</td>\n",
       "      <td>87</td>\n",
       "    </tr>\n",
       "    <tr>\n",
       "      <th>23</th>\n",
       "      <td>85</td>\n",
       "      <td>90</td>\n",
       "    </tr>\n",
       "    <tr>\n",
       "      <th>24</th>\n",
       "      <td>35</td>\n",
       "      <td>54</td>\n",
       "    </tr>\n",
       "    <tr>\n",
       "      <th>25</th>\n",
       "      <td>35</td>\n",
       "      <td>78</td>\n",
       "    </tr>\n",
       "    <tr>\n",
       "      <th>26</th>\n",
       "      <td>51</td>\n",
       "      <td>23</td>\n",
       "    </tr>\n",
       "    <tr>\n",
       "      <th>27</th>\n",
       "      <td>25</td>\n",
       "      <td>66</td>\n",
       "    </tr>\n",
       "    <tr>\n",
       "      <th>28</th>\n",
       "      <td>85</td>\n",
       "      <td>85</td>\n",
       "    </tr>\n",
       "    <tr>\n",
       "      <th>29</th>\n",
       "      <td>35</td>\n",
       "      <td>25</td>\n",
       "    </tr>\n",
       "  </tbody>\n",
       "</table>\n",
       "</div>"
      ],
      "text/plain": [
       "    c1  c2\n",
       "0   35  34\n",
       "1   51  75\n",
       "2   25  87\n",
       "3   85  90\n",
       "4   35  54\n",
       "5   35  78\n",
       "6   51  23\n",
       "7   25  66\n",
       "8   85  85\n",
       "9   35  25\n",
       "10  35  34\n",
       "11  51  75\n",
       "12  25  87\n",
       "13  85  90\n",
       "14  35  54\n",
       "15  35  78\n",
       "16  51  23\n",
       "17  25  66\n",
       "18  85  85\n",
       "19  35  25\n",
       "20  35  34\n",
       "21  51  75\n",
       "22  25  87\n",
       "23  85  90\n",
       "24  35  54\n",
       "25  35  78\n",
       "26  51  23\n",
       "27  25  66\n",
       "28  85  85\n",
       "29  35  25"
      ]
     },
     "execution_count": 21,
     "metadata": {},
     "output_type": "execute_result"
    }
   ],
   "source": [
    "b=pd.DataFrame({\"c1\": [35,51,25,85,35,35,51,25,85,35,35,51,25,85,35,35,51,25,85,35,35,51,25,85,35,35,51,25,85,35] , \n",
    "                \"c2\": [34,75,87,90,54,78,23,66,85,25,34,75,87,90,54,78,23,66,85,25,34,75,87,90,54,78,23,66,85,25]} )\n",
    "b"
   ]
  },
  {
   "cell_type": "code",
   "execution_count": 20,
   "metadata": {},
   "outputs": [
    {
     "data": {
      "text/html": [
       "<div>\n",
       "<style scoped>\n",
       "    .dataframe tbody tr th:only-of-type {\n",
       "        vertical-align: middle;\n",
       "    }\n",
       "\n",
       "    .dataframe tbody tr th {\n",
       "        vertical-align: top;\n",
       "    }\n",
       "\n",
       "    .dataframe thead th {\n",
       "        text-align: right;\n",
       "    }\n",
       "</style>\n",
       "<table border=\"1\" class=\"dataframe\">\n",
       "  <thead>\n",
       "    <tr style=\"text-align: right;\">\n",
       "      <th></th>\n",
       "      <th>count</th>\n",
       "      <th>mean</th>\n",
       "      <th>std</th>\n",
       "      <th>min</th>\n",
       "      <th>25%</th>\n",
       "      <th>50%</th>\n",
       "      <th>75%</th>\n",
       "      <th>max</th>\n",
       "    </tr>\n",
       "  </thead>\n",
       "  <tbody>\n",
       "    <tr>\n",
       "      <th>number</th>\n",
       "      <td>498.0</td>\n",
       "      <td>1.734940</td>\n",
       "      <td>1.175720</td>\n",
       "      <td>1.0000</td>\n",
       "      <td>1.00000</td>\n",
       "      <td>1.000</td>\n",
       "      <td>2.0000</td>\n",
       "      <td>6.0</td>\n",
       "    </tr>\n",
       "    <tr>\n",
       "      <th>orbital_period</th>\n",
       "      <td>498.0</td>\n",
       "      <td>835.778671</td>\n",
       "      <td>1469.128259</td>\n",
       "      <td>1.3283</td>\n",
       "      <td>38.27225</td>\n",
       "      <td>357.000</td>\n",
       "      <td>999.6000</td>\n",
       "      <td>17337.5</td>\n",
       "    </tr>\n",
       "    <tr>\n",
       "      <th>mass</th>\n",
       "      <td>498.0</td>\n",
       "      <td>2.509320</td>\n",
       "      <td>3.636274</td>\n",
       "      <td>0.0036</td>\n",
       "      <td>0.21250</td>\n",
       "      <td>1.245</td>\n",
       "      <td>2.8675</td>\n",
       "      <td>25.0</td>\n",
       "    </tr>\n",
       "    <tr>\n",
       "      <th>distance</th>\n",
       "      <td>498.0</td>\n",
       "      <td>52.068213</td>\n",
       "      <td>46.596041</td>\n",
       "      <td>1.3500</td>\n",
       "      <td>24.49750</td>\n",
       "      <td>39.940</td>\n",
       "      <td>59.3325</td>\n",
       "      <td>354.0</td>\n",
       "    </tr>\n",
       "    <tr>\n",
       "      <th>year</th>\n",
       "      <td>498.0</td>\n",
       "      <td>2007.377510</td>\n",
       "      <td>4.167284</td>\n",
       "      <td>1989.0000</td>\n",
       "      <td>2005.00000</td>\n",
       "      <td>2009.000</td>\n",
       "      <td>2011.0000</td>\n",
       "      <td>2014.0</td>\n",
       "    </tr>\n",
       "  </tbody>\n",
       "</table>\n",
       "</div>"
      ],
      "text/plain": [
       "                count         mean          std        min         25%  \\\n",
       "number          498.0     1.734940     1.175720     1.0000     1.00000   \n",
       "orbital_period  498.0   835.778671  1469.128259     1.3283    38.27225   \n",
       "mass            498.0     2.509320     3.636274     0.0036     0.21250   \n",
       "distance        498.0    52.068213    46.596041     1.3500    24.49750   \n",
       "year            498.0  2007.377510     4.167284  1989.0000  2005.00000   \n",
       "\n",
       "                     50%        75%      max  \n",
       "number             1.000     2.0000      6.0  \n",
       "orbital_period   357.000   999.6000  17337.5  \n",
       "mass               1.245     2.8675     25.0  \n",
       "distance          39.940    59.3325    354.0  \n",
       "year            2009.000  2011.0000   2014.0  "
      ]
     },
     "execution_count": 20,
     "metadata": {},
     "output_type": "execute_result"
    }
   ],
   "source": [
    "df.dropna().describe().T   ##eksik değerleri siler"
   ]
  },
  {
   "cell_type": "code",
   "execution_count": 23,
   "metadata": {},
   "outputs": [
    {
     "data": {
      "text/plain": [
       "<pandas.core.groupby.groupby.DataFrameGroupBy object at 0x0000015F4BDA4550>"
      ]
     },
     "execution_count": 23,
     "metadata": {},
     "output_type": "execute_result"
    }
   ],
   "source": [
    "b.groupby(\"c1\")          ##gruplandırır"
   ]
  },
  {
   "cell_type": "code",
   "execution_count": 24,
   "metadata": {},
   "outputs": [
    {
     "data": {
      "text/html": [
       "<div>\n",
       "<style scoped>\n",
       "    .dataframe tbody tr th:only-of-type {\n",
       "        vertical-align: middle;\n",
       "    }\n",
       "\n",
       "    .dataframe tbody tr th {\n",
       "        vertical-align: top;\n",
       "    }\n",
       "\n",
       "    .dataframe thead th {\n",
       "        text-align: right;\n",
       "    }\n",
       "</style>\n",
       "<table border=\"1\" class=\"dataframe\">\n",
       "  <thead>\n",
       "    <tr style=\"text-align: right;\">\n",
       "      <th></th>\n",
       "      <th>c2</th>\n",
       "    </tr>\n",
       "    <tr>\n",
       "      <th>c1</th>\n",
       "      <th></th>\n",
       "    </tr>\n",
       "  </thead>\n",
       "  <tbody>\n",
       "    <tr>\n",
       "      <th>25</th>\n",
       "      <td>76.50</td>\n",
       "    </tr>\n",
       "    <tr>\n",
       "      <th>35</th>\n",
       "      <td>47.75</td>\n",
       "    </tr>\n",
       "    <tr>\n",
       "      <th>51</th>\n",
       "      <td>49.00</td>\n",
       "    </tr>\n",
       "    <tr>\n",
       "      <th>85</th>\n",
       "      <td>87.50</td>\n",
       "    </tr>\n",
       "  </tbody>\n",
       "</table>\n",
       "</div>"
      ],
      "text/plain": [
       "       c2\n",
       "c1       \n",
       "25  76.50\n",
       "35  47.75\n",
       "51  49.00\n",
       "85  87.50"
      ]
     },
     "execution_count": 24,
     "metadata": {},
     "output_type": "execute_result"
    }
   ],
   "source": [
    "b.groupby(\"c1\").mean()     ##ortalamalarını aldı"
   ]
  },
  {
   "cell_type": "code",
   "execution_count": 25,
   "metadata": {},
   "outputs": [
    {
     "data": {
      "text/html": [
       "<div>\n",
       "<style scoped>\n",
       "    .dataframe tbody tr th:only-of-type {\n",
       "        vertical-align: middle;\n",
       "    }\n",
       "\n",
       "    .dataframe tbody tr th {\n",
       "        vertical-align: top;\n",
       "    }\n",
       "\n",
       "    .dataframe thead th {\n",
       "        text-align: right;\n",
       "    }\n",
       "</style>\n",
       "<table border=\"1\" class=\"dataframe\">\n",
       "  <thead>\n",
       "    <tr style=\"text-align: right;\">\n",
       "      <th></th>\n",
       "      <th>c2</th>\n",
       "    </tr>\n",
       "    <tr>\n",
       "      <th>c1</th>\n",
       "      <th></th>\n",
       "    </tr>\n",
       "  </thead>\n",
       "  <tbody>\n",
       "    <tr>\n",
       "      <th>25</th>\n",
       "      <td>459</td>\n",
       "    </tr>\n",
       "    <tr>\n",
       "      <th>35</th>\n",
       "      <td>573</td>\n",
       "    </tr>\n",
       "    <tr>\n",
       "      <th>51</th>\n",
       "      <td>294</td>\n",
       "    </tr>\n",
       "    <tr>\n",
       "      <th>85</th>\n",
       "      <td>525</td>\n",
       "    </tr>\n",
       "  </tbody>\n",
       "</table>\n",
       "</div>"
      ],
      "text/plain": [
       "     c2\n",
       "c1     \n",
       "25  459\n",
       "35  573\n",
       "51  294\n",
       "85  525"
      ]
     },
     "execution_count": 25,
     "metadata": {},
     "output_type": "execute_result"
    }
   ],
   "source": [
    "b.groupby(\"c1\").sum()  "
   ]
  },
  {
   "cell_type": "code",
   "execution_count": 16,
   "metadata": {},
   "outputs": [
    {
     "data": {
      "text/plain": [
       "14.58183312700122"
      ]
     },
     "execution_count": 16,
     "metadata": {},
     "output_type": "execute_result"
    }
   ],
   "source": [
    "df[\"mass\"].var()"
   ]
  },
  {
   "cell_type": "code",
   "execution_count": 18,
   "metadata": {},
   "outputs": [
    {
     "data": {
      "text/html": [
       "<div>\n",
       "<style scoped>\n",
       "    .dataframe tbody tr th:only-of-type {\n",
       "        vertical-align: middle;\n",
       "    }\n",
       "\n",
       "    .dataframe tbody tr th {\n",
       "        vertical-align: top;\n",
       "    }\n",
       "\n",
       "    .dataframe thead th {\n",
       "        text-align: right;\n",
       "    }\n",
       "</style>\n",
       "<table border=\"1\" class=\"dataframe\">\n",
       "  <thead>\n",
       "    <tr style=\"text-align: right;\">\n",
       "      <th></th>\n",
       "      <th>count</th>\n",
       "      <th>mean</th>\n",
       "      <th>std</th>\n",
       "      <th>min</th>\n",
       "      <th>25%</th>\n",
       "      <th>50%</th>\n",
       "      <th>75%</th>\n",
       "      <th>max</th>\n",
       "    </tr>\n",
       "  </thead>\n",
       "  <tbody>\n",
       "    <tr>\n",
       "      <th>number</th>\n",
       "      <td>1035.0</td>\n",
       "      <td>1.785507</td>\n",
       "      <td>1.240976</td>\n",
       "      <td>1.000000</td>\n",
       "      <td>1.00000</td>\n",
       "      <td>1.0000</td>\n",
       "      <td>2.000</td>\n",
       "      <td>7.0</td>\n",
       "    </tr>\n",
       "    <tr>\n",
       "      <th>orbital_period</th>\n",
       "      <td>992.0</td>\n",
       "      <td>2002.917596</td>\n",
       "      <td>26014.728304</td>\n",
       "      <td>0.090706</td>\n",
       "      <td>5.44254</td>\n",
       "      <td>39.9795</td>\n",
       "      <td>526.005</td>\n",
       "      <td>730000.0</td>\n",
       "    </tr>\n",
       "    <tr>\n",
       "      <th>mass</th>\n",
       "      <td>513.0</td>\n",
       "      <td>2.638161</td>\n",
       "      <td>3.818617</td>\n",
       "      <td>0.003600</td>\n",
       "      <td>0.22900</td>\n",
       "      <td>1.2600</td>\n",
       "      <td>3.040</td>\n",
       "      <td>25.0</td>\n",
       "    </tr>\n",
       "    <tr>\n",
       "      <th>distance</th>\n",
       "      <td>808.0</td>\n",
       "      <td>264.069282</td>\n",
       "      <td>733.116493</td>\n",
       "      <td>1.350000</td>\n",
       "      <td>32.56000</td>\n",
       "      <td>55.2500</td>\n",
       "      <td>178.500</td>\n",
       "      <td>8500.0</td>\n",
       "    </tr>\n",
       "    <tr>\n",
       "      <th>year</th>\n",
       "      <td>1035.0</td>\n",
       "      <td>2009.070531</td>\n",
       "      <td>3.972567</td>\n",
       "      <td>1989.000000</td>\n",
       "      <td>2007.00000</td>\n",
       "      <td>2010.0000</td>\n",
       "      <td>2012.000</td>\n",
       "      <td>2014.0</td>\n",
       "    </tr>\n",
       "  </tbody>\n",
       "</table>\n",
       "</div>"
      ],
      "text/plain": [
       "                 count         mean           std          min         25%  \\\n",
       "number          1035.0     1.785507      1.240976     1.000000     1.00000   \n",
       "orbital_period   992.0  2002.917596  26014.728304     0.090706     5.44254   \n",
       "mass             513.0     2.638161      3.818617     0.003600     0.22900   \n",
       "distance         808.0   264.069282    733.116493     1.350000    32.56000   \n",
       "year            1035.0  2009.070531      3.972567  1989.000000  2007.00000   \n",
       "\n",
       "                      50%       75%       max  \n",
       "number             1.0000     2.000       7.0  \n",
       "orbital_period    39.9795   526.005  730000.0  \n",
       "mass               1.2600     3.040      25.0  \n",
       "distance          55.2500   178.500    8500.0  \n",
       "year            2010.0000  2012.000    2014.0  "
      ]
     },
     "execution_count": 18,
     "metadata": {},
     "output_type": "execute_result"
    }
   ],
   "source": [
    "df.describe().T"
   ]
  },
  {
   "cell_type": "code",
   "execution_count": 35,
   "metadata": {},
   "outputs": [
    {
     "data": {
      "text/html": [
       "<div>\n",
       "<style scoped>\n",
       "    .dataframe tbody tr th:only-of-type {\n",
       "        vertical-align: middle;\n",
       "    }\n",
       "\n",
       "    .dataframe tbody tr th {\n",
       "        vertical-align: top;\n",
       "    }\n",
       "\n",
       "    .dataframe thead th {\n",
       "        text-align: right;\n",
       "    }\n",
       "</style>\n",
       "<table border=\"1\" class=\"dataframe\">\n",
       "  <thead>\n",
       "    <tr style=\"text-align: right;\">\n",
       "      <th></th>\n",
       "      <th>number</th>\n",
       "      <th>orbital_period</th>\n",
       "      <th>mass</th>\n",
       "      <th>distance</th>\n",
       "      <th>year</th>\n",
       "    </tr>\n",
       "    <tr>\n",
       "      <th>method</th>\n",
       "      <th></th>\n",
       "      <th></th>\n",
       "      <th></th>\n",
       "      <th></th>\n",
       "      <th></th>\n",
       "    </tr>\n",
       "  </thead>\n",
       "  <tbody>\n",
       "    <tr>\n",
       "      <th>Astrometry</th>\n",
       "      <td>1</td>\n",
       "      <td>1016.000000</td>\n",
       "      <td>NaN</td>\n",
       "      <td>20.77</td>\n",
       "      <td>2013</td>\n",
       "    </tr>\n",
       "    <tr>\n",
       "      <th>Eclipse Timing Variations</th>\n",
       "      <td>2</td>\n",
       "      <td>10220.000000</td>\n",
       "      <td>6.05</td>\n",
       "      <td>500.00</td>\n",
       "      <td>2012</td>\n",
       "    </tr>\n",
       "    <tr>\n",
       "      <th>Imaging</th>\n",
       "      <td>4</td>\n",
       "      <td>730000.000000</td>\n",
       "      <td>NaN</td>\n",
       "      <td>165.00</td>\n",
       "      <td>2013</td>\n",
       "    </tr>\n",
       "    <tr>\n",
       "      <th>Microlensing</th>\n",
       "      <td>2</td>\n",
       "      <td>5100.000000</td>\n",
       "      <td>NaN</td>\n",
       "      <td>7720.00</td>\n",
       "      <td>2013</td>\n",
       "    </tr>\n",
       "    <tr>\n",
       "      <th>Orbital Brightness Modulation</th>\n",
       "      <td>2</td>\n",
       "      <td>1.544929</td>\n",
       "      <td>NaN</td>\n",
       "      <td>1180.00</td>\n",
       "      <td>2013</td>\n",
       "    </tr>\n",
       "    <tr>\n",
       "      <th>Pulsar Timing</th>\n",
       "      <td>3</td>\n",
       "      <td>36525.000000</td>\n",
       "      <td>NaN</td>\n",
       "      <td>1200.00</td>\n",
       "      <td>2011</td>\n",
       "    </tr>\n",
       "    <tr>\n",
       "      <th>Pulsation Timing Variations</th>\n",
       "      <td>1</td>\n",
       "      <td>1170.000000</td>\n",
       "      <td>NaN</td>\n",
       "      <td>NaN</td>\n",
       "      <td>2007</td>\n",
       "    </tr>\n",
       "    <tr>\n",
       "      <th>Radial Velocity</th>\n",
       "      <td>6</td>\n",
       "      <td>17337.500000</td>\n",
       "      <td>25.00</td>\n",
       "      <td>354.00</td>\n",
       "      <td>2014</td>\n",
       "    </tr>\n",
       "    <tr>\n",
       "      <th>Transit</th>\n",
       "      <td>7</td>\n",
       "      <td>331.600590</td>\n",
       "      <td>1.47</td>\n",
       "      <td>8500.00</td>\n",
       "      <td>2014</td>\n",
       "    </tr>\n",
       "    <tr>\n",
       "      <th>Transit Timing Variations</th>\n",
       "      <td>3</td>\n",
       "      <td>160.000000</td>\n",
       "      <td>NaN</td>\n",
       "      <td>2119.00</td>\n",
       "      <td>2014</td>\n",
       "    </tr>\n",
       "  </tbody>\n",
       "</table>\n",
       "</div>"
      ],
      "text/plain": [
       "                               number  orbital_period   mass  distance  year\n",
       "method                                                                      \n",
       "Astrometry                          1     1016.000000    NaN     20.77  2013\n",
       "Eclipse Timing Variations           2    10220.000000   6.05    500.00  2012\n",
       "Imaging                             4   730000.000000    NaN    165.00  2013\n",
       "Microlensing                        2     5100.000000    NaN   7720.00  2013\n",
       "Orbital Brightness Modulation       2        1.544929    NaN   1180.00  2013\n",
       "Pulsar Timing                       3    36525.000000    NaN   1200.00  2011\n",
       "Pulsation Timing Variations         1     1170.000000    NaN       NaN  2007\n",
       "Radial Velocity                     6    17337.500000  25.00    354.00  2014\n",
       "Transit                             7      331.600590   1.47   8500.00  2014\n",
       "Transit Timing Variations           3      160.000000    NaN   2119.00  2014"
      ]
     },
     "execution_count": 35,
     "metadata": {},
     "output_type": "execute_result"
    }
   ],
   "source": [
    "df.groupby(\"method\").max()"
   ]
  },
  {
   "cell_type": "code",
   "execution_count": 38,
   "metadata": {},
   "outputs": [
    {
     "data": {
      "text/html": [
       "<div>\n",
       "<style scoped>\n",
       "    .dataframe tbody tr th:only-of-type {\n",
       "        vertical-align: middle;\n",
       "    }\n",
       "\n",
       "    .dataframe tbody tr th {\n",
       "        vertical-align: top;\n",
       "    }\n",
       "\n",
       "    .dataframe thead th {\n",
       "        text-align: right;\n",
       "    }\n",
       "</style>\n",
       "<table border=\"1\" class=\"dataframe\">\n",
       "  <thead>\n",
       "    <tr style=\"text-align: right;\">\n",
       "      <th></th>\n",
       "      <th>count</th>\n",
       "      <th>mean</th>\n",
       "      <th>std</th>\n",
       "      <th>min</th>\n",
       "      <th>25%</th>\n",
       "      <th>50%</th>\n",
       "      <th>75%</th>\n",
       "      <th>max</th>\n",
       "    </tr>\n",
       "    <tr>\n",
       "      <th>method</th>\n",
       "      <th></th>\n",
       "      <th></th>\n",
       "      <th></th>\n",
       "      <th></th>\n",
       "      <th></th>\n",
       "      <th></th>\n",
       "      <th></th>\n",
       "      <th></th>\n",
       "    </tr>\n",
       "  </thead>\n",
       "  <tbody>\n",
       "    <tr>\n",
       "      <th>Astrometry</th>\n",
       "      <td>2.0</td>\n",
       "      <td>17.875000</td>\n",
       "      <td>4.094148</td>\n",
       "      <td>14.98</td>\n",
       "      <td>16.4275</td>\n",
       "      <td>17.875</td>\n",
       "      <td>19.3225</td>\n",
       "      <td>20.77</td>\n",
       "    </tr>\n",
       "    <tr>\n",
       "      <th>Eclipse Timing Variations</th>\n",
       "      <td>4.0</td>\n",
       "      <td>315.360000</td>\n",
       "      <td>213.203907</td>\n",
       "      <td>130.72</td>\n",
       "      <td>130.7200</td>\n",
       "      <td>315.360</td>\n",
       "      <td>500.0000</td>\n",
       "      <td>500.00</td>\n",
       "    </tr>\n",
       "    <tr>\n",
       "      <th>Imaging</th>\n",
       "      <td>32.0</td>\n",
       "      <td>67.715937</td>\n",
       "      <td>53.736817</td>\n",
       "      <td>7.69</td>\n",
       "      <td>22.1450</td>\n",
       "      <td>40.395</td>\n",
       "      <td>132.6975</td>\n",
       "      <td>165.00</td>\n",
       "    </tr>\n",
       "    <tr>\n",
       "      <th>Microlensing</th>\n",
       "      <td>10.0</td>\n",
       "      <td>4144.000000</td>\n",
       "      <td>2076.611556</td>\n",
       "      <td>1760.00</td>\n",
       "      <td>2627.5000</td>\n",
       "      <td>3840.000</td>\n",
       "      <td>4747.5000</td>\n",
       "      <td>7720.00</td>\n",
       "    </tr>\n",
       "    <tr>\n",
       "      <th>Orbital Brightness Modulation</th>\n",
       "      <td>2.0</td>\n",
       "      <td>1180.000000</td>\n",
       "      <td>0.000000</td>\n",
       "      <td>1180.00</td>\n",
       "      <td>1180.0000</td>\n",
       "      <td>1180.000</td>\n",
       "      <td>1180.0000</td>\n",
       "      <td>1180.00</td>\n",
       "    </tr>\n",
       "    <tr>\n",
       "      <th>Pulsar Timing</th>\n",
       "      <td>1.0</td>\n",
       "      <td>1200.000000</td>\n",
       "      <td>NaN</td>\n",
       "      <td>1200.00</td>\n",
       "      <td>1200.0000</td>\n",
       "      <td>1200.000</td>\n",
       "      <td>1200.0000</td>\n",
       "      <td>1200.00</td>\n",
       "    </tr>\n",
       "    <tr>\n",
       "      <th>Pulsation Timing Variations</th>\n",
       "      <td>0.0</td>\n",
       "      <td>NaN</td>\n",
       "      <td>NaN</td>\n",
       "      <td>NaN</td>\n",
       "      <td>NaN</td>\n",
       "      <td>NaN</td>\n",
       "      <td>NaN</td>\n",
       "      <td>NaN</td>\n",
       "    </tr>\n",
       "    <tr>\n",
       "      <th>Radial Velocity</th>\n",
       "      <td>530.0</td>\n",
       "      <td>51.600208</td>\n",
       "      <td>45.559381</td>\n",
       "      <td>1.35</td>\n",
       "      <td>24.4125</td>\n",
       "      <td>40.445</td>\n",
       "      <td>59.2175</td>\n",
       "      <td>354.00</td>\n",
       "    </tr>\n",
       "    <tr>\n",
       "      <th>Transit</th>\n",
       "      <td>224.0</td>\n",
       "      <td>599.298080</td>\n",
       "      <td>913.876990</td>\n",
       "      <td>38.00</td>\n",
       "      <td>200.0000</td>\n",
       "      <td>341.000</td>\n",
       "      <td>650.0000</td>\n",
       "      <td>8500.00</td>\n",
       "    </tr>\n",
       "    <tr>\n",
       "      <th>Transit Timing Variations</th>\n",
       "      <td>3.0</td>\n",
       "      <td>1104.333333</td>\n",
       "      <td>915.819487</td>\n",
       "      <td>339.00</td>\n",
       "      <td>597.0000</td>\n",
       "      <td>855.000</td>\n",
       "      <td>1487.0000</td>\n",
       "      <td>2119.00</td>\n",
       "    </tr>\n",
       "  </tbody>\n",
       "</table>\n",
       "</div>"
      ],
      "text/plain": [
       "                               count         mean          std      min  \\\n",
       "method                                                                    \n",
       "Astrometry                       2.0    17.875000     4.094148    14.98   \n",
       "Eclipse Timing Variations        4.0   315.360000   213.203907   130.72   \n",
       "Imaging                         32.0    67.715937    53.736817     7.69   \n",
       "Microlensing                    10.0  4144.000000  2076.611556  1760.00   \n",
       "Orbital Brightness Modulation    2.0  1180.000000     0.000000  1180.00   \n",
       "Pulsar Timing                    1.0  1200.000000          NaN  1200.00   \n",
       "Pulsation Timing Variations      0.0          NaN          NaN      NaN   \n",
       "Radial Velocity                530.0    51.600208    45.559381     1.35   \n",
       "Transit                        224.0   599.298080   913.876990    38.00   \n",
       "Transit Timing Variations        3.0  1104.333333   915.819487   339.00   \n",
       "\n",
       "                                     25%       50%        75%      max  \n",
       "method                                                                  \n",
       "Astrometry                       16.4275    17.875    19.3225    20.77  \n",
       "Eclipse Timing Variations       130.7200   315.360   500.0000   500.00  \n",
       "Imaging                          22.1450    40.395   132.6975   165.00  \n",
       "Microlensing                   2627.5000  3840.000  4747.5000  7720.00  \n",
       "Orbital Brightness Modulation  1180.0000  1180.000  1180.0000  1180.00  \n",
       "Pulsar Timing                  1200.0000  1200.000  1200.0000  1200.00  \n",
       "Pulsation Timing Variations          NaN       NaN        NaN      NaN  \n",
       "Radial Velocity                  24.4125    40.445    59.2175   354.00  \n",
       "Transit                         200.0000   341.000   650.0000  8500.00  \n",
       "Transit Timing Variations       597.0000   855.000  1487.0000  2119.00  "
      ]
     },
     "execution_count": 38,
     "metadata": {},
     "output_type": "execute_result"
    }
   ],
   "source": [
    "df.groupby(\"method\")[\"distance\"].describe()"
   ]
  },
  {
   "cell_type": "code",
   "execution_count": 27,
   "metadata": {},
   "outputs": [
    {
     "data": {
      "text/html": [
       "<div>\n",
       "<style scoped>\n",
       "    .dataframe tbody tr th:only-of-type {\n",
       "        vertical-align: middle;\n",
       "    }\n",
       "\n",
       "    .dataframe tbody tr th {\n",
       "        vertical-align: top;\n",
       "    }\n",
       "\n",
       "    .dataframe thead th {\n",
       "        text-align: right;\n",
       "    }\n",
       "</style>\n",
       "<table border=\"1\" class=\"dataframe\">\n",
       "  <thead>\n",
       "    <tr style=\"text-align: right;\">\n",
       "      <th></th>\n",
       "      <th>method</th>\n",
       "      <th>number</th>\n",
       "      <th>orbital_period</th>\n",
       "      <th>mass</th>\n",
       "      <th>distance</th>\n",
       "      <th>year</th>\n",
       "    </tr>\n",
       "  </thead>\n",
       "  <tbody>\n",
       "    <tr>\n",
       "      <th>0</th>\n",
       "      <td>Radial Velocity</td>\n",
       "      <td>1</td>\n",
       "      <td>269.300</td>\n",
       "      <td>7.10</td>\n",
       "      <td>77.40</td>\n",
       "      <td>2006</td>\n",
       "    </tr>\n",
       "    <tr>\n",
       "      <th>1</th>\n",
       "      <td>Radial Velocity</td>\n",
       "      <td>1</td>\n",
       "      <td>874.774</td>\n",
       "      <td>2.21</td>\n",
       "      <td>56.95</td>\n",
       "      <td>2008</td>\n",
       "    </tr>\n",
       "    <tr>\n",
       "      <th>2</th>\n",
       "      <td>Radial Velocity</td>\n",
       "      <td>1</td>\n",
       "      <td>763.000</td>\n",
       "      <td>2.60</td>\n",
       "      <td>19.84</td>\n",
       "      <td>2011</td>\n",
       "    </tr>\n",
       "    <tr>\n",
       "      <th>3</th>\n",
       "      <td>Radial Velocity</td>\n",
       "      <td>1</td>\n",
       "      <td>326.030</td>\n",
       "      <td>19.40</td>\n",
       "      <td>110.62</td>\n",
       "      <td>2007</td>\n",
       "    </tr>\n",
       "    <tr>\n",
       "      <th>4</th>\n",
       "      <td>Radial Velocity</td>\n",
       "      <td>1</td>\n",
       "      <td>516.220</td>\n",
       "      <td>10.50</td>\n",
       "      <td>119.47</td>\n",
       "      <td>2009</td>\n",
       "    </tr>\n",
       "  </tbody>\n",
       "</table>\n",
       "</div>"
      ],
      "text/plain": [
       "            method  number  orbital_period   mass  distance  year\n",
       "0  Radial Velocity       1         269.300   7.10     77.40  2006\n",
       "1  Radial Velocity       1         874.774   2.21     56.95  2008\n",
       "2  Radial Velocity       1         763.000   2.60     19.84  2011\n",
       "3  Radial Velocity       1         326.030  19.40    110.62  2007\n",
       "4  Radial Velocity       1         516.220  10.50    119.47  2009"
      ]
     },
     "execution_count": 27,
     "metadata": {},
     "output_type": "execute_result"
    }
   ],
   "source": [
    "df = sns.load_dataset(\"planets\")\n",
    "df.head()"
   ]
  },
  {
   "cell_type": "code",
   "execution_count": 42,
   "metadata": {},
   "outputs": [
    {
     "data": {
      "text/html": [
       "<div>\n",
       "<style scoped>\n",
       "    .dataframe tbody tr th:only-of-type {\n",
       "        vertical-align: middle;\n",
       "    }\n",
       "\n",
       "    .dataframe tbody tr th {\n",
       "        vertical-align: top;\n",
       "    }\n",
       "\n",
       "    .dataframe thead tr th {\n",
       "        text-align: left;\n",
       "    }\n",
       "\n",
       "    .dataframe thead tr:last-of-type th {\n",
       "        text-align: right;\n",
       "    }\n",
       "</style>\n",
       "<table border=\"1\" class=\"dataframe\">\n",
       "  <thead>\n",
       "    <tr>\n",
       "      <th></th>\n",
       "      <th colspan=\"3\" halign=\"left\">orbital_period</th>\n",
       "      <th colspan=\"3\" halign=\"left\">mass</th>\n",
       "      <th colspan=\"3\" halign=\"left\">distance</th>\n",
       "      <th colspan=\"3\" halign=\"left\">year</th>\n",
       "    </tr>\n",
       "    <tr>\n",
       "      <th></th>\n",
       "      <th>min</th>\n",
       "      <th>median</th>\n",
       "      <th>max</th>\n",
       "      <th>min</th>\n",
       "      <th>median</th>\n",
       "      <th>max</th>\n",
       "      <th>min</th>\n",
       "      <th>median</th>\n",
       "      <th>max</th>\n",
       "      <th>min</th>\n",
       "      <th>median</th>\n",
       "      <th>max</th>\n",
       "    </tr>\n",
       "    <tr>\n",
       "      <th>number</th>\n",
       "      <th></th>\n",
       "      <th></th>\n",
       "      <th></th>\n",
       "      <th></th>\n",
       "      <th></th>\n",
       "      <th></th>\n",
       "      <th></th>\n",
       "      <th></th>\n",
       "      <th></th>\n",
       "      <th></th>\n",
       "      <th></th>\n",
       "      <th></th>\n",
       "    </tr>\n",
       "  </thead>\n",
       "  <tbody>\n",
       "    <tr>\n",
       "      <th>1</th>\n",
       "      <td>0.090706</td>\n",
       "      <td>66.26200</td>\n",
       "      <td>730000.00000</td>\n",
       "      <td>0.00360</td>\n",
       "      <td>1.7900</td>\n",
       "      <td>25.000</td>\n",
       "      <td>1.35</td>\n",
       "      <td>77.820</td>\n",
       "      <td>8500.00</td>\n",
       "      <td>1989</td>\n",
       "      <td>2009</td>\n",
       "      <td>2014</td>\n",
       "    </tr>\n",
       "    <tr>\n",
       "      <th>2</th>\n",
       "      <td>0.240104</td>\n",
       "      <td>42.63180</td>\n",
       "      <td>9017.80000</td>\n",
       "      <td>0.00870</td>\n",
       "      <td>0.9900</td>\n",
       "      <td>21.420</td>\n",
       "      <td>8.82</td>\n",
       "      <td>46.340</td>\n",
       "      <td>4080.00</td>\n",
       "      <td>1998</td>\n",
       "      <td>2011</td>\n",
       "      <td>2014</td>\n",
       "    </tr>\n",
       "    <tr>\n",
       "      <th>3</th>\n",
       "      <td>0.453285</td>\n",
       "      <td>33.94100</td>\n",
       "      <td>14002.00000</td>\n",
       "      <td>0.00755</td>\n",
       "      <td>0.0580</td>\n",
       "      <td>8.060</td>\n",
       "      <td>6.06</td>\n",
       "      <td>30.075</td>\n",
       "      <td>1400.00</td>\n",
       "      <td>1992</td>\n",
       "      <td>2011</td>\n",
       "      <td>2014</td>\n",
       "    </tr>\n",
       "    <tr>\n",
       "      <th>4</th>\n",
       "      <td>1.937780</td>\n",
       "      <td>43.37030</td>\n",
       "      <td>170000.00000</td>\n",
       "      <td>0.00600</td>\n",
       "      <td>0.6876</td>\n",
       "      <td>4.132</td>\n",
       "      <td>4.70</td>\n",
       "      <td>13.470</td>\n",
       "      <td>39.94</td>\n",
       "      <td>1996</td>\n",
       "      <td>2008</td>\n",
       "      <td>2014</td>\n",
       "    </tr>\n",
       "    <tr>\n",
       "      <th>5</th>\n",
       "      <td>0.736540</td>\n",
       "      <td>13.91331</td>\n",
       "      <td>4909.00000</td>\n",
       "      <td>0.16500</td>\n",
       "      <td>0.4860</td>\n",
       "      <td>3.530</td>\n",
       "      <td>12.53</td>\n",
       "      <td>296.500</td>\n",
       "      <td>368.00</td>\n",
       "      <td>1996</td>\n",
       "      <td>2011</td>\n",
       "      <td>2014</td>\n",
       "    </tr>\n",
       "    <tr>\n",
       "      <th>6</th>\n",
       "      <td>4.312300</td>\n",
       "      <td>36.82300</td>\n",
       "      <td>2248.00000</td>\n",
       "      <td>0.00800</td>\n",
       "      <td>0.0194</td>\n",
       "      <td>0.205</td>\n",
       "      <td>6.80</td>\n",
       "      <td>26.110</td>\n",
       "      <td>613.00</td>\n",
       "      <td>2008</td>\n",
       "      <td>2010</td>\n",
       "      <td>2013</td>\n",
       "    </tr>\n",
       "    <tr>\n",
       "      <th>7</th>\n",
       "      <td>7.008151</td>\n",
       "      <td>91.93913</td>\n",
       "      <td>331.60059</td>\n",
       "      <td>NaN</td>\n",
       "      <td>NaN</td>\n",
       "      <td>NaN</td>\n",
       "      <td>780.00</td>\n",
       "      <td>780.000</td>\n",
       "      <td>780.00</td>\n",
       "      <td>2013</td>\n",
       "      <td>2013</td>\n",
       "      <td>2013</td>\n",
       "    </tr>\n",
       "  </tbody>\n",
       "</table>\n",
       "</div>"
      ],
      "text/plain": [
       "       orbital_period                             mass                  \\\n",
       "                  min    median           max      min  median     max   \n",
       "number                                                                   \n",
       "1            0.090706  66.26200  730000.00000  0.00360  1.7900  25.000   \n",
       "2            0.240104  42.63180    9017.80000  0.00870  0.9900  21.420   \n",
       "3            0.453285  33.94100   14002.00000  0.00755  0.0580   8.060   \n",
       "4            1.937780  43.37030  170000.00000  0.00600  0.6876   4.132   \n",
       "5            0.736540  13.91331    4909.00000  0.16500  0.4860   3.530   \n",
       "6            4.312300  36.82300    2248.00000  0.00800  0.0194   0.205   \n",
       "7            7.008151  91.93913     331.60059      NaN     NaN     NaN   \n",
       "\n",
       "       distance                    year               \n",
       "            min   median      max   min median   max  \n",
       "number                                                \n",
       "1          1.35   77.820  8500.00  1989   2009  2014  \n",
       "2          8.82   46.340  4080.00  1998   2011  2014  \n",
       "3          6.06   30.075  1400.00  1992   2011  2014  \n",
       "4          4.70   13.470    39.94  1996   2008  2014  \n",
       "5         12.53  296.500   368.00  1996   2011  2014  \n",
       "6          6.80   26.110   613.00  2008   2010  2013  \n",
       "7        780.00  780.000   780.00  2013   2013  2013  "
      ]
     },
     "execution_count": 42,
     "metadata": {},
     "output_type": "execute_result"
    }
   ],
   "source": [
    "df.groupby(\"number\").aggregate([\"min\",num.median,\"max\"])    ## görmek istediğin özellikleri bu şekilde görebilirsin"
   ]
  },
  {
   "cell_type": "code",
   "execution_count": 45,
   "metadata": {},
   "outputs": [
    {
     "data": {
      "text/html": [
       "<div>\n",
       "<style scoped>\n",
       "    .dataframe tbody tr th:only-of-type {\n",
       "        vertical-align: middle;\n",
       "    }\n",
       "\n",
       "    .dataframe tbody tr th {\n",
       "        vertical-align: top;\n",
       "    }\n",
       "\n",
       "    .dataframe thead th {\n",
       "        text-align: right;\n",
       "    }\n",
       "</style>\n",
       "<table border=\"1\" class=\"dataframe\">\n",
       "  <thead>\n",
       "    <tr style=\"text-align: right;\">\n",
       "      <th></th>\n",
       "      <th>year</th>\n",
       "      <th>distance</th>\n",
       "    </tr>\n",
       "    <tr>\n",
       "      <th>method</th>\n",
       "      <th></th>\n",
       "      <th></th>\n",
       "    </tr>\n",
       "  </thead>\n",
       "  <tbody>\n",
       "    <tr>\n",
       "      <th>Astrometry</th>\n",
       "      <td>2013</td>\n",
       "      <td>20.77</td>\n",
       "    </tr>\n",
       "    <tr>\n",
       "      <th>Eclipse Timing Variations</th>\n",
       "      <td>2012</td>\n",
       "      <td>500.00</td>\n",
       "    </tr>\n",
       "    <tr>\n",
       "      <th>Imaging</th>\n",
       "      <td>2013</td>\n",
       "      <td>165.00</td>\n",
       "    </tr>\n",
       "    <tr>\n",
       "      <th>Microlensing</th>\n",
       "      <td>2013</td>\n",
       "      <td>7720.00</td>\n",
       "    </tr>\n",
       "    <tr>\n",
       "      <th>Orbital Brightness Modulation</th>\n",
       "      <td>2013</td>\n",
       "      <td>1180.00</td>\n",
       "    </tr>\n",
       "    <tr>\n",
       "      <th>Pulsar Timing</th>\n",
       "      <td>2011</td>\n",
       "      <td>1200.00</td>\n",
       "    </tr>\n",
       "    <tr>\n",
       "      <th>Pulsation Timing Variations</th>\n",
       "      <td>2007</td>\n",
       "      <td>NaN</td>\n",
       "    </tr>\n",
       "    <tr>\n",
       "      <th>Radial Velocity</th>\n",
       "      <td>2014</td>\n",
       "      <td>354.00</td>\n",
       "    </tr>\n",
       "    <tr>\n",
       "      <th>Transit</th>\n",
       "      <td>2014</td>\n",
       "      <td>8500.00</td>\n",
       "    </tr>\n",
       "    <tr>\n",
       "      <th>Transit Timing Variations</th>\n",
       "      <td>2014</td>\n",
       "      <td>2119.00</td>\n",
       "    </tr>\n",
       "  </tbody>\n",
       "</table>\n",
       "</div>"
      ],
      "text/plain": [
       "                               year  distance\n",
       "method                                       \n",
       "Astrometry                     2013     20.77\n",
       "Eclipse Timing Variations      2012    500.00\n",
       "Imaging                        2013    165.00\n",
       "Microlensing                   2013   7720.00\n",
       "Orbital Brightness Modulation  2013   1180.00\n",
       "Pulsar Timing                  2011   1200.00\n",
       "Pulsation Timing Variations    2007       NaN\n",
       "Radial Velocity                2014    354.00\n",
       "Transit                        2014   8500.00\n",
       "Transit Timing Variations      2014   2119.00"
      ]
     },
     "execution_count": 45,
     "metadata": {},
     "output_type": "execute_result"
    }
   ],
   "source": [
    "df.groupby(\"method\").aggregate({\"year\": \"max\", \"distance\": \"max\"}) "
   ]
  },
  {
   "cell_type": "code",
   "execution_count": 65,
   "metadata": {},
   "outputs": [
    {
     "data": {
      "text/plain": [
       "<pandas.core.groupby.groupby.DataFrameGroupBy object at 0x0000015F4BF02AC8>"
      ]
     },
     "execution_count": 65,
     "metadata": {},
     "output_type": "execute_result"
    }
   ],
   "source": [
    "b.groupby(\"c1\")"
   ]
  },
  {
   "cell_type": "code",
   "execution_count": 74,
   "metadata": {},
   "outputs": [],
   "source": [
    "def fonks(b):\n",
    "    return b[\"c1\"].std()>0\n"
   ]
  },
  {
   "cell_type": "code",
   "execution_count": 75,
   "metadata": {},
   "outputs": [
    {
     "data": {
      "text/html": [
       "<div>\n",
       "<style scoped>\n",
       "    .dataframe tbody tr th:only-of-type {\n",
       "        vertical-align: middle;\n",
       "    }\n",
       "\n",
       "    .dataframe tbody tr th {\n",
       "        vertical-align: top;\n",
       "    }\n",
       "\n",
       "    .dataframe thead th {\n",
       "        text-align: right;\n",
       "    }\n",
       "</style>\n",
       "<table border=\"1\" class=\"dataframe\">\n",
       "  <thead>\n",
       "    <tr style=\"text-align: right;\">\n",
       "      <th></th>\n",
       "      <th>c1</th>\n",
       "      <th>c2</th>\n",
       "    </tr>\n",
       "  </thead>\n",
       "  <tbody>\n",
       "  </tbody>\n",
       "</table>\n",
       "</div>"
      ],
      "text/plain": [
       "Empty DataFrame\n",
       "Columns: [c1, c2]\n",
       "Index: []"
      ]
     },
     "execution_count": 75,
     "metadata": {},
     "output_type": "execute_result"
    }
   ],
   "source": [
    "b.groupby(\"c1\").filter(fonks)"
   ]
  },
  {
   "cell_type": "code",
   "execution_count": null,
   "metadata": {},
   "outputs": [],
   "source": [
    "b[\"not\"]*3"
   ]
  },
  {
   "cell_type": "code",
   "execution_count": 76,
   "metadata": {},
   "outputs": [
    {
     "data": {
      "text/html": [
       "<div>\n",
       "<style scoped>\n",
       "    .dataframe tbody tr th:only-of-type {\n",
       "        vertical-align: middle;\n",
       "    }\n",
       "\n",
       "    .dataframe tbody tr th {\n",
       "        vertical-align: top;\n",
       "    }\n",
       "\n",
       "    .dataframe thead th {\n",
       "        text-align: right;\n",
       "    }\n",
       "</style>\n",
       "<table border=\"1\" class=\"dataframe\">\n",
       "  <thead>\n",
       "    <tr style=\"text-align: right;\">\n",
       "      <th></th>\n",
       "      <th>first</th>\n",
       "      <th>second</th>\n",
       "      <th>third</th>\n",
       "    </tr>\n",
       "  </thead>\n",
       "  <tbody>\n",
       "    <tr>\n",
       "      <th>0</th>\n",
       "      <td>1</td>\n",
       "      <td>11</td>\n",
       "      <td>12</td>\n",
       "    </tr>\n",
       "    <tr>\n",
       "      <th>1</th>\n",
       "      <td>2</td>\n",
       "      <td>22</td>\n",
       "      <td>3</td>\n",
       "    </tr>\n",
       "    <tr>\n",
       "      <th>2</th>\n",
       "      <td>3</td>\n",
       "      <td>33</td>\n",
       "      <td>57</td>\n",
       "    </tr>\n",
       "    <tr>\n",
       "      <th>3</th>\n",
       "      <td>4</td>\n",
       "      <td>44</td>\n",
       "      <td>65</td>\n",
       "    </tr>\n",
       "    <tr>\n",
       "      <th>4</th>\n",
       "      <td>5</td>\n",
       "      <td>55</td>\n",
       "      <td>25</td>\n",
       "    </tr>\n",
       "    <tr>\n",
       "      <th>5</th>\n",
       "      <td>6</td>\n",
       "      <td>66</td>\n",
       "      <td>76</td>\n",
       "    </tr>\n",
       "    <tr>\n",
       "      <th>6</th>\n",
       "      <td>7</td>\n",
       "      <td>77</td>\n",
       "      <td>91</td>\n",
       "    </tr>\n",
       "    <tr>\n",
       "      <th>7</th>\n",
       "      <td>1</td>\n",
       "      <td>3</td>\n",
       "      <td>12</td>\n",
       "    </tr>\n",
       "    <tr>\n",
       "      <th>8</th>\n",
       "      <td>2</td>\n",
       "      <td>5</td>\n",
       "      <td>45</td>\n",
       "    </tr>\n",
       "    <tr>\n",
       "      <th>9</th>\n",
       "      <td>3</td>\n",
       "      <td>64</td>\n",
       "      <td>74</td>\n",
       "    </tr>\n",
       "    <tr>\n",
       "      <th>10</th>\n",
       "      <td>4</td>\n",
       "      <td>3</td>\n",
       "      <td>23</td>\n",
       "    </tr>\n",
       "    <tr>\n",
       "      <th>11</th>\n",
       "      <td>5</td>\n",
       "      <td>1</td>\n",
       "      <td>65</td>\n",
       "    </tr>\n",
       "    <tr>\n",
       "      <th>12</th>\n",
       "      <td>6</td>\n",
       "      <td>67</td>\n",
       "      <td>43</td>\n",
       "    </tr>\n",
       "    <tr>\n",
       "      <th>13</th>\n",
       "      <td>7</td>\n",
       "      <td>86</td>\n",
       "      <td>12</td>\n",
       "    </tr>\n",
       "  </tbody>\n",
       "</table>\n",
       "</div>"
      ],
      "text/plain": [
       "    first  second  third\n",
       "0       1      11     12\n",
       "1       2      22      3\n",
       "2       3      33     57\n",
       "3       4      44     65\n",
       "4       5      55     25\n",
       "5       6      66     76\n",
       "6       7      77     91\n",
       "7       1       3     12\n",
       "8       2       5     45\n",
       "9       3      64     74\n",
       "10      4       3     23\n",
       "11      5       1     65\n",
       "12      6      67     43\n",
       "13      7      86     12"
      ]
     },
     "execution_count": 76,
     "metadata": {},
     "output_type": "execute_result"
    }
   ],
   "source": [
    "x=pd.DataFrame({\"first\": [1,2,3,4,5,6,7,1,2,3,4,5,6,7] ,\n",
    "                \"second\":[11,22,33,44,55,66,77,3,5,64,3,1,67,86], \n",
    "                \"third\": [12,3,57,65,25,76,91,12,45,74,23,65,43,12]} ,columns=[\"first\",\"second\",\"third\"])\n",
    "x"
   ]
  },
  {
   "cell_type": "code",
   "execution_count": 77,
   "metadata": {},
   "outputs": [
    {
     "data": {
      "text/plain": [
       "<pandas.core.groupby.groupby.DataFrameGroupBy object at 0x0000015F4BF02160>"
      ]
     },
     "execution_count": 77,
     "metadata": {},
     "output_type": "execute_result"
    }
   ],
   "source": [
    "x.groupby(\"first\")"
   ]
  },
  {
   "cell_type": "code",
   "execution_count": 78,
   "metadata": {},
   "outputs": [
    {
     "data": {
      "text/html": [
       "<div>\n",
       "<style scoped>\n",
       "    .dataframe tbody tr th:only-of-type {\n",
       "        vertical-align: middle;\n",
       "    }\n",
       "\n",
       "    .dataframe tbody tr th {\n",
       "        vertical-align: top;\n",
       "    }\n",
       "\n",
       "    .dataframe thead th {\n",
       "        text-align: right;\n",
       "    }\n",
       "</style>\n",
       "<table border=\"1\" class=\"dataframe\">\n",
       "  <thead>\n",
       "    <tr style=\"text-align: right;\">\n",
       "      <th></th>\n",
       "      <th>second</th>\n",
       "      <th>third</th>\n",
       "    </tr>\n",
       "    <tr>\n",
       "      <th>first</th>\n",
       "      <th></th>\n",
       "      <th></th>\n",
       "    </tr>\n",
       "  </thead>\n",
       "  <tbody>\n",
       "    <tr>\n",
       "      <th>1</th>\n",
       "      <td>14</td>\n",
       "      <td>24</td>\n",
       "    </tr>\n",
       "    <tr>\n",
       "      <th>2</th>\n",
       "      <td>27</td>\n",
       "      <td>48</td>\n",
       "    </tr>\n",
       "    <tr>\n",
       "      <th>3</th>\n",
       "      <td>97</td>\n",
       "      <td>131</td>\n",
       "    </tr>\n",
       "    <tr>\n",
       "      <th>4</th>\n",
       "      <td>47</td>\n",
       "      <td>88</td>\n",
       "    </tr>\n",
       "    <tr>\n",
       "      <th>5</th>\n",
       "      <td>56</td>\n",
       "      <td>90</td>\n",
       "    </tr>\n",
       "    <tr>\n",
       "      <th>6</th>\n",
       "      <td>133</td>\n",
       "      <td>119</td>\n",
       "    </tr>\n",
       "    <tr>\n",
       "      <th>7</th>\n",
       "      <td>163</td>\n",
       "      <td>103</td>\n",
       "    </tr>\n",
       "  </tbody>\n",
       "</table>\n",
       "</div>"
      ],
      "text/plain": [
       "       second  third\n",
       "first               \n",
       "1          14     24\n",
       "2          27     48\n",
       "3          97    131\n",
       "4          47     88\n",
       "5          56     90\n",
       "6         133    119\n",
       "7         163    103"
      ]
     },
     "execution_count": 78,
     "metadata": {},
     "output_type": "execute_result"
    }
   ],
   "source": [
    "x.groupby(\"first\",).sum()"
   ]
  },
  {
   "cell_type": "code",
   "execution_count": 79,
   "metadata": {},
   "outputs": [
    {
     "data": {
      "text/plain": [
       "0      66\n",
       "1     132\n",
       "2     198\n",
       "3     264\n",
       "4     330\n",
       "5     396\n",
       "6     462\n",
       "7      18\n",
       "8      30\n",
       "9     384\n",
       "10     18\n",
       "11      6\n",
       "12    402\n",
       "13    516\n",
       "Name: second, dtype: int64"
      ]
     },
     "execution_count": 79,
     "metadata": {},
     "output_type": "execute_result"
    }
   ],
   "source": [
    "x[\"second\"]*6"
   ]
  },
  {
   "cell_type": "code",
   "execution_count": 80,
   "metadata": {},
   "outputs": [
    {
     "data": {
      "text/html": [
       "<div>\n",
       "<style scoped>\n",
       "    .dataframe tbody tr th:only-of-type {\n",
       "        vertical-align: middle;\n",
       "    }\n",
       "\n",
       "    .dataframe tbody tr th {\n",
       "        vertical-align: top;\n",
       "    }\n",
       "\n",
       "    .dataframe thead th {\n",
       "        text-align: right;\n",
       "    }\n",
       "</style>\n",
       "<table border=\"1\" class=\"dataframe\">\n",
       "  <thead>\n",
       "    <tr style=\"text-align: right;\">\n",
       "      <th></th>\n",
       "      <th>first</th>\n",
       "      <th>second</th>\n",
       "      <th>third</th>\n",
       "    </tr>\n",
       "  </thead>\n",
       "  <tbody>\n",
       "    <tr>\n",
       "      <th>0</th>\n",
       "      <td>1</td>\n",
       "      <td>11</td>\n",
       "      <td>12</td>\n",
       "    </tr>\n",
       "    <tr>\n",
       "      <th>1</th>\n",
       "      <td>2</td>\n",
       "      <td>22</td>\n",
       "      <td>3</td>\n",
       "    </tr>\n",
       "    <tr>\n",
       "      <th>2</th>\n",
       "      <td>3</td>\n",
       "      <td>33</td>\n",
       "      <td>57</td>\n",
       "    </tr>\n",
       "    <tr>\n",
       "      <th>3</th>\n",
       "      <td>4</td>\n",
       "      <td>44</td>\n",
       "      <td>65</td>\n",
       "    </tr>\n",
       "    <tr>\n",
       "      <th>4</th>\n",
       "      <td>5</td>\n",
       "      <td>55</td>\n",
       "      <td>25</td>\n",
       "    </tr>\n",
       "    <tr>\n",
       "      <th>5</th>\n",
       "      <td>6</td>\n",
       "      <td>66</td>\n",
       "      <td>76</td>\n",
       "    </tr>\n",
       "    <tr>\n",
       "      <th>6</th>\n",
       "      <td>7</td>\n",
       "      <td>77</td>\n",
       "      <td>91</td>\n",
       "    </tr>\n",
       "    <tr>\n",
       "      <th>7</th>\n",
       "      <td>1</td>\n",
       "      <td>3</td>\n",
       "      <td>12</td>\n",
       "    </tr>\n",
       "    <tr>\n",
       "      <th>8</th>\n",
       "      <td>2</td>\n",
       "      <td>5</td>\n",
       "      <td>45</td>\n",
       "    </tr>\n",
       "    <tr>\n",
       "      <th>9</th>\n",
       "      <td>3</td>\n",
       "      <td>64</td>\n",
       "      <td>74</td>\n",
       "    </tr>\n",
       "    <tr>\n",
       "      <th>10</th>\n",
       "      <td>4</td>\n",
       "      <td>3</td>\n",
       "      <td>23</td>\n",
       "    </tr>\n",
       "    <tr>\n",
       "      <th>11</th>\n",
       "      <td>5</td>\n",
       "      <td>1</td>\n",
       "      <td>65</td>\n",
       "    </tr>\n",
       "    <tr>\n",
       "      <th>12</th>\n",
       "      <td>6</td>\n",
       "      <td>67</td>\n",
       "      <td>43</td>\n",
       "    </tr>\n",
       "    <tr>\n",
       "      <th>13</th>\n",
       "      <td>7</td>\n",
       "      <td>86</td>\n",
       "      <td>12</td>\n",
       "    </tr>\n",
       "  </tbody>\n",
       "</table>\n",
       "</div>"
      ],
      "text/plain": [
       "    first  second  third\n",
       "0       1      11     12\n",
       "1       2      22      3\n",
       "2       3      33     57\n",
       "3       4      44     65\n",
       "4       5      55     25\n",
       "5       6      66     76\n",
       "6       7      77     91\n",
       "7       1       3     12\n",
       "8       2       5     45\n",
       "9       3      64     74\n",
       "10      4       3     23\n",
       "11      5       1     65\n",
       "12      6      67     43\n",
       "13      7      86     12"
      ]
     },
     "execution_count": 80,
     "metadata": {},
     "output_type": "execute_result"
    }
   ],
   "source": [
    "pd.DataFrame(x)\n"
   ]
  },
  {
   "cell_type": "code",
   "execution_count": 81,
   "metadata": {},
   "outputs": [
    {
     "data": {
      "text/html": [
       "<div>\n",
       "<style scoped>\n",
       "    .dataframe tbody tr th:only-of-type {\n",
       "        vertical-align: middle;\n",
       "    }\n",
       "\n",
       "    .dataframe tbody tr th {\n",
       "        vertical-align: top;\n",
       "    }\n",
       "\n",
       "    .dataframe thead th {\n",
       "        text-align: right;\n",
       "    }\n",
       "</style>\n",
       "<table border=\"1\" class=\"dataframe\">\n",
       "  <thead>\n",
       "    <tr style=\"text-align: right;\">\n",
       "      <th></th>\n",
       "      <th>first</th>\n",
       "      <th>second</th>\n",
       "    </tr>\n",
       "  </thead>\n",
       "  <tbody>\n",
       "    <tr>\n",
       "      <th>0</th>\n",
       "      <td>1</td>\n",
       "      <td>11</td>\n",
       "    </tr>\n",
       "    <tr>\n",
       "      <th>1</th>\n",
       "      <td>2</td>\n",
       "      <td>22</td>\n",
       "    </tr>\n",
       "    <tr>\n",
       "      <th>2</th>\n",
       "      <td>3</td>\n",
       "      <td>33</td>\n",
       "    </tr>\n",
       "    <tr>\n",
       "      <th>3</th>\n",
       "      <td>4</td>\n",
       "      <td>44</td>\n",
       "    </tr>\n",
       "    <tr>\n",
       "      <th>4</th>\n",
       "      <td>5</td>\n",
       "      <td>55</td>\n",
       "    </tr>\n",
       "    <tr>\n",
       "      <th>5</th>\n",
       "      <td>6</td>\n",
       "      <td>66</td>\n",
       "    </tr>\n",
       "    <tr>\n",
       "      <th>6</th>\n",
       "      <td>7</td>\n",
       "      <td>77</td>\n",
       "    </tr>\n",
       "    <tr>\n",
       "      <th>7</th>\n",
       "      <td>1</td>\n",
       "      <td>3</td>\n",
       "    </tr>\n",
       "    <tr>\n",
       "      <th>8</th>\n",
       "      <td>2</td>\n",
       "      <td>5</td>\n",
       "    </tr>\n",
       "    <tr>\n",
       "      <th>9</th>\n",
       "      <td>3</td>\n",
       "      <td>64</td>\n",
       "    </tr>\n",
       "    <tr>\n",
       "      <th>10</th>\n",
       "      <td>4</td>\n",
       "      <td>3</td>\n",
       "    </tr>\n",
       "    <tr>\n",
       "      <th>11</th>\n",
       "      <td>5</td>\n",
       "      <td>1</td>\n",
       "    </tr>\n",
       "    <tr>\n",
       "      <th>12</th>\n",
       "      <td>6</td>\n",
       "      <td>67</td>\n",
       "    </tr>\n",
       "    <tr>\n",
       "      <th>13</th>\n",
       "      <td>7</td>\n",
       "      <td>86</td>\n",
       "    </tr>\n",
       "  </tbody>\n",
       "</table>\n",
       "</div>"
      ],
      "text/plain": [
       "    first  second\n",
       "0       1      11\n",
       "1       2      22\n",
       "2       3      33\n",
       "3       4      44\n",
       "4       5      55\n",
       "5       6      66\n",
       "6       7      77\n",
       "7       1       3\n",
       "8       2       5\n",
       "9       3      64\n",
       "10      4       3\n",
       "11      5       1\n",
       "12      6      67\n",
       "13      7      86"
      ]
     },
     "execution_count": 81,
     "metadata": {},
     "output_type": "execute_result"
    }
   ],
   "source": [
    "b=x.iloc[:,:2]\n",
    "b"
   ]
  },
  {
   "cell_type": "code",
   "execution_count": 82,
   "metadata": {},
   "outputs": [
    {
     "data": {
      "text/html": [
       "<div>\n",
       "<style scoped>\n",
       "    .dataframe tbody tr th:only-of-type {\n",
       "        vertical-align: middle;\n",
       "    }\n",
       "\n",
       "    .dataframe tbody tr th {\n",
       "        vertical-align: top;\n",
       "    }\n",
       "\n",
       "    .dataframe thead th {\n",
       "        text-align: right;\n",
       "    }\n",
       "</style>\n",
       "<table border=\"1\" class=\"dataframe\">\n",
       "  <thead>\n",
       "    <tr style=\"text-align: right;\">\n",
       "      <th></th>\n",
       "      <th>first</th>\n",
       "      <th>second</th>\n",
       "    </tr>\n",
       "  </thead>\n",
       "  <tbody>\n",
       "    <tr>\n",
       "      <th>0</th>\n",
       "      <td>-3.0</td>\n",
       "      <td>-27.357143</td>\n",
       "    </tr>\n",
       "    <tr>\n",
       "      <th>1</th>\n",
       "      <td>-2.0</td>\n",
       "      <td>-16.357143</td>\n",
       "    </tr>\n",
       "    <tr>\n",
       "      <th>2</th>\n",
       "      <td>-1.0</td>\n",
       "      <td>-5.357143</td>\n",
       "    </tr>\n",
       "    <tr>\n",
       "      <th>3</th>\n",
       "      <td>0.0</td>\n",
       "      <td>5.642857</td>\n",
       "    </tr>\n",
       "    <tr>\n",
       "      <th>4</th>\n",
       "      <td>1.0</td>\n",
       "      <td>16.642857</td>\n",
       "    </tr>\n",
       "    <tr>\n",
       "      <th>5</th>\n",
       "      <td>2.0</td>\n",
       "      <td>27.642857</td>\n",
       "    </tr>\n",
       "    <tr>\n",
       "      <th>6</th>\n",
       "      <td>3.0</td>\n",
       "      <td>38.642857</td>\n",
       "    </tr>\n",
       "    <tr>\n",
       "      <th>7</th>\n",
       "      <td>-3.0</td>\n",
       "      <td>-35.357143</td>\n",
       "    </tr>\n",
       "    <tr>\n",
       "      <th>8</th>\n",
       "      <td>-2.0</td>\n",
       "      <td>-33.357143</td>\n",
       "    </tr>\n",
       "    <tr>\n",
       "      <th>9</th>\n",
       "      <td>-1.0</td>\n",
       "      <td>25.642857</td>\n",
       "    </tr>\n",
       "    <tr>\n",
       "      <th>10</th>\n",
       "      <td>0.0</td>\n",
       "      <td>-35.357143</td>\n",
       "    </tr>\n",
       "    <tr>\n",
       "      <th>11</th>\n",
       "      <td>1.0</td>\n",
       "      <td>-37.357143</td>\n",
       "    </tr>\n",
       "    <tr>\n",
       "      <th>12</th>\n",
       "      <td>2.0</td>\n",
       "      <td>28.642857</td>\n",
       "    </tr>\n",
       "    <tr>\n",
       "      <th>13</th>\n",
       "      <td>3.0</td>\n",
       "      <td>47.642857</td>\n",
       "    </tr>\n",
       "  </tbody>\n",
       "</table>\n",
       "</div>"
      ],
      "text/plain": [
       "    first     second\n",
       "0    -3.0 -27.357143\n",
       "1    -2.0 -16.357143\n",
       "2    -1.0  -5.357143\n",
       "3     0.0   5.642857\n",
       "4     1.0  16.642857\n",
       "5     2.0  27.642857\n",
       "6     3.0  38.642857\n",
       "7    -3.0 -35.357143\n",
       "8    -2.0 -33.357143\n",
       "9    -1.0  25.642857\n",
       "10    0.0 -35.357143\n",
       "11    1.0 -37.357143\n",
       "12    2.0  28.642857\n",
       "13    3.0  47.642857"
      ]
     },
     "execution_count": 82,
     "metadata": {},
     "output_type": "execute_result"
    }
   ],
   "source": [
    "b.transform(lambda x:x-x.mean() )          ##sayıdan aritmetik ort çıkarıp yazdı"
   ]
  },
  {
   "cell_type": "code",
   "execution_count": 83,
   "metadata": {},
   "outputs": [
    {
     "data": {
      "text/plain": [
       "first      56\n",
       "second    537\n",
       "third     603\n",
       "dtype: int64"
      ]
     },
     "execution_count": 83,
     "metadata": {},
     "output_type": "execute_result"
    }
   ],
   "source": [
    "x.apply(num.sum)    ## satır toplamlarını yazdı"
   ]
  },
  {
   "cell_type": "code",
   "execution_count": 84,
   "metadata": {},
   "outputs": [
    {
     "data": {
      "text/html": [
       "<div>\n",
       "<style scoped>\n",
       "    .dataframe tbody tr th:only-of-type {\n",
       "        vertical-align: middle;\n",
       "    }\n",
       "\n",
       "    .dataframe tbody tr th {\n",
       "        vertical-align: top;\n",
       "    }\n",
       "\n",
       "    .dataframe thead th {\n",
       "        text-align: right;\n",
       "    }\n",
       "</style>\n",
       "<table border=\"1\" class=\"dataframe\">\n",
       "  <thead>\n",
       "    <tr style=\"text-align: right;\">\n",
       "      <th></th>\n",
       "      <th>first</th>\n",
       "      <th>second</th>\n",
       "      <th>third</th>\n",
       "    </tr>\n",
       "    <tr>\n",
       "      <th>first</th>\n",
       "      <th></th>\n",
       "      <th></th>\n",
       "      <th></th>\n",
       "    </tr>\n",
       "  </thead>\n",
       "  <tbody>\n",
       "    <tr>\n",
       "      <th>1</th>\n",
       "      <td>2</td>\n",
       "      <td>14</td>\n",
       "      <td>24</td>\n",
       "    </tr>\n",
       "    <tr>\n",
       "      <th>2</th>\n",
       "      <td>4</td>\n",
       "      <td>27</td>\n",
       "      <td>48</td>\n",
       "    </tr>\n",
       "    <tr>\n",
       "      <th>3</th>\n",
       "      <td>6</td>\n",
       "      <td>97</td>\n",
       "      <td>131</td>\n",
       "    </tr>\n",
       "    <tr>\n",
       "      <th>4</th>\n",
       "      <td>8</td>\n",
       "      <td>47</td>\n",
       "      <td>88</td>\n",
       "    </tr>\n",
       "    <tr>\n",
       "      <th>5</th>\n",
       "      <td>10</td>\n",
       "      <td>56</td>\n",
       "      <td>90</td>\n",
       "    </tr>\n",
       "    <tr>\n",
       "      <th>6</th>\n",
       "      <td>12</td>\n",
       "      <td>133</td>\n",
       "      <td>119</td>\n",
       "    </tr>\n",
       "    <tr>\n",
       "      <th>7</th>\n",
       "      <td>14</td>\n",
       "      <td>163</td>\n",
       "      <td>103</td>\n",
       "    </tr>\n",
       "  </tbody>\n",
       "</table>\n",
       "</div>"
      ],
      "text/plain": [
       "       first  second  third\n",
       "first                      \n",
       "1          2      14     24\n",
       "2          4      27     48\n",
       "3          6      97    131\n",
       "4          8      47     88\n",
       "5         10      56     90\n",
       "6         12     133    119\n",
       "7         14     163    103"
      ]
     },
     "execution_count": 84,
     "metadata": {},
     "output_type": "execute_result"
    }
   ],
   "source": [
    "x.groupby(\"first\").apply(num.sum)   ##grupları kendi içinde birştirip topadı"
   ]
  },
  {
   "cell_type": "code",
   "execution_count": 86,
   "metadata": {},
   "outputs": [
    {
     "data": {
      "text/plain": [
       "7"
      ]
     },
     "execution_count": 86,
     "metadata": {},
     "output_type": "execute_result"
    }
   ],
   "source": [
    "x[\"first\"].max() + x[\"second\"].min()"
   ]
  },
  {
   "cell_type": "code",
   "execution_count": 87,
   "metadata": {},
   "outputs": [
    {
     "data": {
      "text/html": [
       "<div>\n",
       "<style scoped>\n",
       "    .dataframe tbody tr th:only-of-type {\n",
       "        vertical-align: middle;\n",
       "    }\n",
       "\n",
       "    .dataframe tbody tr th {\n",
       "        vertical-align: top;\n",
       "    }\n",
       "\n",
       "    .dataframe thead th {\n",
       "        text-align: right;\n",
       "    }\n",
       "</style>\n",
       "<table border=\"1\" class=\"dataframe\">\n",
       "  <thead>\n",
       "    <tr style=\"text-align: right;\">\n",
       "      <th></th>\n",
       "      <th>survived</th>\n",
       "      <th>pclass</th>\n",
       "      <th>sex</th>\n",
       "      <th>age</th>\n",
       "      <th>sibsp</th>\n",
       "      <th>parch</th>\n",
       "      <th>fare</th>\n",
       "      <th>embarked</th>\n",
       "      <th>class</th>\n",
       "      <th>who</th>\n",
       "      <th>adult_male</th>\n",
       "      <th>deck</th>\n",
       "      <th>embark_town</th>\n",
       "      <th>alive</th>\n",
       "      <th>alone</th>\n",
       "    </tr>\n",
       "  </thead>\n",
       "  <tbody>\n",
       "    <tr>\n",
       "      <th>0</th>\n",
       "      <td>0</td>\n",
       "      <td>3</td>\n",
       "      <td>male</td>\n",
       "      <td>22.0</td>\n",
       "      <td>1</td>\n",
       "      <td>0</td>\n",
       "      <td>7.2500</td>\n",
       "      <td>S</td>\n",
       "      <td>Third</td>\n",
       "      <td>man</td>\n",
       "      <td>True</td>\n",
       "      <td>NaN</td>\n",
       "      <td>Southampton</td>\n",
       "      <td>no</td>\n",
       "      <td>False</td>\n",
       "    </tr>\n",
       "    <tr>\n",
       "      <th>1</th>\n",
       "      <td>1</td>\n",
       "      <td>1</td>\n",
       "      <td>female</td>\n",
       "      <td>38.0</td>\n",
       "      <td>1</td>\n",
       "      <td>0</td>\n",
       "      <td>71.2833</td>\n",
       "      <td>C</td>\n",
       "      <td>First</td>\n",
       "      <td>woman</td>\n",
       "      <td>False</td>\n",
       "      <td>C</td>\n",
       "      <td>Cherbourg</td>\n",
       "      <td>yes</td>\n",
       "      <td>False</td>\n",
       "    </tr>\n",
       "    <tr>\n",
       "      <th>2</th>\n",
       "      <td>1</td>\n",
       "      <td>3</td>\n",
       "      <td>female</td>\n",
       "      <td>26.0</td>\n",
       "      <td>0</td>\n",
       "      <td>0</td>\n",
       "      <td>7.9250</td>\n",
       "      <td>S</td>\n",
       "      <td>Third</td>\n",
       "      <td>woman</td>\n",
       "      <td>False</td>\n",
       "      <td>NaN</td>\n",
       "      <td>Southampton</td>\n",
       "      <td>yes</td>\n",
       "      <td>True</td>\n",
       "    </tr>\n",
       "    <tr>\n",
       "      <th>3</th>\n",
       "      <td>1</td>\n",
       "      <td>1</td>\n",
       "      <td>female</td>\n",
       "      <td>35.0</td>\n",
       "      <td>1</td>\n",
       "      <td>0</td>\n",
       "      <td>53.1000</td>\n",
       "      <td>S</td>\n",
       "      <td>First</td>\n",
       "      <td>woman</td>\n",
       "      <td>False</td>\n",
       "      <td>C</td>\n",
       "      <td>Southampton</td>\n",
       "      <td>yes</td>\n",
       "      <td>False</td>\n",
       "    </tr>\n",
       "    <tr>\n",
       "      <th>4</th>\n",
       "      <td>0</td>\n",
       "      <td>3</td>\n",
       "      <td>male</td>\n",
       "      <td>35.0</td>\n",
       "      <td>0</td>\n",
       "      <td>0</td>\n",
       "      <td>8.0500</td>\n",
       "      <td>S</td>\n",
       "      <td>Third</td>\n",
       "      <td>man</td>\n",
       "      <td>True</td>\n",
       "      <td>NaN</td>\n",
       "      <td>Southampton</td>\n",
       "      <td>no</td>\n",
       "      <td>True</td>\n",
       "    </tr>\n",
       "    <tr>\n",
       "      <th>5</th>\n",
       "      <td>0</td>\n",
       "      <td>3</td>\n",
       "      <td>male</td>\n",
       "      <td>NaN</td>\n",
       "      <td>0</td>\n",
       "      <td>0</td>\n",
       "      <td>8.4583</td>\n",
       "      <td>Q</td>\n",
       "      <td>Third</td>\n",
       "      <td>man</td>\n",
       "      <td>True</td>\n",
       "      <td>NaN</td>\n",
       "      <td>Queenstown</td>\n",
       "      <td>no</td>\n",
       "      <td>True</td>\n",
       "    </tr>\n",
       "  </tbody>\n",
       "</table>\n",
       "</div>"
      ],
      "text/plain": [
       "   survived  pclass     sex   age  sibsp  parch     fare embarked  class  \\\n",
       "0         0       3    male  22.0      1      0   7.2500        S  Third   \n",
       "1         1       1  female  38.0      1      0  71.2833        C  First   \n",
       "2         1       3  female  26.0      0      0   7.9250        S  Third   \n",
       "3         1       1  female  35.0      1      0  53.1000        S  First   \n",
       "4         0       3    male  35.0      0      0   8.0500        S  Third   \n",
       "5         0       3    male   NaN      0      0   8.4583        Q  Third   \n",
       "\n",
       "     who  adult_male deck  embark_town alive  alone  \n",
       "0    man        True  NaN  Southampton    no  False  \n",
       "1  woman       False    C    Cherbourg   yes  False  \n",
       "2  woman       False  NaN  Southampton   yes   True  \n",
       "3  woman       False    C  Southampton   yes  False  \n",
       "4    man        True  NaN  Southampton    no   True  \n",
       "5    man        True  NaN   Queenstown    no   True  "
      ]
     },
     "execution_count": 87,
     "metadata": {},
     "output_type": "execute_result"
    }
   ],
   "source": [
    "import seaborn as sns\n",
    "titanic = sns.load_dataset(\"titanic\")\n",
    "titanic.head(6)"
   ]
  },
  {
   "cell_type": "code",
   "execution_count": 104,
   "metadata": {},
   "outputs": [
    {
     "data": {
      "text/html": [
       "<div>\n",
       "<style scoped>\n",
       "    .dataframe tbody tr th:only-of-type {\n",
       "        vertical-align: middle;\n",
       "    }\n",
       "\n",
       "    .dataframe tbody tr th {\n",
       "        vertical-align: top;\n",
       "    }\n",
       "\n",
       "    .dataframe thead th {\n",
       "        text-align: right;\n",
       "    }\n",
       "</style>\n",
       "<table border=\"1\" class=\"dataframe\">\n",
       "  <thead>\n",
       "    <tr style=\"text-align: right;\">\n",
       "      <th>sex</th>\n",
       "      <th>female</th>\n",
       "      <th>male</th>\n",
       "    </tr>\n",
       "    <tr>\n",
       "      <th>class</th>\n",
       "      <th></th>\n",
       "      <th></th>\n",
       "    </tr>\n",
       "  </thead>\n",
       "  <tbody>\n",
       "    <tr>\n",
       "      <th>First</th>\n",
       "      <td>0.968085</td>\n",
       "      <td>0.368852</td>\n",
       "    </tr>\n",
       "    <tr>\n",
       "      <th>Second</th>\n",
       "      <td>0.921053</td>\n",
       "      <td>0.157407</td>\n",
       "    </tr>\n",
       "    <tr>\n",
       "      <th>Third</th>\n",
       "      <td>0.500000</td>\n",
       "      <td>0.135447</td>\n",
       "    </tr>\n",
       "  </tbody>\n",
       "</table>\n",
       "</div>"
      ],
      "text/plain": [
       "sex       female      male\n",
       "class                     \n",
       "First   0.968085  0.368852\n",
       "Second  0.921053  0.157407\n",
       "Third   0.500000  0.135447"
      ]
     },
     "execution_count": 104,
     "metadata": {},
     "output_type": "execute_result"
    }
   ],
   "source": [
    "titanic.groupby([\"class\",\"sex\"])[\"survived\"].aggregate(\"mean\").unstack() \n"
   ]
  },
  {
   "cell_type": "code",
   "execution_count": 105,
   "metadata": {},
   "outputs": [
    {
     "data": {
      "text/plain": [
       "class\n",
       "First     0.629630\n",
       "Second    0.472826\n",
       "Third     0.242363\n",
       "Name: survived, dtype: float64"
      ]
     },
     "execution_count": 105,
     "metadata": {},
     "output_type": "execute_result"
    }
   ],
   "source": [
    "titanic.groupby(\"class\")[\"survived\"].mean()\n"
   ]
  },
  {
   "cell_type": "code",
   "execution_count": 144,
   "metadata": {},
   "outputs": [
    {
     "data": {
      "text/html": [
       "<div>\n",
       "<style scoped>\n",
       "    .dataframe tbody tr th:only-of-type {\n",
       "        vertical-align: middle;\n",
       "    }\n",
       "\n",
       "    .dataframe tbody tr th {\n",
       "        vertical-align: top;\n",
       "    }\n",
       "\n",
       "    .dataframe thead th {\n",
       "        text-align: right;\n",
       "    }\n",
       "</style>\n",
       "<table border=\"1\" class=\"dataframe\">\n",
       "  <thead>\n",
       "    <tr style=\"text-align: right;\">\n",
       "      <th></th>\n",
       "      <th>İlan Tarihi</th>\n",
       "      <th>Marka</th>\n",
       "      <th>Arac Tip Grubu</th>\n",
       "      <th>Arac Tip</th>\n",
       "      <th>Model Yıl</th>\n",
       "      <th>Yakıt Turu</th>\n",
       "      <th>Vites</th>\n",
       "      <th>CCM</th>\n",
       "      <th>Beygir Gucu</th>\n",
       "      <th>Renk</th>\n",
       "      <th>Kasa Tipi</th>\n",
       "      <th>Kimden</th>\n",
       "      <th>Durum</th>\n",
       "      <th>Km</th>\n",
       "      <th>Fiyat</th>\n",
       "    </tr>\n",
       "  </thead>\n",
       "  <tbody>\n",
       "    <tr>\n",
       "      <th>0</th>\n",
       "      <td>27/05/2020</td>\n",
       "      <td>Jaguar</td>\n",
       "      <td>XF</td>\n",
       "      <td>2.0 D Prestige Plus</td>\n",
       "      <td>2017.0</td>\n",
       "      <td>Dizel</td>\n",
       "      <td>Otomatik Vites</td>\n",
       "      <td>1801-2000 cc</td>\n",
       "      <td>176-200 BG</td>\n",
       "      <td>Lacivert</td>\n",
       "      <td>Hatchback 5 Kapı</td>\n",
       "      <td>Galeriden</td>\n",
       "      <td>2. El</td>\n",
       "      <td>26100</td>\n",
       "      <td>634500</td>\n",
       "    </tr>\n",
       "    <tr>\n",
       "      <th>1</th>\n",
       "      <td>16/06/2020</td>\n",
       "      <td>Acura</td>\n",
       "      <td>CL</td>\n",
       "      <td>-</td>\n",
       "      <td>2015.0</td>\n",
       "      <td>Dizel</td>\n",
       "      <td>Yarı Otomatik Vites</td>\n",
       "      <td>1301-1600 cc</td>\n",
       "      <td>101-125 BG</td>\n",
       "      <td>Mavi</td>\n",
       "      <td>Sedan</td>\n",
       "      <td>Sahibinden</td>\n",
       "      <td>2. El</td>\n",
       "      <td>127000</td>\n",
       "      <td>151500</td>\n",
       "    </tr>\n",
       "    <tr>\n",
       "      <th>2</th>\n",
       "      <td>14/06/2020</td>\n",
       "      <td>Acura</td>\n",
       "      <td>CL</td>\n",
       "      <td>2.2</td>\n",
       "      <td>1994.0</td>\n",
       "      <td>Benzin/LPG</td>\n",
       "      <td>Düz Vites</td>\n",
       "      <td>1301-1600 cc</td>\n",
       "      <td>101-125 BG</td>\n",
       "      <td>Turkuaz</td>\n",
       "      <td>Sedan</td>\n",
       "      <td>Sahibinden</td>\n",
       "      <td>2. El</td>\n",
       "      <td>175000</td>\n",
       "      <td>19750</td>\n",
       "    </tr>\n",
       "    <tr>\n",
       "      <th>3</th>\n",
       "      <td>11/06/2020</td>\n",
       "      <td>Acura</td>\n",
       "      <td>CL</td>\n",
       "      <td>-</td>\n",
       "      <td>2013.0</td>\n",
       "      <td>Dizel</td>\n",
       "      <td>Düz Vites</td>\n",
       "      <td>1301-1600 cc</td>\n",
       "      <td>76-100 BG</td>\n",
       "      <td>Kahverengi</td>\n",
       "      <td>Sedan</td>\n",
       "      <td>Sahibinden</td>\n",
       "      <td>2. El</td>\n",
       "      <td>325</td>\n",
       "      <td>52000</td>\n",
       "    </tr>\n",
       "    <tr>\n",
       "      <th>4</th>\n",
       "      <td>11/06/2020</td>\n",
       "      <td>Acura</td>\n",
       "      <td>CL</td>\n",
       "      <td>2.2</td>\n",
       "      <td>2010.0</td>\n",
       "      <td>Dizel</td>\n",
       "      <td>Otomatik Vites</td>\n",
       "      <td>1801-2000 cc</td>\n",
       "      <td>151-175 BG</td>\n",
       "      <td>Beyaz</td>\n",
       "      <td>Sedan</td>\n",
       "      <td>Sahibinden</td>\n",
       "      <td>2. El</td>\n",
       "      <td>207000</td>\n",
       "      <td>148750</td>\n",
       "    </tr>\n",
       "    <tr>\n",
       "      <th>5</th>\n",
       "      <td>04/06/2020</td>\n",
       "      <td>Acura</td>\n",
       "      <td>CL</td>\n",
       "      <td>2.2</td>\n",
       "      <td>1999.0</td>\n",
       "      <td>Dizel</td>\n",
       "      <td>Düz Vites</td>\n",
       "      <td>1801-2000 cc</td>\n",
       "      <td>101-125 BG</td>\n",
       "      <td>Lacivert</td>\n",
       "      <td>Roadster</td>\n",
       "      <td>Galeriden</td>\n",
       "      <td>2. El</td>\n",
       "      <td>320000</td>\n",
       "      <td>42500</td>\n",
       "    </tr>\n",
       "    <tr>\n",
       "      <th>6</th>\n",
       "      <td>03/06/2020</td>\n",
       "      <td>Acura</td>\n",
       "      <td>CL</td>\n",
       "      <td>2.2</td>\n",
       "      <td>2014.0</td>\n",
       "      <td>Dizel</td>\n",
       "      <td>Otomatik Vites</td>\n",
       "      <td>1301-1600 cc</td>\n",
       "      <td>101-125 BG</td>\n",
       "      <td>Kırmızı</td>\n",
       "      <td>Sedan</td>\n",
       "      <td>Galeriden</td>\n",
       "      <td>2. El</td>\n",
       "      <td>183</td>\n",
       "      <td>170000</td>\n",
       "    </tr>\n",
       "    <tr>\n",
       "      <th>7</th>\n",
       "      <td>02/06/2020</td>\n",
       "      <td>Acura</td>\n",
       "      <td>CL</td>\n",
       "      <td>-</td>\n",
       "      <td>2014.0</td>\n",
       "      <td>Dizel</td>\n",
       "      <td>Düz Vites</td>\n",
       "      <td>1301-1600 cc</td>\n",
       "      <td>76-100 BG</td>\n",
       "      <td>Beyaz</td>\n",
       "      <td>Hatchback 5 Kapı</td>\n",
       "      <td>Sahibinden</td>\n",
       "      <td>2. El</td>\n",
       "      <td>79000</td>\n",
       "      <td>82500</td>\n",
       "    </tr>\n",
       "    <tr>\n",
       "      <th>8</th>\n",
       "      <td>29/05/2020</td>\n",
       "      <td>Acura</td>\n",
       "      <td>RSX</td>\n",
       "      <td>Type-S</td>\n",
       "      <td>2019.0</td>\n",
       "      <td>Hibrit</td>\n",
       "      <td>Otomatik Vites</td>\n",
       "      <td>1601-1800 cc</td>\n",
       "      <td>100 BG ve altı</td>\n",
       "      <td>Beyaz</td>\n",
       "      <td>Sedan</td>\n",
       "      <td>Yetkili</td>\n",
       "      <td>0 km</td>\n",
       "      <td>15662</td>\n",
       "      <td>189000</td>\n",
       "    </tr>\n",
       "    <tr>\n",
       "      <th>9</th>\n",
       "      <td>29/05/2020</td>\n",
       "      <td>Acura</td>\n",
       "      <td>RSX</td>\n",
       "      <td>Type-S</td>\n",
       "      <td>2019.0</td>\n",
       "      <td>Hibrit</td>\n",
       "      <td>Otomatik Vites</td>\n",
       "      <td>1601-1800 cc</td>\n",
       "      <td>100 BG ve altı</td>\n",
       "      <td>Gri</td>\n",
       "      <td>Sedan</td>\n",
       "      <td>Yetkili</td>\n",
       "      <td>0 km</td>\n",
       "      <td>31971</td>\n",
       "      <td>189000</td>\n",
       "    </tr>\n",
       "    <tr>\n",
       "      <th>10</th>\n",
       "      <td>24/05/2020</td>\n",
       "      <td>Acura</td>\n",
       "      <td>CL</td>\n",
       "      <td>-</td>\n",
       "      <td>2001.0</td>\n",
       "      <td>Benzin/LPG</td>\n",
       "      <td>Düz Vites</td>\n",
       "      <td>1301-1600 cc</td>\n",
       "      <td>101-125 BG</td>\n",
       "      <td>Siyah</td>\n",
       "      <td>Hatchback 5 Kapı</td>\n",
       "      <td>Sahibinden</td>\n",
       "      <td>2. El</td>\n",
       "      <td>252000</td>\n",
       "      <td>36750</td>\n",
       "    </tr>\n",
       "    <tr>\n",
       "      <th>11</th>\n",
       "      <td>08/05/2020</td>\n",
       "      <td>Acura</td>\n",
       "      <td>CL</td>\n",
       "      <td>-</td>\n",
       "      <td>2010.0</td>\n",
       "      <td>Dizel</td>\n",
       "      <td>Düz Vites</td>\n",
       "      <td>1300 cc ve altı</td>\n",
       "      <td>76-100 BG</td>\n",
       "      <td>Gri</td>\n",
       "      <td>Sedan</td>\n",
       "      <td>Galeriden</td>\n",
       "      <td>2. El</td>\n",
       "      <td>232000</td>\n",
       "      <td>52000</td>\n",
       "    </tr>\n",
       "    <tr>\n",
       "      <th>12</th>\n",
       "      <td>07/05/2020</td>\n",
       "      <td>Acura</td>\n",
       "      <td>CL</td>\n",
       "      <td>-</td>\n",
       "      <td>2014.0</td>\n",
       "      <td>Dizel</td>\n",
       "      <td>Düz Vites</td>\n",
       "      <td>1301-1600 cc</td>\n",
       "      <td>76-100 BG</td>\n",
       "      <td>Siyah</td>\n",
       "      <td>Hatchback 5 Kapı</td>\n",
       "      <td>Sahibinden</td>\n",
       "      <td>2. El</td>\n",
       "      <td>168000</td>\n",
       "      <td>84000</td>\n",
       "    </tr>\n",
       "    <tr>\n",
       "      <th>13</th>\n",
       "      <td>27/04/2020</td>\n",
       "      <td>Acura</td>\n",
       "      <td>CL</td>\n",
       "      <td>-</td>\n",
       "      <td>2004.0</td>\n",
       "      <td>Dizel</td>\n",
       "      <td>Düz Vites</td>\n",
       "      <td>1301-1600 cc</td>\n",
       "      <td>76-100 BG</td>\n",
       "      <td>Beyaz</td>\n",
       "      <td>Hatchback 5 Kapı</td>\n",
       "      <td>Galeriden</td>\n",
       "      <td>2. El</td>\n",
       "      <td>230000</td>\n",
       "      <td>32000</td>\n",
       "    </tr>\n",
       "    <tr>\n",
       "      <th>14</th>\n",
       "      <td>27/04/2020</td>\n",
       "      <td>Acura</td>\n",
       "      <td>CL</td>\n",
       "      <td>-</td>\n",
       "      <td>2004.0</td>\n",
       "      <td>Benzin/LPG</td>\n",
       "      <td>Düz Vites</td>\n",
       "      <td>1301-1600 cc</td>\n",
       "      <td>101-125 BG</td>\n",
       "      <td>Lacivert</td>\n",
       "      <td>Sedan</td>\n",
       "      <td>Sahibinden</td>\n",
       "      <td>2. El</td>\n",
       "      <td>18000</td>\n",
       "      <td>34500</td>\n",
       "    </tr>\n",
       "    <tr>\n",
       "      <th>15</th>\n",
       "      <td>24/04/2020</td>\n",
       "      <td>Acura</td>\n",
       "      <td>CL</td>\n",
       "      <td>-</td>\n",
       "      <td>2012.0</td>\n",
       "      <td>Dizel</td>\n",
       "      <td>Otomatik Vites</td>\n",
       "      <td>1801-2000 cc</td>\n",
       "      <td>201-225 BG</td>\n",
       "      <td>Siyah</td>\n",
       "      <td>Sedan</td>\n",
       "      <td>Galeriden</td>\n",
       "      <td>2. El</td>\n",
       "      <td>249000</td>\n",
       "      <td>235000</td>\n",
       "    </tr>\n",
       "    <tr>\n",
       "      <th>16</th>\n",
       "      <td>23/04/2020</td>\n",
       "      <td>Acura</td>\n",
       "      <td>CL</td>\n",
       "      <td>-</td>\n",
       "      <td>2017.0</td>\n",
       "      <td>Dizel</td>\n",
       "      <td>Yarı Otomatik Vites</td>\n",
       "      <td>1301-1600 cc</td>\n",
       "      <td>76-100 BG</td>\n",
       "      <td>Füme</td>\n",
       "      <td>Hatchback 5 Kapı</td>\n",
       "      <td>Galeriden</td>\n",
       "      <td>2. El</td>\n",
       "      <td>70000</td>\n",
       "      <td>97500</td>\n",
       "    </tr>\n",
       "    <tr>\n",
       "      <th>17</th>\n",
       "      <td>23/04/2020</td>\n",
       "      <td>Acura</td>\n",
       "      <td>CL</td>\n",
       "      <td>-</td>\n",
       "      <td>2013.0</td>\n",
       "      <td>Dizel</td>\n",
       "      <td>Otomatik Vites</td>\n",
       "      <td>1801-2000 cc</td>\n",
       "      <td>176-200 BG</td>\n",
       "      <td>Siyah</td>\n",
       "      <td>Sedan</td>\n",
       "      <td>Galeriden</td>\n",
       "      <td>2. El</td>\n",
       "      <td>210000</td>\n",
       "      <td>234900</td>\n",
       "    </tr>\n",
       "    <tr>\n",
       "      <th>18</th>\n",
       "      <td>21/04/2020</td>\n",
       "      <td>Acura</td>\n",
       "      <td>CL</td>\n",
       "      <td>-</td>\n",
       "      <td>2004.0</td>\n",
       "      <td>Benzin/LPG</td>\n",
       "      <td>Düz Vites</td>\n",
       "      <td>1601-1800 cc</td>\n",
       "      <td>126-150 BG</td>\n",
       "      <td>Kahverengi</td>\n",
       "      <td>Sedan</td>\n",
       "      <td>Sahibinden</td>\n",
       "      <td>2. El</td>\n",
       "      <td>240000</td>\n",
       "      <td>50000</td>\n",
       "    </tr>\n",
       "    <tr>\n",
       "      <th>19</th>\n",
       "      <td>08/04/2020</td>\n",
       "      <td>Jeep</td>\n",
       "      <td>Wrangler</td>\n",
       "      <td>2.8 CRD</td>\n",
       "      <td>2014.0</td>\n",
       "      <td>Dizel</td>\n",
       "      <td>Otomatik Vites</td>\n",
       "      <td>2501-3000 cc</td>\n",
       "      <td>126-150 BG</td>\n",
       "      <td>Siyah</td>\n",
       "      <td>Arazi Aracı</td>\n",
       "      <td>Galeriden</td>\n",
       "      <td>2. El</td>\n",
       "      <td>54000</td>\n",
       "      <td>457500</td>\n",
       "    </tr>\n",
       "    <tr>\n",
       "      <th>20</th>\n",
       "      <td>20/04/2020</td>\n",
       "      <td>Acura</td>\n",
       "      <td>RSX</td>\n",
       "      <td>Type-S</td>\n",
       "      <td>2019.0</td>\n",
       "      <td>Hibrit</td>\n",
       "      <td>Otomatik Vites</td>\n",
       "      <td>1601-1800 cc</td>\n",
       "      <td>100 BG ve altı</td>\n",
       "      <td>Gri</td>\n",
       "      <td>Diğer</td>\n",
       "      <td>Yetkili</td>\n",
       "      <td>0 km</td>\n",
       "      <td>13500</td>\n",
       "      <td>175000</td>\n",
       "    </tr>\n",
       "    <tr>\n",
       "      <th>21</th>\n",
       "      <td>20/04/2020</td>\n",
       "      <td>Acura</td>\n",
       "      <td>RSX</td>\n",
       "      <td>Type-S</td>\n",
       "      <td>2019.0</td>\n",
       "      <td>Hibrit</td>\n",
       "      <td>Otomatik Vites</td>\n",
       "      <td>1601-1800 cc</td>\n",
       "      <td>100 BG ve altı</td>\n",
       "      <td>Gri</td>\n",
       "      <td>Diğer</td>\n",
       "      <td>Yetkili</td>\n",
       "      <td>0 km</td>\n",
       "      <td>14000</td>\n",
       "      <td>175000</td>\n",
       "    </tr>\n",
       "    <tr>\n",
       "      <th>22</th>\n",
       "      <td>20/04/2020</td>\n",
       "      <td>Acura</td>\n",
       "      <td>CL</td>\n",
       "      <td>2.2</td>\n",
       "      <td>2012.0</td>\n",
       "      <td>Dizel</td>\n",
       "      <td>Düz Vites</td>\n",
       "      <td>Bilmiyorum</td>\n",
       "      <td>Bilmiyorum</td>\n",
       "      <td>Gümüş Gri</td>\n",
       "      <td>Arazi Aracı</td>\n",
       "      <td>Galeriden</td>\n",
       "      <td>2. El</td>\n",
       "      <td>270</td>\n",
       "      <td>82500</td>\n",
       "    </tr>\n",
       "    <tr>\n",
       "      <th>23</th>\n",
       "      <td>20/04/2020</td>\n",
       "      <td>Acura</td>\n",
       "      <td>RSX</td>\n",
       "      <td>Type-S</td>\n",
       "      <td>2019.0</td>\n",
       "      <td>Hibrit</td>\n",
       "      <td>Otomatik Vites</td>\n",
       "      <td>1601-1800 cc</td>\n",
       "      <td>101-125 BG</td>\n",
       "      <td>Mavi</td>\n",
       "      <td>Sedan</td>\n",
       "      <td>Galeriden</td>\n",
       "      <td>0 km</td>\n",
       "      <td>29550</td>\n",
       "      <td>173900</td>\n",
       "    </tr>\n",
       "    <tr>\n",
       "      <th>24</th>\n",
       "      <td>15/04/2020</td>\n",
       "      <td>Acura</td>\n",
       "      <td>RSX</td>\n",
       "      <td>Type-S</td>\n",
       "      <td>2019.0</td>\n",
       "      <td>Hibrit</td>\n",
       "      <td>Otomatik Vites</td>\n",
       "      <td>1601-1800 cc</td>\n",
       "      <td>100 BG ve altı</td>\n",
       "      <td>Diğer</td>\n",
       "      <td>Diğer</td>\n",
       "      <td>Yetkili</td>\n",
       "      <td>0 km</td>\n",
       "      <td>16563</td>\n",
       "      <td>179250</td>\n",
       "    </tr>\n",
       "    <tr>\n",
       "      <th>25</th>\n",
       "      <td>15/04/2020</td>\n",
       "      <td>Acura</td>\n",
       "      <td>RSX</td>\n",
       "      <td>Type-S</td>\n",
       "      <td>2019.0</td>\n",
       "      <td>Hibrit</td>\n",
       "      <td>Otomatik Vites</td>\n",
       "      <td>1601-1800 cc</td>\n",
       "      <td>100 BG ve altı</td>\n",
       "      <td>Diğer</td>\n",
       "      <td>Diğer</td>\n",
       "      <td>Yetkili</td>\n",
       "      <td>0 km</td>\n",
       "      <td>11281</td>\n",
       "      <td>179250</td>\n",
       "    </tr>\n",
       "    <tr>\n",
       "      <th>26</th>\n",
       "      <td>15/04/2020</td>\n",
       "      <td>Acura</td>\n",
       "      <td>CL</td>\n",
       "      <td>-</td>\n",
       "      <td>2009.0</td>\n",
       "      <td>Dizel</td>\n",
       "      <td>Düz Vites</td>\n",
       "      <td>1300 cc ve altı</td>\n",
       "      <td>76-100 BG</td>\n",
       "      <td>Bordo</td>\n",
       "      <td>Sedan</td>\n",
       "      <td>Sahibinden</td>\n",
       "      <td>2. El</td>\n",
       "      <td>150000</td>\n",
       "      <td>34000</td>\n",
       "    </tr>\n",
       "    <tr>\n",
       "      <th>27</th>\n",
       "      <td>15/04/2020</td>\n",
       "      <td>Acura</td>\n",
       "      <td>CL</td>\n",
       "      <td>-</td>\n",
       "      <td>2009.0</td>\n",
       "      <td>Dizel</td>\n",
       "      <td>Düz Vites</td>\n",
       "      <td>1300 cc ve altı</td>\n",
       "      <td>76-100 BG</td>\n",
       "      <td>Bordo</td>\n",
       "      <td>Sedan</td>\n",
       "      <td>Sahibinden</td>\n",
       "      <td>2. El</td>\n",
       "      <td>150000</td>\n",
       "      <td>34000</td>\n",
       "    </tr>\n",
       "    <tr>\n",
       "      <th>28</th>\n",
       "      <td>14/04/2020</td>\n",
       "      <td>Acura</td>\n",
       "      <td>CL</td>\n",
       "      <td>2.2</td>\n",
       "      <td>2016.0</td>\n",
       "      <td>Benzin</td>\n",
       "      <td>Düz Vites</td>\n",
       "      <td>1300 cc ve altı</td>\n",
       "      <td>76-100 BG</td>\n",
       "      <td>Mavi</td>\n",
       "      <td>Hatchback 5 Kapı</td>\n",
       "      <td>Galeriden</td>\n",
       "      <td>2. El</td>\n",
       "      <td>70000</td>\n",
       "      <td>77500</td>\n",
       "    </tr>\n",
       "    <tr>\n",
       "      <th>29</th>\n",
       "      <td>14/04/2020</td>\n",
       "      <td>Acura</td>\n",
       "      <td>CL</td>\n",
       "      <td>-</td>\n",
       "      <td>2011.0</td>\n",
       "      <td>Dizel</td>\n",
       "      <td>Düz Vites</td>\n",
       "      <td>1300 cc ve altı</td>\n",
       "      <td>Bilmiyorum</td>\n",
       "      <td>Siyah</td>\n",
       "      <td>Hatchback 5 Kapı</td>\n",
       "      <td>Sahibinden</td>\n",
       "      <td>2. El</td>\n",
       "      <td>182</td>\n",
       "      <td>62000</td>\n",
       "    </tr>\n",
       "    <tr>\n",
       "      <th>...</th>\n",
       "      <td>...</td>\n",
       "      <td>...</td>\n",
       "      <td>...</td>\n",
       "      <td>...</td>\n",
       "      <td>...</td>\n",
       "      <td>...</td>\n",
       "      <td>...</td>\n",
       "      <td>...</td>\n",
       "      <td>...</td>\n",
       "      <td>...</td>\n",
       "      <td>...</td>\n",
       "      <td>...</td>\n",
       "      <td>...</td>\n",
       "      <td>...</td>\n",
       "      <td>...</td>\n",
       "    </tr>\n",
       "    <tr>\n",
       "      <th>9014</th>\n",
       "      <td>13/06/2020</td>\n",
       "      <td>Tofaş</td>\n",
       "      <td>Doğan</td>\n",
       "      <td>SL</td>\n",
       "      <td>1993.0</td>\n",
       "      <td>Benzin/LPG</td>\n",
       "      <td>Düz Vites</td>\n",
       "      <td>1301-1600 cc</td>\n",
       "      <td>76-100 BG</td>\n",
       "      <td>Yeşil</td>\n",
       "      <td>Sedan</td>\n",
       "      <td>Galeriden</td>\n",
       "      <td>2. El</td>\n",
       "      <td>150000</td>\n",
       "      <td>17500</td>\n",
       "    </tr>\n",
       "    <tr>\n",
       "      <th>9015</th>\n",
       "      <td>13/06/2020</td>\n",
       "      <td>Tofaş</td>\n",
       "      <td>Doğan</td>\n",
       "      <td>S</td>\n",
       "      <td>1994.0</td>\n",
       "      <td>Benzin/LPG</td>\n",
       "      <td>Düz Vites</td>\n",
       "      <td>1301-1600 cc</td>\n",
       "      <td>51-75 BG</td>\n",
       "      <td>Beyaz</td>\n",
       "      <td>Sedan</td>\n",
       "      <td>Galeriden</td>\n",
       "      <td>2. El</td>\n",
       "      <td>99000</td>\n",
       "      <td>25000</td>\n",
       "    </tr>\n",
       "    <tr>\n",
       "      <th>9016</th>\n",
       "      <td>13/06/2020</td>\n",
       "      <td>Tofaş</td>\n",
       "      <td>Şahin</td>\n",
       "      <td>Şahin 5 vites</td>\n",
       "      <td>1992.0</td>\n",
       "      <td>Benzin/LPG</td>\n",
       "      <td>Düz Vites</td>\n",
       "      <td>1601-1800 cc</td>\n",
       "      <td>51-75 BG</td>\n",
       "      <td>Beyaz</td>\n",
       "      <td>Sedan</td>\n",
       "      <td>Galeriden</td>\n",
       "      <td>2. El</td>\n",
       "      <td>99000</td>\n",
       "      <td>18000</td>\n",
       "    </tr>\n",
       "    <tr>\n",
       "      <th>9017</th>\n",
       "      <td>13/06/2020</td>\n",
       "      <td>Tofaş</td>\n",
       "      <td>Serçe</td>\n",
       "      <td>Serçe</td>\n",
       "      <td>1990.0</td>\n",
       "      <td>Benzin/LPG</td>\n",
       "      <td>Düz Vites</td>\n",
       "      <td>1300 cc ve altı</td>\n",
       "      <td>51-75 BG</td>\n",
       "      <td>Krem</td>\n",
       "      <td>Sedan</td>\n",
       "      <td>Galeriden</td>\n",
       "      <td>2. El</td>\n",
       "      <td>100000</td>\n",
       "      <td>13500</td>\n",
       "    </tr>\n",
       "    <tr>\n",
       "      <th>9018</th>\n",
       "      <td>13/06/2020</td>\n",
       "      <td>Tofaş</td>\n",
       "      <td>Şahin</td>\n",
       "      <td>1.6</td>\n",
       "      <td>1996.0</td>\n",
       "      <td>Benzin/LPG</td>\n",
       "      <td>Düz Vites</td>\n",
       "      <td>1301-1600 cc</td>\n",
       "      <td>51-75 BG</td>\n",
       "      <td>Beyaz</td>\n",
       "      <td>Hatchback 5 Kapı</td>\n",
       "      <td>Galeriden</td>\n",
       "      <td>2. El</td>\n",
       "      <td>111222</td>\n",
       "      <td>16000</td>\n",
       "    </tr>\n",
       "    <tr>\n",
       "      <th>9019</th>\n",
       "      <td>13/06/2020</td>\n",
       "      <td>Tofaş</td>\n",
       "      <td>Şahin</td>\n",
       "      <td>1.6</td>\n",
       "      <td>1995.0</td>\n",
       "      <td>Benzin/LPG</td>\n",
       "      <td>Düz Vites</td>\n",
       "      <td>1301-1600 cc</td>\n",
       "      <td>76-100 BG</td>\n",
       "      <td>Beyaz</td>\n",
       "      <td>Sedan</td>\n",
       "      <td>Galeriden</td>\n",
       "      <td>2. El</td>\n",
       "      <td>250000</td>\n",
       "      <td>16500</td>\n",
       "    </tr>\n",
       "    <tr>\n",
       "      <th>9020</th>\n",
       "      <td>12/06/2020</td>\n",
       "      <td>Tofaş</td>\n",
       "      <td>Şahin</td>\n",
       "      <td>1.6</td>\n",
       "      <td>1996.0</td>\n",
       "      <td>Benzin/LPG</td>\n",
       "      <td>Düz Vites</td>\n",
       "      <td>1601-1800 cc</td>\n",
       "      <td>76-100 BG</td>\n",
       "      <td>Beyaz</td>\n",
       "      <td>Sedan</td>\n",
       "      <td>Galeriden</td>\n",
       "      <td>2. El</td>\n",
       "      <td>123456</td>\n",
       "      <td>17500</td>\n",
       "    </tr>\n",
       "    <tr>\n",
       "      <th>9021</th>\n",
       "      <td>12/06/2020</td>\n",
       "      <td>Tofaş</td>\n",
       "      <td>Şahin</td>\n",
       "      <td>Şahin 5 vites</td>\n",
       "      <td>1992.0</td>\n",
       "      <td>Benzin/LPG</td>\n",
       "      <td>Düz Vites</td>\n",
       "      <td>1301-1600 cc</td>\n",
       "      <td>50 BG ve altı</td>\n",
       "      <td>Siyah</td>\n",
       "      <td>Sedan</td>\n",
       "      <td>Sahibinden</td>\n",
       "      <td>2. El</td>\n",
       "      <td>0</td>\n",
       "      <td>13500</td>\n",
       "    </tr>\n",
       "    <tr>\n",
       "      <th>9022</th>\n",
       "      <td>12/06/2020</td>\n",
       "      <td>Tofaş</td>\n",
       "      <td>Doğan</td>\n",
       "      <td>SLX</td>\n",
       "      <td>1993.0</td>\n",
       "      <td>Benzin/LPG</td>\n",
       "      <td>Düz Vites</td>\n",
       "      <td>Bilmiyorum</td>\n",
       "      <td>Bilmiyorum</td>\n",
       "      <td>Beyaz</td>\n",
       "      <td>Diğer</td>\n",
       "      <td>Sahibinden</td>\n",
       "      <td>2. El</td>\n",
       "      <td>46000</td>\n",
       "      <td>19250</td>\n",
       "    </tr>\n",
       "    <tr>\n",
       "      <th>9023</th>\n",
       "      <td>12/06/2020</td>\n",
       "      <td>Tofaş</td>\n",
       "      <td>Doğan</td>\n",
       "      <td>L</td>\n",
       "      <td>1991.0</td>\n",
       "      <td>Benzin/LPG</td>\n",
       "      <td>Düz Vites</td>\n",
       "      <td>1301-1600 cc</td>\n",
       "      <td>76-100 BG</td>\n",
       "      <td>Yeşil</td>\n",
       "      <td>Sedan</td>\n",
       "      <td>Sahibinden</td>\n",
       "      <td>2. El</td>\n",
       "      <td>165000</td>\n",
       "      <td>14200</td>\n",
       "    </tr>\n",
       "    <tr>\n",
       "      <th>9024</th>\n",
       "      <td>11/06/2020</td>\n",
       "      <td>Tofaş</td>\n",
       "      <td>Şahin</td>\n",
       "      <td>Şahin 5 vites</td>\n",
       "      <td>1994.0</td>\n",
       "      <td>Benzin/LPG</td>\n",
       "      <td>Düz Vites</td>\n",
       "      <td>1301-1600 cc</td>\n",
       "      <td>51-75 BG</td>\n",
       "      <td>Kırmızı</td>\n",
       "      <td>Sedan</td>\n",
       "      <td>Sahibinden</td>\n",
       "      <td>2. El</td>\n",
       "      <td>134000</td>\n",
       "      <td>20500</td>\n",
       "    </tr>\n",
       "    <tr>\n",
       "      <th>9025</th>\n",
       "      <td>11/06/2020</td>\n",
       "      <td>Tofaş</td>\n",
       "      <td>Şahin</td>\n",
       "      <td>Şahin 5 vites</td>\n",
       "      <td>1994.0</td>\n",
       "      <td>Benzin/LPG</td>\n",
       "      <td>Düz Vites</td>\n",
       "      <td>1301-1600 cc</td>\n",
       "      <td>51-75 BG</td>\n",
       "      <td>Kırmızı</td>\n",
       "      <td>Sedan</td>\n",
       "      <td>Sahibinden</td>\n",
       "      <td>2. El</td>\n",
       "      <td>134000</td>\n",
       "      <td>20500</td>\n",
       "    </tr>\n",
       "    <tr>\n",
       "      <th>9026</th>\n",
       "      <td>11/06/2020</td>\n",
       "      <td>Tofaş</td>\n",
       "      <td>Şahin</td>\n",
       "      <td>1.4</td>\n",
       "      <td>1999.0</td>\n",
       "      <td>Benzin/LPG</td>\n",
       "      <td>Düz Vites</td>\n",
       "      <td>1301-1600 cc</td>\n",
       "      <td>76-100 BG</td>\n",
       "      <td>Beyaz</td>\n",
       "      <td>Sedan</td>\n",
       "      <td>Galeriden</td>\n",
       "      <td>2. El</td>\n",
       "      <td>100</td>\n",
       "      <td>19250</td>\n",
       "    </tr>\n",
       "    <tr>\n",
       "      <th>9027</th>\n",
       "      <td>11/06/2020</td>\n",
       "      <td>Tofaş</td>\n",
       "      <td>Kartal</td>\n",
       "      <td>1.6 ie</td>\n",
       "      <td>2001.0</td>\n",
       "      <td>Benzin/LPG</td>\n",
       "      <td>Düz Vites</td>\n",
       "      <td>1601-1800 cc</td>\n",
       "      <td>51-75 BG</td>\n",
       "      <td>Bordo</td>\n",
       "      <td>Station Wagon</td>\n",
       "      <td>Galeriden</td>\n",
       "      <td>2. El</td>\n",
       "      <td>124</td>\n",
       "      <td>21500</td>\n",
       "    </tr>\n",
       "    <tr>\n",
       "      <th>9028</th>\n",
       "      <td>11/06/2020</td>\n",
       "      <td>Tofaş</td>\n",
       "      <td>Şahin</td>\n",
       "      <td>1.6</td>\n",
       "      <td>1994.0</td>\n",
       "      <td>Benzin/LPG</td>\n",
       "      <td>Düz Vites</td>\n",
       "      <td>1301-1600 cc</td>\n",
       "      <td>51-75 BG</td>\n",
       "      <td>Beyaz</td>\n",
       "      <td>Sedan</td>\n",
       "      <td>Galeriden</td>\n",
       "      <td>2. El</td>\n",
       "      <td>150000</td>\n",
       "      <td>16000</td>\n",
       "    </tr>\n",
       "    <tr>\n",
       "      <th>9029</th>\n",
       "      <td>11/06/2020</td>\n",
       "      <td>Tofaş</td>\n",
       "      <td>Şahin</td>\n",
       "      <td>S</td>\n",
       "      <td>1996.0</td>\n",
       "      <td>Benzin/LPG</td>\n",
       "      <td>Düz Vites</td>\n",
       "      <td>1301-1600 cc</td>\n",
       "      <td>76-100 BG</td>\n",
       "      <td>Kırmızı</td>\n",
       "      <td>Sedan</td>\n",
       "      <td>Galeriden</td>\n",
       "      <td>2. El</td>\n",
       "      <td>111111</td>\n",
       "      <td>16500</td>\n",
       "    </tr>\n",
       "    <tr>\n",
       "      <th>9030</th>\n",
       "      <td>11/06/2020</td>\n",
       "      <td>Tofaş</td>\n",
       "      <td>Doğan</td>\n",
       "      <td>1.6</td>\n",
       "      <td>1985.0</td>\n",
       "      <td>Benzin/LPG</td>\n",
       "      <td>Düz Vites</td>\n",
       "      <td>1601-1800 cc</td>\n",
       "      <td>76-100 BG</td>\n",
       "      <td>Gümüş Gri</td>\n",
       "      <td>Sedan</td>\n",
       "      <td>Sahibinden</td>\n",
       "      <td>2. El</td>\n",
       "      <td>100000</td>\n",
       "      <td>18500</td>\n",
       "    </tr>\n",
       "    <tr>\n",
       "      <th>9031</th>\n",
       "      <td>11/06/2020</td>\n",
       "      <td>Tofaş</td>\n",
       "      <td>Doğan</td>\n",
       "      <td>L</td>\n",
       "      <td>1992.0</td>\n",
       "      <td>Benzin/LPG</td>\n",
       "      <td>Düz Vites</td>\n",
       "      <td>1301-1600 cc</td>\n",
       "      <td>51-75 BG</td>\n",
       "      <td>Füme</td>\n",
       "      <td>Sedan</td>\n",
       "      <td>Sahibinden</td>\n",
       "      <td>2. El</td>\n",
       "      <td>96750</td>\n",
       "      <td>15500</td>\n",
       "    </tr>\n",
       "    <tr>\n",
       "      <th>9032</th>\n",
       "      <td>09/06/2020</td>\n",
       "      <td>Tofaş</td>\n",
       "      <td>Doğan</td>\n",
       "      <td>L</td>\n",
       "      <td>1990.0</td>\n",
       "      <td>Benzin/LPG</td>\n",
       "      <td>Düz Vites</td>\n",
       "      <td>1301-1600 cc</td>\n",
       "      <td>76-100 BG</td>\n",
       "      <td>Mavi</td>\n",
       "      <td>Sedan</td>\n",
       "      <td>Galeriden</td>\n",
       "      <td>2. El</td>\n",
       "      <td>234</td>\n",
       "      <td>10500</td>\n",
       "    </tr>\n",
       "    <tr>\n",
       "      <th>9033</th>\n",
       "      <td>03/06/2020</td>\n",
       "      <td>Hyundai</td>\n",
       "      <td>I20</td>\n",
       "      <td>1.2 Team</td>\n",
       "      <td>2011.0</td>\n",
       "      <td>Benzin</td>\n",
       "      <td>Düz Vites</td>\n",
       "      <td>1300 cc ve altı</td>\n",
       "      <td>100 BG ve altı</td>\n",
       "      <td>Beyaz</td>\n",
       "      <td>Hatchback 5 Kapı</td>\n",
       "      <td>Galeriden</td>\n",
       "      <td>2. El</td>\n",
       "      <td>220000</td>\n",
       "      <td>49500</td>\n",
       "    </tr>\n",
       "    <tr>\n",
       "      <th>9034</th>\n",
       "      <td>09/06/2020</td>\n",
       "      <td>Tofaş</td>\n",
       "      <td>Doğan</td>\n",
       "      <td>SLX</td>\n",
       "      <td>1994.0</td>\n",
       "      <td>Benzin/LPG</td>\n",
       "      <td>Düz Vites</td>\n",
       "      <td>1301-1600 cc</td>\n",
       "      <td>51-75 BG</td>\n",
       "      <td>Bal Rengi</td>\n",
       "      <td>Sedan</td>\n",
       "      <td>Galeriden</td>\n",
       "      <td>2. El</td>\n",
       "      <td>67890</td>\n",
       "      <td>16000</td>\n",
       "    </tr>\n",
       "    <tr>\n",
       "      <th>9035</th>\n",
       "      <td>09/06/2020</td>\n",
       "      <td>Tofaş</td>\n",
       "      <td>Doğan</td>\n",
       "      <td>L</td>\n",
       "      <td>1992.0</td>\n",
       "      <td>Benzin/LPG</td>\n",
       "      <td>Düz Vites</td>\n",
       "      <td>1301-1600 cc</td>\n",
       "      <td>100 BG ve altı</td>\n",
       "      <td>Füme</td>\n",
       "      <td>Sedan</td>\n",
       "      <td>Galeriden</td>\n",
       "      <td>2. El</td>\n",
       "      <td>233</td>\n",
       "      <td>11000</td>\n",
       "    </tr>\n",
       "    <tr>\n",
       "      <th>9036</th>\n",
       "      <td>09/06/2020</td>\n",
       "      <td>Tofaş</td>\n",
       "      <td>Doğan</td>\n",
       "      <td>1.6</td>\n",
       "      <td>1988.0</td>\n",
       "      <td>Benzin/LPG</td>\n",
       "      <td>Düz Vites</td>\n",
       "      <td>1301-1600 cc</td>\n",
       "      <td>76-100 BG</td>\n",
       "      <td>Gümüş Gri</td>\n",
       "      <td>Sedan</td>\n",
       "      <td>Sahibinden</td>\n",
       "      <td>2. El</td>\n",
       "      <td>98800</td>\n",
       "      <td>14000</td>\n",
       "    </tr>\n",
       "    <tr>\n",
       "      <th>9037</th>\n",
       "      <td>07/06/2020</td>\n",
       "      <td>Tofaş</td>\n",
       "      <td>Şahin</td>\n",
       "      <td>1.6 ie</td>\n",
       "      <td>2001.0</td>\n",
       "      <td>Benzin/LPG</td>\n",
       "      <td>Düz Vites</td>\n",
       "      <td>1601-1800 cc</td>\n",
       "      <td>76-100 BG</td>\n",
       "      <td>Gri</td>\n",
       "      <td>Sedan</td>\n",
       "      <td>Galeriden</td>\n",
       "      <td>2. El</td>\n",
       "      <td>176000</td>\n",
       "      <td>20900</td>\n",
       "    </tr>\n",
       "    <tr>\n",
       "      <th>9038</th>\n",
       "      <td>06/06/2020</td>\n",
       "      <td>Tofaş</td>\n",
       "      <td>Kartal</td>\n",
       "      <td>SLX ie</td>\n",
       "      <td>1999.0</td>\n",
       "      <td>Benzin/LPG</td>\n",
       "      <td>Düz Vites</td>\n",
       "      <td>1601-1800 cc</td>\n",
       "      <td>76-100 BG</td>\n",
       "      <td>Beyaz</td>\n",
       "      <td>Station Wagon</td>\n",
       "      <td>Galeriden</td>\n",
       "      <td>2. El</td>\n",
       "      <td>198</td>\n",
       "      <td>19950</td>\n",
       "    </tr>\n",
       "    <tr>\n",
       "      <th>9039</th>\n",
       "      <td>06/06/2020</td>\n",
       "      <td>Tofaş</td>\n",
       "      <td>Şahin</td>\n",
       "      <td>1.6</td>\n",
       "      <td>1994.0</td>\n",
       "      <td>Benzin/LPG</td>\n",
       "      <td>Düz Vites</td>\n",
       "      <td>1301-1600 cc</td>\n",
       "      <td>51-75 BG</td>\n",
       "      <td>Beyaz</td>\n",
       "      <td>Sedan</td>\n",
       "      <td>Galeriden</td>\n",
       "      <td>2. El</td>\n",
       "      <td>121212</td>\n",
       "      <td>12250</td>\n",
       "    </tr>\n",
       "    <tr>\n",
       "      <th>9040</th>\n",
       "      <td>05/06/2020</td>\n",
       "      <td>Tofaş</td>\n",
       "      <td>Şahin</td>\n",
       "      <td>Şahin 5 vites</td>\n",
       "      <td>1992.0</td>\n",
       "      <td>Benzin/LPG</td>\n",
       "      <td>Düz Vites</td>\n",
       "      <td>1301-1600 cc</td>\n",
       "      <td>76-100 BG</td>\n",
       "      <td>Bej</td>\n",
       "      <td>Sedan</td>\n",
       "      <td>Sahibinden</td>\n",
       "      <td>2. El</td>\n",
       "      <td>54000</td>\n",
       "      <td>16300</td>\n",
       "    </tr>\n",
       "    <tr>\n",
       "      <th>9041</th>\n",
       "      <td>05/06/2020</td>\n",
       "      <td>Tofaş</td>\n",
       "      <td>Doğan</td>\n",
       "      <td>SLX</td>\n",
       "      <td>1993.0</td>\n",
       "      <td>Benzin/LPG</td>\n",
       "      <td>Düz Vites</td>\n",
       "      <td>1301-1600 cc</td>\n",
       "      <td>76-100 BG</td>\n",
       "      <td>Yeşil</td>\n",
       "      <td>Sedan</td>\n",
       "      <td>Sahibinden</td>\n",
       "      <td>2. El</td>\n",
       "      <td>135000</td>\n",
       "      <td>19000</td>\n",
       "    </tr>\n",
       "    <tr>\n",
       "      <th>9042</th>\n",
       "      <td>04/06/2020</td>\n",
       "      <td>Tofaş</td>\n",
       "      <td>Kartal</td>\n",
       "      <td>Kartal 5 Vites</td>\n",
       "      <td>1991.0</td>\n",
       "      <td>Benzin/LPG</td>\n",
       "      <td>Düz Vites</td>\n",
       "      <td>1601-1800 cc</td>\n",
       "      <td>76-100 BG</td>\n",
       "      <td>Kırmızı</td>\n",
       "      <td>Hatchback 5 Kapı</td>\n",
       "      <td>Galeriden</td>\n",
       "      <td>2. El</td>\n",
       "      <td>250000</td>\n",
       "      <td>11000</td>\n",
       "    </tr>\n",
       "    <tr>\n",
       "      <th>9043</th>\n",
       "      <td>04/06/2020</td>\n",
       "      <td>Tofaş</td>\n",
       "      <td>Kartal</td>\n",
       "      <td>Kartal 5 Vites</td>\n",
       "      <td>1996.0</td>\n",
       "      <td>Benzin/LPG</td>\n",
       "      <td>Düz Vites</td>\n",
       "      <td>1301-1600 cc</td>\n",
       "      <td>51-75 BG</td>\n",
       "      <td>Beyaz</td>\n",
       "      <td>Sedan</td>\n",
       "      <td>Galeriden</td>\n",
       "      <td>2. El</td>\n",
       "      <td>11</td>\n",
       "      <td>15750</td>\n",
       "    </tr>\n",
       "  </tbody>\n",
       "</table>\n",
       "<p>9044 rows × 15 columns</p>\n",
       "</div>"
      ],
      "text/plain": [
       "     İlan Tarihi    Marka Arac Tip Grubu             Arac Tip  Model Yıl  \\\n",
       "0     27/05/2020   Jaguar             XF  2.0 D Prestige Plus     2017.0   \n",
       "1     16/06/2020    Acura             CL                    -     2015.0   \n",
       "2     14/06/2020    Acura             CL                  2.2     1994.0   \n",
       "3     11/06/2020    Acura             CL                    -     2013.0   \n",
       "4     11/06/2020    Acura             CL                  2.2     2010.0   \n",
       "5     04/06/2020    Acura             CL                  2.2     1999.0   \n",
       "6     03/06/2020    Acura             CL                  2.2     2014.0   \n",
       "7     02/06/2020    Acura             CL                    -     2014.0   \n",
       "8     29/05/2020    Acura            RSX               Type-S     2019.0   \n",
       "9     29/05/2020    Acura            RSX               Type-S     2019.0   \n",
       "10    24/05/2020    Acura             CL                    -     2001.0   \n",
       "11    08/05/2020    Acura             CL                    -     2010.0   \n",
       "12    07/05/2020    Acura             CL                    -     2014.0   \n",
       "13    27/04/2020    Acura             CL                    -     2004.0   \n",
       "14    27/04/2020    Acura             CL                    -     2004.0   \n",
       "15    24/04/2020    Acura             CL                    -     2012.0   \n",
       "16    23/04/2020    Acura             CL                    -     2017.0   \n",
       "17    23/04/2020    Acura             CL                    -     2013.0   \n",
       "18    21/04/2020    Acura             CL                    -     2004.0   \n",
       "19    08/04/2020     Jeep       Wrangler              2.8 CRD     2014.0   \n",
       "20    20/04/2020    Acura            RSX               Type-S     2019.0   \n",
       "21    20/04/2020    Acura            RSX               Type-S     2019.0   \n",
       "22    20/04/2020    Acura             CL                  2.2     2012.0   \n",
       "23    20/04/2020    Acura            RSX               Type-S     2019.0   \n",
       "24    15/04/2020    Acura            RSX               Type-S     2019.0   \n",
       "25    15/04/2020    Acura            RSX               Type-S     2019.0   \n",
       "26    15/04/2020    Acura             CL                    -     2009.0   \n",
       "27    15/04/2020    Acura             CL                    -     2009.0   \n",
       "28    14/04/2020    Acura             CL                  2.2     2016.0   \n",
       "29    14/04/2020    Acura             CL                    -     2011.0   \n",
       "...          ...      ...            ...                  ...        ...   \n",
       "9014  13/06/2020    Tofaş          Doğan                   SL     1993.0   \n",
       "9015  13/06/2020    Tofaş          Doğan                    S     1994.0   \n",
       "9016  13/06/2020    Tofaş          Şahin        Şahin 5 vites     1992.0   \n",
       "9017  13/06/2020    Tofaş          Serçe                Serçe     1990.0   \n",
       "9018  13/06/2020    Tofaş          Şahin                  1.6     1996.0   \n",
       "9019  13/06/2020    Tofaş          Şahin                  1.6     1995.0   \n",
       "9020  12/06/2020    Tofaş          Şahin                  1.6     1996.0   \n",
       "9021  12/06/2020    Tofaş          Şahin        Şahin 5 vites     1992.0   \n",
       "9022  12/06/2020    Tofaş          Doğan                  SLX     1993.0   \n",
       "9023  12/06/2020    Tofaş          Doğan                    L     1991.0   \n",
       "9024  11/06/2020    Tofaş          Şahin        Şahin 5 vites     1994.0   \n",
       "9025  11/06/2020    Tofaş          Şahin        Şahin 5 vites     1994.0   \n",
       "9026  11/06/2020    Tofaş          Şahin                  1.4     1999.0   \n",
       "9027  11/06/2020    Tofaş         Kartal               1.6 ie     2001.0   \n",
       "9028  11/06/2020    Tofaş          Şahin                  1.6     1994.0   \n",
       "9029  11/06/2020    Tofaş          Şahin                    S     1996.0   \n",
       "9030  11/06/2020    Tofaş          Doğan                  1.6     1985.0   \n",
       "9031  11/06/2020    Tofaş          Doğan                    L     1992.0   \n",
       "9032  09/06/2020    Tofaş          Doğan                    L     1990.0   \n",
       "9033  03/06/2020  Hyundai            I20             1.2 Team     2011.0   \n",
       "9034  09/06/2020    Tofaş          Doğan                  SLX     1994.0   \n",
       "9035  09/06/2020    Tofaş          Doğan                    L     1992.0   \n",
       "9036  09/06/2020    Tofaş          Doğan                  1.6     1988.0   \n",
       "9037  07/06/2020    Tofaş          Şahin               1.6 ie     2001.0   \n",
       "9038  06/06/2020    Tofaş         Kartal               SLX ie     1999.0   \n",
       "9039  06/06/2020    Tofaş          Şahin                  1.6     1994.0   \n",
       "9040  05/06/2020    Tofaş          Şahin        Şahin 5 vites     1992.0   \n",
       "9041  05/06/2020    Tofaş          Doğan                  SLX     1993.0   \n",
       "9042  04/06/2020    Tofaş         Kartal       Kartal 5 Vites     1991.0   \n",
       "9043  04/06/2020    Tofaş         Kartal       Kartal 5 Vites     1996.0   \n",
       "\n",
       "      Yakıt Turu                Vites              CCM     Beygir Gucu  \\\n",
       "0          Dizel       Otomatik Vites     1801-2000 cc      176-200 BG   \n",
       "1          Dizel  Yarı Otomatik Vites     1301-1600 cc      101-125 BG   \n",
       "2     Benzin/LPG            Düz Vites     1301-1600 cc      101-125 BG   \n",
       "3          Dizel            Düz Vites     1301-1600 cc       76-100 BG   \n",
       "4          Dizel       Otomatik Vites     1801-2000 cc      151-175 BG   \n",
       "5          Dizel            Düz Vites     1801-2000 cc      101-125 BG   \n",
       "6          Dizel       Otomatik Vites     1301-1600 cc      101-125 BG   \n",
       "7          Dizel            Düz Vites     1301-1600 cc       76-100 BG   \n",
       "8         Hibrit       Otomatik Vites     1601-1800 cc  100 BG ve altı   \n",
       "9         Hibrit       Otomatik Vites     1601-1800 cc  100 BG ve altı   \n",
       "10    Benzin/LPG            Düz Vites     1301-1600 cc      101-125 BG   \n",
       "11         Dizel            Düz Vites  1300 cc ve altı       76-100 BG   \n",
       "12         Dizel            Düz Vites     1301-1600 cc       76-100 BG   \n",
       "13         Dizel            Düz Vites     1301-1600 cc       76-100 BG   \n",
       "14    Benzin/LPG            Düz Vites     1301-1600 cc      101-125 BG   \n",
       "15         Dizel       Otomatik Vites     1801-2000 cc      201-225 BG   \n",
       "16         Dizel  Yarı Otomatik Vites     1301-1600 cc       76-100 BG   \n",
       "17         Dizel       Otomatik Vites     1801-2000 cc      176-200 BG   \n",
       "18    Benzin/LPG            Düz Vites     1601-1800 cc      126-150 BG   \n",
       "19         Dizel       Otomatik Vites     2501-3000 cc      126-150 BG   \n",
       "20        Hibrit       Otomatik Vites     1601-1800 cc  100 BG ve altı   \n",
       "21        Hibrit       Otomatik Vites     1601-1800 cc  100 BG ve altı   \n",
       "22         Dizel            Düz Vites       Bilmiyorum      Bilmiyorum   \n",
       "23        Hibrit       Otomatik Vites     1601-1800 cc      101-125 BG   \n",
       "24        Hibrit       Otomatik Vites     1601-1800 cc  100 BG ve altı   \n",
       "25        Hibrit       Otomatik Vites     1601-1800 cc  100 BG ve altı   \n",
       "26         Dizel            Düz Vites  1300 cc ve altı       76-100 BG   \n",
       "27         Dizel            Düz Vites  1300 cc ve altı       76-100 BG   \n",
       "28        Benzin            Düz Vites  1300 cc ve altı       76-100 BG   \n",
       "29         Dizel            Düz Vites  1300 cc ve altı      Bilmiyorum   \n",
       "...          ...                  ...              ...             ...   \n",
       "9014  Benzin/LPG            Düz Vites     1301-1600 cc       76-100 BG   \n",
       "9015  Benzin/LPG            Düz Vites     1301-1600 cc        51-75 BG   \n",
       "9016  Benzin/LPG            Düz Vites     1601-1800 cc        51-75 BG   \n",
       "9017  Benzin/LPG            Düz Vites  1300 cc ve altı        51-75 BG   \n",
       "9018  Benzin/LPG            Düz Vites     1301-1600 cc        51-75 BG   \n",
       "9019  Benzin/LPG            Düz Vites     1301-1600 cc       76-100 BG   \n",
       "9020  Benzin/LPG            Düz Vites     1601-1800 cc       76-100 BG   \n",
       "9021  Benzin/LPG            Düz Vites     1301-1600 cc   50 BG ve altı   \n",
       "9022  Benzin/LPG            Düz Vites       Bilmiyorum      Bilmiyorum   \n",
       "9023  Benzin/LPG            Düz Vites     1301-1600 cc       76-100 BG   \n",
       "9024  Benzin/LPG            Düz Vites     1301-1600 cc        51-75 BG   \n",
       "9025  Benzin/LPG            Düz Vites     1301-1600 cc        51-75 BG   \n",
       "9026  Benzin/LPG            Düz Vites     1301-1600 cc       76-100 BG   \n",
       "9027  Benzin/LPG            Düz Vites     1601-1800 cc        51-75 BG   \n",
       "9028  Benzin/LPG            Düz Vites     1301-1600 cc        51-75 BG   \n",
       "9029  Benzin/LPG            Düz Vites     1301-1600 cc       76-100 BG   \n",
       "9030  Benzin/LPG            Düz Vites     1601-1800 cc       76-100 BG   \n",
       "9031  Benzin/LPG            Düz Vites     1301-1600 cc        51-75 BG   \n",
       "9032  Benzin/LPG            Düz Vites     1301-1600 cc       76-100 BG   \n",
       "9033      Benzin            Düz Vites  1300 cc ve altı  100 BG ve altı   \n",
       "9034  Benzin/LPG            Düz Vites     1301-1600 cc        51-75 BG   \n",
       "9035  Benzin/LPG            Düz Vites     1301-1600 cc  100 BG ve altı   \n",
       "9036  Benzin/LPG            Düz Vites     1301-1600 cc       76-100 BG   \n",
       "9037  Benzin/LPG            Düz Vites     1601-1800 cc       76-100 BG   \n",
       "9038  Benzin/LPG            Düz Vites     1601-1800 cc       76-100 BG   \n",
       "9039  Benzin/LPG            Düz Vites     1301-1600 cc        51-75 BG   \n",
       "9040  Benzin/LPG            Düz Vites     1301-1600 cc       76-100 BG   \n",
       "9041  Benzin/LPG            Düz Vites     1301-1600 cc       76-100 BG   \n",
       "9042  Benzin/LPG            Düz Vites     1601-1800 cc       76-100 BG   \n",
       "9043  Benzin/LPG            Düz Vites     1301-1600 cc        51-75 BG   \n",
       "\n",
       "             Renk         Kasa Tipi      Kimden  Durum      Km   Fiyat  \n",
       "0       Lacivert   Hatchback 5 Kapı   Galeriden  2. El   26100  634500  \n",
       "1           Mavi              Sedan  Sahibinden  2. El  127000  151500  \n",
       "2        Turkuaz              Sedan  Sahibinden  2. El  175000   19750  \n",
       "3     Kahverengi              Sedan  Sahibinden  2. El     325   52000  \n",
       "4          Beyaz              Sedan  Sahibinden  2. El  207000  148750  \n",
       "5       Lacivert           Roadster   Galeriden  2. El  320000   42500  \n",
       "6        Kırmızı              Sedan   Galeriden  2. El     183  170000  \n",
       "7          Beyaz   Hatchback 5 Kapı  Sahibinden  2. El   79000   82500  \n",
       "8          Beyaz              Sedan     Yetkili   0 km   15662  189000  \n",
       "9            Gri              Sedan     Yetkili   0 km   31971  189000  \n",
       "10         Siyah   Hatchback 5 Kapı  Sahibinden  2. El  252000   36750  \n",
       "11           Gri              Sedan   Galeriden  2. El  232000   52000  \n",
       "12         Siyah   Hatchback 5 Kapı  Sahibinden  2. El  168000   84000  \n",
       "13         Beyaz   Hatchback 5 Kapı   Galeriden  2. El  230000   32000  \n",
       "14      Lacivert              Sedan  Sahibinden  2. El   18000   34500  \n",
       "15         Siyah              Sedan   Galeriden  2. El  249000  235000  \n",
       "16          Füme   Hatchback 5 Kapı   Galeriden  2. El   70000   97500  \n",
       "17         Siyah              Sedan   Galeriden  2. El  210000  234900  \n",
       "18    Kahverengi              Sedan  Sahibinden  2. El  240000   50000  \n",
       "19         Siyah        Arazi Aracı   Galeriden  2. El   54000  457500  \n",
       "20           Gri              Diğer     Yetkili   0 km   13500  175000  \n",
       "21           Gri              Diğer     Yetkili   0 km   14000  175000  \n",
       "22     Gümüş Gri        Arazi Aracı   Galeriden  2. El     270   82500  \n",
       "23          Mavi              Sedan   Galeriden   0 km   29550  173900  \n",
       "24         Diğer              Diğer     Yetkili   0 km   16563  179250  \n",
       "25         Diğer              Diğer     Yetkili   0 km   11281  179250  \n",
       "26         Bordo              Sedan  Sahibinden  2. El  150000   34000  \n",
       "27         Bordo              Sedan  Sahibinden  2. El  150000   34000  \n",
       "28          Mavi   Hatchback 5 Kapı   Galeriden  2. El   70000   77500  \n",
       "29         Siyah   Hatchback 5 Kapı  Sahibinden  2. El     182   62000  \n",
       "...           ...               ...         ...    ...     ...     ...  \n",
       "9014       Yeşil              Sedan   Galeriden  2. El  150000   17500  \n",
       "9015       Beyaz              Sedan   Galeriden  2. El   99000   25000  \n",
       "9016       Beyaz              Sedan   Galeriden  2. El   99000   18000  \n",
       "9017        Krem              Sedan   Galeriden  2. El  100000   13500  \n",
       "9018       Beyaz   Hatchback 5 Kapı   Galeriden  2. El  111222   16000  \n",
       "9019       Beyaz              Sedan   Galeriden  2. El  250000   16500  \n",
       "9020       Beyaz              Sedan   Galeriden  2. El  123456   17500  \n",
       "9021       Siyah              Sedan  Sahibinden  2. El       0   13500  \n",
       "9022       Beyaz              Diğer  Sahibinden  2. El   46000   19250  \n",
       "9023       Yeşil              Sedan  Sahibinden  2. El  165000   14200  \n",
       "9024     Kırmızı              Sedan  Sahibinden  2. El  134000   20500  \n",
       "9025     Kırmızı              Sedan  Sahibinden  2. El  134000   20500  \n",
       "9026       Beyaz              Sedan   Galeriden  2. El     100   19250  \n",
       "9027       Bordo      Station Wagon   Galeriden  2. El     124   21500  \n",
       "9028       Beyaz              Sedan   Galeriden  2. El  150000   16000  \n",
       "9029     Kırmızı              Sedan   Galeriden  2. El  111111   16500  \n",
       "9030   Gümüş Gri              Sedan  Sahibinden  2. El  100000   18500  \n",
       "9031        Füme              Sedan  Sahibinden  2. El   96750   15500  \n",
       "9032        Mavi              Sedan   Galeriden  2. El     234   10500  \n",
       "9033       Beyaz   Hatchback 5 Kapı   Galeriden  2. El  220000   49500  \n",
       "9034   Bal Rengi              Sedan   Galeriden  2. El   67890   16000  \n",
       "9035        Füme              Sedan   Galeriden  2. El     233   11000  \n",
       "9036   Gümüş Gri              Sedan  Sahibinden  2. El   98800   14000  \n",
       "9037         Gri              Sedan   Galeriden  2. El  176000   20900  \n",
       "9038       Beyaz      Station Wagon   Galeriden  2. El     198   19950  \n",
       "9039       Beyaz              Sedan   Galeriden  2. El  121212   12250  \n",
       "9040         Bej              Sedan  Sahibinden  2. El   54000   16300  \n",
       "9041       Yeşil              Sedan  Sahibinden  2. El  135000   19000  \n",
       "9042     Kırmızı   Hatchback 5 Kapı   Galeriden  2. El  250000   11000  \n",
       "9043       Beyaz              Sedan   Galeriden  2. El      11   15750  \n",
       "\n",
       "[9044 rows x 15 columns]"
      ]
     },
     "execution_count": 144,
     "metadata": {},
     "output_type": "execute_result"
    }
   ],
   "source": [
    "t= pd.read_csv(\"turkey_car_market.csv\",sep=\",\")\n",
    "t"
   ]
  },
  {
   "cell_type": "code",
   "execution_count": 146,
   "metadata": {},
   "outputs": [
    {
     "data": {
      "text/html": [
       "<div>\n",
       "<style scoped>\n",
       "    .dataframe tbody tr th:only-of-type {\n",
       "        vertical-align: middle;\n",
       "    }\n",
       "\n",
       "    .dataframe tbody tr th {\n",
       "        vertical-align: top;\n",
       "    }\n",
       "\n",
       "    .dataframe thead th {\n",
       "        text-align: right;\n",
       "    }\n",
       "</style>\n",
       "<table border=\"1\" class=\"dataframe\">\n",
       "  <thead>\n",
       "    <tr style=\"text-align: right;\">\n",
       "      <th></th>\n",
       "      <th>count</th>\n",
       "      <th>mean</th>\n",
       "      <th>std</th>\n",
       "      <th>min</th>\n",
       "      <th>25%</th>\n",
       "      <th>50%</th>\n",
       "      <th>75%</th>\n",
       "      <th>max</th>\n",
       "    </tr>\n",
       "  </thead>\n",
       "  <tbody>\n",
       "    <tr>\n",
       "      <th>Model Yıl</th>\n",
       "      <td>9044.0</td>\n",
       "      <td>2011.824082</td>\n",
       "      <td>6.609711</td>\n",
       "      <td>1959.0</td>\n",
       "      <td>2010.0</td>\n",
       "      <td>2014.0</td>\n",
       "      <td>2017.0</td>\n",
       "      <td>2020.0</td>\n",
       "    </tr>\n",
       "    <tr>\n",
       "      <th>Km</th>\n",
       "      <td>9044.0</td>\n",
       "      <td>135812.800862</td>\n",
       "      <td>93421.522813</td>\n",
       "      <td>0.0</td>\n",
       "      <td>68000.0</td>\n",
       "      <td>125000.0</td>\n",
       "      <td>194130.0</td>\n",
       "      <td>1850000.0</td>\n",
       "    </tr>\n",
       "    <tr>\n",
       "      <th>Fiyat</th>\n",
       "      <td>9044.0</td>\n",
       "      <td>148069.638655</td>\n",
       "      <td>221977.857167</td>\n",
       "      <td>5500.0</td>\n",
       "      <td>60937.5</td>\n",
       "      <td>95500.0</td>\n",
       "      <td>153562.5</td>\n",
       "      <td>5086500.0</td>\n",
       "    </tr>\n",
       "  </tbody>\n",
       "</table>\n",
       "</div>"
      ],
      "text/plain": [
       "            count           mean            std     min      25%       50%  \\\n",
       "Model Yıl  9044.0    2011.824082       6.609711  1959.0   2010.0    2014.0   \n",
       "Km         9044.0  135812.800862   93421.522813     0.0  68000.0  125000.0   \n",
       "Fiyat      9044.0  148069.638655  221977.857167  5500.0  60937.5   95500.0   \n",
       "\n",
       "                75%        max  \n",
       "Model Yıl    2017.0     2020.0  \n",
       "Km         194130.0  1850000.0  \n",
       "Fiyat      153562.5  5086500.0  "
      ]
     },
     "execution_count": 146,
     "metadata": {},
     "output_type": "execute_result"
    }
   ],
   "source": [
    "t.dropna().describe().T "
   ]
  },
  {
   "cell_type": "code",
   "execution_count": 118,
   "metadata": {},
   "outputs": [
    {
     "data": {
      "text/plain": [
       "Car_Name\n",
       "800                          0.350000\n",
       "Activa 3g                    0.310000\n",
       "Activa 4g                    0.400000\n",
       "Bajaj  ct 100                0.180000\n",
       "Bajaj Avenger 150            0.750000\n",
       "Bajaj Avenger 150 street     0.600000\n",
       "Bajaj Avenger 220            0.790000\n",
       "Bajaj Avenger 220 dtsi       0.525000\n",
       "Bajaj Avenger Street 220     0.450000\n",
       "Bajaj Discover 100           0.270000\n",
       "Bajaj Discover 125           0.175000\n",
       "Bajaj Dominar 400            1.450000\n",
       "Bajaj Pulsar  NS 200         0.600000\n",
       "Bajaj Pulsar 135 LS          0.400000\n",
       "Bajaj Pulsar 150             0.300000\n",
       "Bajaj Pulsar 220 F           0.515000\n",
       "Bajaj Pulsar NS 200          0.483333\n",
       "Bajaj Pulsar RS200           1.050000\n",
       "Hero  CBZ Xtreme             0.200000\n",
       "Hero  Ignitor Disc           0.200000\n",
       "Hero Extreme                 0.600000\n",
       "Hero Glamour                 0.250000\n",
       "Hero Honda CBZ extreme       0.380000\n",
       "Hero Honda Passion Pro       0.300000\n",
       "Hero Hunk                    0.200000\n",
       "Hero Passion Pro             0.425000\n",
       "Hero Passion X pro           0.500000\n",
       "Hero Splender Plus           0.300000\n",
       "Hero Splender iSmart         0.425000\n",
       "Hero Super Splendor          0.200000\n",
       "                              ...    \n",
       "ciaz                         7.472222\n",
       "city                         7.419231\n",
       "corolla                      1.500000\n",
       "corolla altis                7.183125\n",
       "creta                       11.800000\n",
       "dzire                        4.475000\n",
       "elantra                     11.600000\n",
       "eon                          2.900000\n",
       "ertiga                       6.775000\n",
       "etios cross                  4.633333\n",
       "etios g                      4.266667\n",
       "etios gd                     4.750000\n",
       "etios liva                   3.700000\n",
       "fortuner                    18.685455\n",
       "grand i10                    4.943750\n",
       "i10                          3.060000\n",
       "i20                          4.766667\n",
       "ignis                        4.900000\n",
       "innova                      12.777778\n",
       "jazz                         5.828571\n",
       "land cruiser                35.000000\n",
       "omni                         1.250000\n",
       "ritz                         2.862500\n",
       "s cross                      6.500000\n",
       "swift                        4.540000\n",
       "sx4                          3.158333\n",
       "verna                        6.107857\n",
       "vitara brezza                9.250000\n",
       "wagon r                      2.512500\n",
       "xcent                        4.966667\n",
       "Name: Selling_Price, Length: 98, dtype: float64"
      ]
     },
     "execution_count": 118,
     "metadata": {},
     "output_type": "execute_result"
    }
   ],
   "source": [
    "t.groupby(\"Car_Name\")[\"Selling_Price\"].mean()"
   ]
  },
  {
   "cell_type": "code",
   "execution_count": 109,
   "metadata": {},
   "outputs": [
    {
     "data": {
      "text/html": [
       "<div>\n",
       "<style scoped>\n",
       "    .dataframe tbody tr th:only-of-type {\n",
       "        vertical-align: middle;\n",
       "    }\n",
       "\n",
       "    .dataframe tbody tr th {\n",
       "        vertical-align: top;\n",
       "    }\n",
       "\n",
       "    .dataframe thead th {\n",
       "        text-align: right;\n",
       "    }\n",
       "</style>\n",
       "<table border=\"1\" class=\"dataframe\">\n",
       "  <thead>\n",
       "    <tr style=\"text-align: right;\">\n",
       "      <th></th>\n",
       "      <th>1 2</th>\n",
       "    </tr>\n",
       "  </thead>\n",
       "  <tbody>\n",
       "    <tr>\n",
       "      <th>0</th>\n",
       "      <td>2 2</td>\n",
       "    </tr>\n",
       "    <tr>\n",
       "      <th>1</th>\n",
       "      <td>3 2</td>\n",
       "    </tr>\n",
       "    <tr>\n",
       "      <th>2</th>\n",
       "      <td>4 2</td>\n",
       "    </tr>\n",
       "    <tr>\n",
       "      <th>3</th>\n",
       "      <td>5 2</td>\n",
       "    </tr>\n",
       "    <tr>\n",
       "      <th>4</th>\n",
       "      <td>6 2</td>\n",
       "    </tr>\n",
       "    <tr>\n",
       "      <th>5</th>\n",
       "      <td>7 2</td>\n",
       "    </tr>\n",
       "    <tr>\n",
       "      <th>6</th>\n",
       "      <td>8 2</td>\n",
       "    </tr>\n",
       "    <tr>\n",
       "      <th>7</th>\n",
       "      <td>9 2</td>\n",
       "    </tr>\n",
       "    <tr>\n",
       "      <th>8</th>\n",
       "      <td>10 2</td>\n",
       "    </tr>\n",
       "  </tbody>\n",
       "</table>\n",
       "</div>"
      ],
      "text/plain": [
       "    1 2\n",
       "0   2 2\n",
       "1   3 2\n",
       "2   4 2\n",
       "3   5 2\n",
       "4   6 2\n",
       "5  7 2 \n",
       "6   8 2\n",
       "7   9 2\n",
       "8  10 2"
      ]
     },
     "execution_count": 109,
     "metadata": {},
     "output_type": "execute_result"
    }
   ],
   "source": [
    "pd.read_csv(\"duz_metin.txt\",sep=\";\")"
   ]
  },
  {
   "cell_type": "code",
   "execution_count": 111,
   "metadata": {},
   "outputs": [
    {
     "data": {
      "text/html": [
       "<div>\n",
       "<style scoped>\n",
       "    .dataframe tbody tr th:only-of-type {\n",
       "        vertical-align: middle;\n",
       "    }\n",
       "\n",
       "    .dataframe tbody tr th {\n",
       "        vertical-align: top;\n",
       "    }\n",
       "\n",
       "    .dataframe thead th {\n",
       "        text-align: right;\n",
       "    }\n",
       "</style>\n",
       "<table border=\"1\" class=\"dataframe\">\n",
       "  <thead>\n",
       "    <tr style=\"text-align: right;\">\n",
       "      <th></th>\n",
       "      <th>a</th>\n",
       "      <th>b</th>\n",
       "      <th>c</th>\n",
       "    </tr>\n",
       "  </thead>\n",
       "  <tbody>\n",
       "    <tr>\n",
       "      <th>0</th>\n",
       "      <td>78</td>\n",
       "      <td>12</td>\n",
       "      <td>1.0</td>\n",
       "    </tr>\n",
       "    <tr>\n",
       "      <th>1</th>\n",
       "      <td>78</td>\n",
       "      <td>12</td>\n",
       "      <td>2.0</td>\n",
       "    </tr>\n",
       "    <tr>\n",
       "      <th>2</th>\n",
       "      <td>78</td>\n",
       "      <td>324</td>\n",
       "      <td>3.0</td>\n",
       "    </tr>\n",
       "    <tr>\n",
       "      <th>3</th>\n",
       "      <td>7</td>\n",
       "      <td>2</td>\n",
       "      <td>4.0</td>\n",
       "    </tr>\n",
       "    <tr>\n",
       "      <th>4</th>\n",
       "      <td>88</td>\n",
       "      <td>23</td>\n",
       "      <td>5.0</td>\n",
       "    </tr>\n",
       "    <tr>\n",
       "      <th>5</th>\n",
       "      <td>6</td>\n",
       "      <td>2</td>\n",
       "      <td>NaN</td>\n",
       "    </tr>\n",
       "    <tr>\n",
       "      <th>6</th>\n",
       "      <td>56</td>\n",
       "      <td>11</td>\n",
       "      <td>6.0</td>\n",
       "    </tr>\n",
       "    <tr>\n",
       "      <th>7</th>\n",
       "      <td>7</td>\n",
       "      <td>12</td>\n",
       "      <td>7.0</td>\n",
       "    </tr>\n",
       "    <tr>\n",
       "      <th>8</th>\n",
       "      <td>56</td>\n",
       "      <td>21</td>\n",
       "      <td>7.0</td>\n",
       "    </tr>\n",
       "    <tr>\n",
       "      <th>9</th>\n",
       "      <td>346</td>\n",
       "      <td>2</td>\n",
       "      <td>8.0</td>\n",
       "    </tr>\n",
       "    <tr>\n",
       "      <th>10</th>\n",
       "      <td>5</td>\n",
       "      <td>1</td>\n",
       "      <td>8.0</td>\n",
       "    </tr>\n",
       "    <tr>\n",
       "      <th>11</th>\n",
       "      <td>456</td>\n",
       "      <td>21</td>\n",
       "      <td>8.0</td>\n",
       "    </tr>\n",
       "    <tr>\n",
       "      <th>12</th>\n",
       "      <td>3</td>\n",
       "      <td>12</td>\n",
       "      <td>88.0</td>\n",
       "    </tr>\n",
       "  </tbody>\n",
       "</table>\n",
       "</div>"
      ],
      "text/plain": [
       "      a    b     c\n",
       "0    78   12   1.0\n",
       "1    78   12   2.0\n",
       "2    78  324   3.0\n",
       "3     7    2   4.0\n",
       "4    88   23   5.0\n",
       "5     6    2   NaN\n",
       "6    56   11   6.0\n",
       "7     7   12   7.0\n",
       "8    56   21   7.0\n",
       "9   346    2   8.0\n",
       "10    5    1   8.0\n",
       "11  456   21   8.0\n",
       "12    3   12  88.0"
      ]
     },
     "execution_count": 111,
     "metadata": {},
     "output_type": "execute_result"
    }
   ],
   "source": [
    "pd.read_excel(\"ornekx.xlsx\")"
   ]
  },
  {
   "cell_type": "code",
   "execution_count": null,
   "metadata": {},
   "outputs": [],
   "source": []
  }
 ],
 "metadata": {
  "kernelspec": {
   "display_name": "Python 3",
   "language": "python",
   "name": "python3"
  },
  "language_info": {
   "codemirror_mode": {
    "name": "ipython",
    "version": 3
   },
   "file_extension": ".py",
   "mimetype": "text/x-python",
   "name": "python",
   "nbconvert_exporter": "python",
   "pygments_lexer": "ipython3",
   "version": "3.7.1"
  }
 },
 "nbformat": 4,
 "nbformat_minor": 2
}
